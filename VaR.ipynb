{
 "cells": [
  {
   "cell_type": "code",
   "execution_count": 1,
   "metadata": {},
   "outputs": [],
   "source": [
    "import pandas as pd \n",
    "import numpy as np \n",
    "import yfinance as yf\n",
    "import matplotlib.pyplot as plt \n",
    "import seaborn as sns; sns.set()\n",
    "import pyvinecopulib as pv\n",
    "import statsmodels.api as sm\n",
    "import statsmodels.formula.api as smf"
   ]
  },
  {
   "cell_type": "code",
   "execution_count": 2,
   "metadata": {},
   "outputs": [
    {
     "name": "stdout",
     "output_type": "stream",
     "text": [
      "[*********************100%***********************]  6 of 6 completed\n"
     ]
    }
   ],
   "source": [
    "#data = yf.download([\"AAPL\", \"GOOG\", \"BAS.DE\", \"BMW.DE\", \"RWE.DE\", \"DBK.DE\"], start = \"2010-01-01\", end = \"2018-12-31\") #\"GOOG\", \"BAS.DE\", \"BMW.DE\", \"RWE.DE\", \"DBK.DE\""
   ]
  },
  {
   "cell_type": "code",
   "execution_count": 25,
   "metadata": {},
   "outputs": [],
   "source": [
    "import pickle\n",
    "#pickle.dump(data, open(\"data.pkl\", \"wb\"))\n",
    "data2 = pickle.load(open(\"data.pkl\", \"rb\"))"
   ]
  },
  {
   "cell_type": "code",
   "execution_count": 4,
   "metadata": {},
   "outputs": [
    {
     "data": {
      "text/html": [
       "<div>\n",
       "<style scoped>\n",
       "    .dataframe tbody tr th:only-of-type {\n",
       "        vertical-align: middle;\n",
       "    }\n",
       "\n",
       "    .dataframe tbody tr th {\n",
       "        vertical-align: top;\n",
       "    }\n",
       "\n",
       "    .dataframe thead tr th {\n",
       "        text-align: left;\n",
       "    }\n",
       "\n",
       "    .dataframe thead tr:last-of-type th {\n",
       "        text-align: right;\n",
       "    }\n",
       "</style>\n",
       "<table border=\"1\" class=\"dataframe\">\n",
       "  <thead>\n",
       "    <tr>\n",
       "      <th></th>\n",
       "      <th colspan=\"6\" halign=\"left\">Adj Close</th>\n",
       "      <th colspan=\"4\" halign=\"left\">Close</th>\n",
       "      <th>...</th>\n",
       "      <th colspan=\"4\" halign=\"left\">Open</th>\n",
       "      <th colspan=\"6\" halign=\"left\">Volume</th>\n",
       "    </tr>\n",
       "    <tr>\n",
       "      <th></th>\n",
       "      <th>AAPL</th>\n",
       "      <th>BAS.DE</th>\n",
       "      <th>BMW.DE</th>\n",
       "      <th>DBK.DE</th>\n",
       "      <th>GOOG</th>\n",
       "      <th>RWE.DE</th>\n",
       "      <th>AAPL</th>\n",
       "      <th>BAS.DE</th>\n",
       "      <th>BMW.DE</th>\n",
       "      <th>DBK.DE</th>\n",
       "      <th>...</th>\n",
       "      <th>BMW.DE</th>\n",
       "      <th>DBK.DE</th>\n",
       "      <th>GOOG</th>\n",
       "      <th>RWE.DE</th>\n",
       "      <th>AAPL</th>\n",
       "      <th>BAS.DE</th>\n",
       "      <th>BMW.DE</th>\n",
       "      <th>DBK.DE</th>\n",
       "      <th>GOOG</th>\n",
       "      <th>RWE.DE</th>\n",
       "    </tr>\n",
       "    <tr>\n",
       "      <th>Date</th>\n",
       "      <th></th>\n",
       "      <th></th>\n",
       "      <th></th>\n",
       "      <th></th>\n",
       "      <th></th>\n",
       "      <th></th>\n",
       "      <th></th>\n",
       "      <th></th>\n",
       "      <th></th>\n",
       "      <th></th>\n",
       "      <th></th>\n",
       "      <th></th>\n",
       "      <th></th>\n",
       "      <th></th>\n",
       "      <th></th>\n",
       "      <th></th>\n",
       "      <th></th>\n",
       "      <th></th>\n",
       "      <th></th>\n",
       "      <th></th>\n",
       "      <th></th>\n",
       "    </tr>\n",
       "  </thead>\n",
       "  <tbody>\n",
       "    <tr>\n",
       "      <th>2010-01-04</th>\n",
       "      <td>6.496294</td>\n",
       "      <td>22.398518</td>\n",
       "      <td>17.768673</td>\n",
       "      <td>31.223446</td>\n",
       "      <td>15.610239</td>\n",
       "      <td>38.295723</td>\n",
       "      <td>7.643214</td>\n",
       "      <td>44.849998</td>\n",
       "      <td>32.049999</td>\n",
       "      <td>39.474529</td>\n",
       "      <td>...</td>\n",
       "      <td>31.820000</td>\n",
       "      <td>38.837593</td>\n",
       "      <td>15.615220</td>\n",
       "      <td>68.222816</td>\n",
       "      <td>493729600.0</td>\n",
       "      <td>3245626.0</td>\n",
       "      <td>1808170.0</td>\n",
       "      <td>4425924.0</td>\n",
       "      <td>78541293.0</td>\n",
       "      <td>2022078.0</td>\n",
       "    </tr>\n",
       "    <tr>\n",
       "      <th>2010-01-05</th>\n",
       "      <td>6.507525</td>\n",
       "      <td>22.058914</td>\n",
       "      <td>17.912819</td>\n",
       "      <td>31.727242</td>\n",
       "      <td>15.541497</td>\n",
       "      <td>38.051376</td>\n",
       "      <td>7.656429</td>\n",
       "      <td>44.169998</td>\n",
       "      <td>32.310001</td>\n",
       "      <td>40.111465</td>\n",
       "      <td>...</td>\n",
       "      <td>31.959999</td>\n",
       "      <td>39.381317</td>\n",
       "      <td>15.620949</td>\n",
       "      <td>68.770988</td>\n",
       "      <td>601904800.0</td>\n",
       "      <td>3292371.0</td>\n",
       "      <td>1564182.0</td>\n",
       "      <td>5950810.0</td>\n",
       "      <td>120638494.0</td>\n",
       "      <td>2040667.0</td>\n",
       "    </tr>\n",
       "    <tr>\n",
       "      <th>2010-01-06</th>\n",
       "      <td>6.404014</td>\n",
       "      <td>22.198751</td>\n",
       "      <td>18.190020</td>\n",
       "      <td>31.395483</td>\n",
       "      <td>15.149715</td>\n",
       "      <td>37.979187</td>\n",
       "      <td>7.534643</td>\n",
       "      <td>44.450001</td>\n",
       "      <td>32.810001</td>\n",
       "      <td>39.692020</td>\n",
       "      <td>...</td>\n",
       "      <td>32.450001</td>\n",
       "      <td>39.909512</td>\n",
       "      <td>15.588072</td>\n",
       "      <td>68.202881</td>\n",
       "      <td>552160000.0</td>\n",
       "      <td>2345128.0</td>\n",
       "      <td>2218604.0</td>\n",
       "      <td>5818935.0</td>\n",
       "      <td>159744526.0</td>\n",
       "      <td>1535087.0</td>\n",
       "    </tr>\n",
       "    <tr>\n",
       "      <th>2010-01-07</th>\n",
       "      <td>6.392176</td>\n",
       "      <td>22.051424</td>\n",
       "      <td>18.350796</td>\n",
       "      <td>31.536789</td>\n",
       "      <td>14.797037</td>\n",
       "      <td>37.818142</td>\n",
       "      <td>7.520714</td>\n",
       "      <td>44.154999</td>\n",
       "      <td>33.099998</td>\n",
       "      <td>39.870674</td>\n",
       "      <td>...</td>\n",
       "      <td>32.650002</td>\n",
       "      <td>39.381317</td>\n",
       "      <td>15.178109</td>\n",
       "      <td>67.923813</td>\n",
       "      <td>477131200.0</td>\n",
       "      <td>2505352.0</td>\n",
       "      <td>2026145.0</td>\n",
       "      <td>4506202.0</td>\n",
       "      <td>257533695.0</td>\n",
       "      <td>1765257.0</td>\n",
       "    </tr>\n",
       "    <tr>\n",
       "      <th>2010-01-08</th>\n",
       "      <td>6.434674</td>\n",
       "      <td>21.984009</td>\n",
       "      <td>18.104084</td>\n",
       "      <td>32.685703</td>\n",
       "      <td>14.994298</td>\n",
       "      <td>37.762604</td>\n",
       "      <td>7.570714</td>\n",
       "      <td>44.020000</td>\n",
       "      <td>32.654999</td>\n",
       "      <td>41.323200</td>\n",
       "      <td>...</td>\n",
       "      <td>33.334999</td>\n",
       "      <td>40.740635</td>\n",
       "      <td>14.744733</td>\n",
       "      <td>68.133118</td>\n",
       "      <td>447610800.0</td>\n",
       "      <td>3307737.0</td>\n",
       "      <td>1925894.0</td>\n",
       "      <td>10753806.0</td>\n",
       "      <td>189680313.0</td>\n",
       "      <td>1665122.0</td>\n",
       "    </tr>\n",
       "  </tbody>\n",
       "</table>\n",
       "<p>5 rows × 36 columns</p>\n",
       "</div>"
      ],
      "text/plain": [
       "           Adj Close                                                         \\\n",
       "                AAPL     BAS.DE     BMW.DE     DBK.DE       GOOG     RWE.DE   \n",
       "Date                                                                          \n",
       "2010-01-04  6.496294  22.398518  17.768673  31.223446  15.610239  38.295723   \n",
       "2010-01-05  6.507525  22.058914  17.912819  31.727242  15.541497  38.051376   \n",
       "2010-01-06  6.404014  22.198751  18.190020  31.395483  15.149715  37.979187   \n",
       "2010-01-07  6.392176  22.051424  18.350796  31.536789  14.797037  37.818142   \n",
       "2010-01-08  6.434674  21.984009  18.104084  32.685703  14.994298  37.762604   \n",
       "\n",
       "               Close                                   ...       Open  \\\n",
       "                AAPL     BAS.DE     BMW.DE     DBK.DE  ...     BMW.DE   \n",
       "Date                                                   ...              \n",
       "2010-01-04  7.643214  44.849998  32.049999  39.474529  ...  31.820000   \n",
       "2010-01-05  7.656429  44.169998  32.310001  40.111465  ...  31.959999   \n",
       "2010-01-06  7.534643  44.450001  32.810001  39.692020  ...  32.450001   \n",
       "2010-01-07  7.520714  44.154999  33.099998  39.870674  ...  32.650002   \n",
       "2010-01-08  7.570714  44.020000  32.654999  41.323200  ...  33.334999   \n",
       "\n",
       "                                                  Volume             \\\n",
       "               DBK.DE       GOOG     RWE.DE         AAPL     BAS.DE   \n",
       "Date                                                                  \n",
       "2010-01-04  38.837593  15.615220  68.222816  493729600.0  3245626.0   \n",
       "2010-01-05  39.381317  15.620949  68.770988  601904800.0  3292371.0   \n",
       "2010-01-06  39.909512  15.588072  68.202881  552160000.0  2345128.0   \n",
       "2010-01-07  39.381317  15.178109  67.923813  477131200.0  2505352.0   \n",
       "2010-01-08  40.740635  14.744733  68.133118  447610800.0  3307737.0   \n",
       "\n",
       "                                                           \n",
       "               BMW.DE      DBK.DE         GOOG     RWE.DE  \n",
       "Date                                                       \n",
       "2010-01-04  1808170.0   4425924.0   78541293.0  2022078.0  \n",
       "2010-01-05  1564182.0   5950810.0  120638494.0  2040667.0  \n",
       "2010-01-06  2218604.0   5818935.0  159744526.0  1535087.0  \n",
       "2010-01-07  2026145.0   4506202.0  257533695.0  1765257.0  \n",
       "2010-01-08  1925894.0  10753806.0  189680313.0  1665122.0  \n",
       "\n",
       "[5 rows x 36 columns]"
      ]
     },
     "execution_count": 4,
     "metadata": {},
     "output_type": "execute_result"
    }
   ],
   "source": [
    "data.head()"
   ]
  },
  {
   "cell_type": "code",
   "execution_count": 5,
   "metadata": {},
   "outputs": [],
   "source": [
    "data = data[\"Adj Close\"]"
   ]
  },
  {
   "cell_type": "code",
   "execution_count": 6,
   "metadata": {},
   "outputs": [],
   "source": [
    "def logtransform(data):\n",
    "    data = pd.DataFrame(np.diff(np.log(data[1:]), axis=0), columns=data.columns)\n",
    "    return data"
   ]
  },
  {
   "cell_type": "code",
   "execution_count": 7,
   "metadata": {},
   "outputs": [],
   "source": [
    "data = logtransform(data)"
   ]
  },
  {
   "cell_type": "code",
   "execution_count": 8,
   "metadata": {},
   "outputs": [],
   "source": [
    "data = data.dropna(axis=0)"
   ]
  },
  {
   "cell_type": "code",
   "execution_count": 28,
   "metadata": {},
   "outputs": [
    {
     "data": {
      "image/png": "[encoded data removed]",
      "text/plain": [
       "<Figure size 640x480 with 1 Axes>"
      ]
     },
     "metadata": {},
     "output_type": "display_data"
    }
   ],
   "source": [
    "sns.lineplot(data = data);"
   ]
  },
  {
   "cell_type": "code",
   "execution_count": 105,
   "metadata": {},
   "outputs": [],
   "source": [
    "data = data*100"
   ]
  },
  {
   "cell_type": "code",
   "execution_count": 169,
   "metadata": {},
   "outputs": [],
   "source": [
    "data.reset_index(inplace=True)"
   ]
  },
  {
   "cell_type": "code",
   "execution_count": 170,
   "metadata": {},
   "outputs": [],
   "source": [
    "PF = data.mean(axis=1)"
   ]
  },
  {
   "cell_type": "code",
   "execution_count": 171,
   "metadata": {},
   "outputs": [
    {
     "data": {
      "image/png": "[encoded data removed]",
      "text/plain": [
       "<Figure size 640x480 with 1 Axes>"
      ]
     },
     "metadata": {},
     "output_type": "display_data"
    }
   ],
   "source": [
    "sns.lineplot(x = PF.index, y = PF);"
   ]
  },
  {
   "attachments": {},
   "cell_type": "markdown",
   "metadata": {},
   "source": [
    "GARCH"
   ]
  },
  {
   "attachments": {},
   "cell_type": "markdown",
   "metadata": {},
   "source": [
    "Estimate GARCH models for each return series $j=1,...,K$ and $t=1,..,T$\n",
    "\n",
    "$r_{t,j} = \\mu_{t,j}  + \\epsilon_{t,j}$\n",
    "\n",
    "$\\epsilon_{t,j} = \\sigma_{t,j} Z_{t,j} $\n",
    "\n",
    "\n",
    "${\\sigma_{t,j}}^2 = \\omega_j +  \\alpha_{k,j} \\varepsilon_{t-1,j}^2 + \\beta_{k,j} \\sigma_{t-1,j}^2$ \n",
    "\n",
    "$Z_{t,j}$ as assumed innovation distribution and standardized residuals as \n",
    "\n",
    "$\\hat{z}_{t,j} = \\frac{1}{\\hat{\\sigma}_{t,j}} \\Bigl(  r_{t,j} - \\hat{\\mu}_j       \\Bigr)$\n"
   ]
  },
  {
   "cell_type": "code",
   "execution_count": 172,
   "metadata": {},
   "outputs": [],
   "source": [
    "from arch import arch_model"
   ]
  },
  {
   "cell_type": "code",
   "execution_count": 173,
   "metadata": {},
   "outputs": [],
   "source": [
    "def fit_model(data):\n",
    "    am = arch_model(data, vol=\"Garch\", p=1, o=0, q=1, dist=\"skewt\", mean='constant')\n",
    "\n",
    "    res = am.fit()\n",
    "\n",
    "    return res\n",
    "\n"
   ]
  },
  {
   "cell_type": "code",
   "execution_count": 174,
   "metadata": {},
   "outputs": [
    {
     "name": "stderr",
     "output_type": "stream",
     "text": [
      "c:\\Users\\morit\\anaconda3\\envs\\copulagarch\\lib\\site-packages\\arch\\univariate\\base.py:309: DataScaleWarning: y is poorly scaled, which may affect convergence of the optimizer when\n",
      "estimating the model parameters. The scale of y is 4.505e+05. Parameter\n",
      "estimation work better when this value is between 1 and 1000. The recommended\n",
      "rescaling is 0.1 * y.\n",
      "\n",
      "This warning can be disabled by either rescaling y before initializing the\n",
      "model or by setting rescale=False.\n",
      "\n",
      "  warnings.warn(\n"
     ]
    },
    {
     "name": "stdout",
     "output_type": "stream",
     "text": [
      "Iteration:      1,   Func. Count:      8,   Neg. LLF: 15758.675594591605\n",
      "Iteration:      2,   Func. Count:     15,   Neg. LLF: 575841.8298330114\n",
      "Iteration:      3,   Func. Count:     23,   Neg. LLF: 1536432.794463513\n",
      "Iteration:      4,   Func. Count:     31,   Neg. LLF: 957002.2076260807\n",
      "Iteration:      5,   Func. Count:     39,   Neg. LLF: 764140.7969061199\n",
      "Iteration:      6,   Func. Count:     47,   Neg. LLF: 163470.60464189132\n",
      "Iteration:      7,   Func. Count:     55,   Neg. LLF: 605995.8269958841\n",
      "Iteration:      8,   Func. Count:     64,   Neg. LLF: 604589.2844058109\n",
      "Iteration:      9,   Func. Count:     73,   Neg. LLF: 667372.4116341356\n",
      "Iteration:     10,   Func. Count:     82,   Neg. LLF: 703082.9308229012\n",
      "Iteration:     11,   Func. Count:     91,   Neg. LLF: 725717.1258879998\n",
      "Iteration:     12,   Func. Count:    100,   Neg. LLF: 693120.507647845\n",
      "Iteration:     13,   Func. Count:    109,   Neg. LLF: 228610.8267124277\n",
      "Iteration:     14,   Func. Count:    119,   Neg. LLF: 92088.53233488456\n",
      "Iteration:     15,   Func. Count:    128,   Neg. LLF: 25609.35620528528\n",
      "Iteration:     16,   Func. Count:    137,   Neg. LLF: 97146.40294149051\n",
      "Iteration:     17,   Func. Count:    147,   Neg. LLF: 127123.4751217287\n",
      "Iteration:     18,   Func. Count:    157,   Neg. LLF: 17246.839256515268\n",
      "Iteration:     19,   Func. Count:    165,   Neg. LLF: 15584.736860010707\n",
      "Iteration:     20,   Func. Count:    175,   Neg. LLF: 15876.068418235747\n",
      "Iteration:     21,   Func. Count:    183,   Neg. LLF: 103769.88588496971\n",
      "Iteration:     22,   Func. Count:    192,   Neg. LLF: 15358.81498903271\n",
      "Iteration:     23,   Func. Count:    200,   Neg. LLF: 15358.254595083252\n",
      "Iteration:     24,   Func. Count:    207,   Neg. LLF: 15357.866113557999\n",
      "Iteration:     25,   Func. Count:    214,   Neg. LLF: 15357.200611626537\n",
      "Iteration:     26,   Func. Count:    221,   Neg. LLF: 15354.685088041362\n",
      "Iteration:     27,   Func. Count:    228,   Neg. LLF: 15349.811476233952\n",
      "Iteration:     28,   Func. Count:    235,   Neg. LLF: 15340.428731154707\n",
      "Iteration:     29,   Func. Count:    242,   Neg. LLF: 15310.487641875254\n",
      "Iteration:     30,   Func. Count:    249,   Neg. LLF: 15259.075670273516\n",
      "Iteration:     31,   Func. Count:    256,   Neg. LLF: 15257.29338439523\n",
      "Iteration:     32,   Func. Count:    263,   Neg. LLF: 15255.859762746968\n",
      "Iteration:     33,   Func. Count:    270,   Neg. LLF: 15255.80577295771\n",
      "Iteration:     34,   Func. Count:    277,   Neg. LLF: 15255.749702975292\n",
      "Iteration:     35,   Func. Count:    284,   Neg. LLF: 15255.400049076461\n",
      "Iteration:     36,   Func. Count:    291,   Neg. LLF: 15253.624679889512\n",
      "Iteration:     37,   Func. Count:    298,   Neg. LLF: 15246.072218754627\n",
      "Iteration:     38,   Func. Count:    305,   Neg. LLF: 15244.462741992513\n",
      "Iteration:     39,   Func. Count:    313,   Neg. LLF: 15236.82443560991\n",
      "Iteration:     40,   Func. Count:    320,   Neg. LLF: 15233.910668054708\n",
      "Iteration:     41,   Func. Count:    327,   Neg. LLF: 15229.64593389312\n",
      "Iteration:     42,   Func. Count:    334,   Neg. LLF: 37360.28321787182\n",
      "Iteration:     43,   Func. Count:    342,   Neg. LLF: 37257.63695851578\n",
      "Iteration:     44,   Func. Count:    350,   Neg. LLF: 37299.971829858754\n",
      "Iteration:     45,   Func. Count:    358,   Neg. LLF: 37299.48907314321\n",
      "Iteration:     46,   Func. Count:    366,   Neg. LLF: 20858.472804667734\n",
      "Iteration:     47,   Func. Count:    374,   Neg. LLF: 16626.19711811578\n",
      "Iteration:     48,   Func. Count:    384,   Neg. LLF: 373883.9457375625\n",
      "Iteration:     49,   Func. Count:    393,   Neg. LLF: 18896.88487930477\n",
      "Iteration:     50,   Func. Count:    402,   Neg. LLF: 15217.672833693356\n",
      "Iteration:     51,   Func. Count:    409,   Neg. LLF: 15216.478920871363\n",
      "Iteration:     52,   Func. Count:    416,   Neg. LLF: 15209.178939959118\n",
      "Iteration:     53,   Func. Count:    423,   Neg. LLF: 15225.27983620307\n",
      "Iteration:     54,   Func. Count:    431,   Neg. LLF: 15272.814280983128\n",
      "Iteration:     55,   Func. Count:    439,   Neg. LLF: 29738.921964811074\n",
      "Iteration:     56,   Func. Count:    447,   Neg. LLF: 33766.216187809165\n",
      "Iteration:     57,   Func. Count:    455,   Neg. LLF: 45717.682438116775\n",
      "Iteration:     58,   Func. Count:    463,   Neg. LLF: 103410.67365344908\n",
      "Iteration:     59,   Func. Count:    471,   Neg. LLF: 145620.58873759804\n",
      "Iteration:     60,   Func. Count:    479,   Neg. LLF: 122911.30002468328\n",
      "Iteration:     61,   Func. Count:    487,   Neg. LLF: 142608.39554116246\n",
      "Iteration:     62,   Func. Count:    495,   Neg. LLF: 58175.49158351632\n",
      "Iteration:     63,   Func. Count:    503,   Neg. LLF: 122589.37535084144\n",
      "Iteration:     64,   Func. Count:    511,   Neg. LLF: 147924.31782142914\n",
      "Iteration:     65,   Func. Count:    519,   Neg. LLF: 16105.219934446179\n",
      "Iteration:     66,   Func. Count:    527,   Neg. LLF: 15226.929749642675\n",
      "Iteration:     67,   Func. Count:    535,   Neg. LLF: 15166.126773583428\n",
      "Iteration:     68,   Func. Count:    543,   Neg. LLF: 15171.119166765677\n",
      "Iteration:     69,   Func. Count:    551,   Neg. LLF: 15167.984715295028\n",
      "Iteration:     70,   Func. Count:    559,   Neg. LLF: 16068.490920014141\n",
      "Iteration:     71,   Func. Count:    567,   Neg. LLF: 26945.710743748026\n",
      "Iteration:     72,   Func. Count:    575,   Neg. LLF: 15168.931932831783\n",
      "Iteration:     73,   Func. Count:    583,   Neg. LLF: 15178.142520432057\n",
      "Iteration:     74,   Func. Count:    591,   Neg. LLF: 15823.309435649247\n",
      "Iteration:     75,   Func. Count:    599,   Neg. LLF: 16303.137960968052\n",
      "Iteration:     76,   Func. Count:    607,   Neg. LLF: 15168.806170237593\n",
      "Iteration:     77,   Func. Count:    615,   Neg. LLF: 15174.640135624984\n",
      "Iteration:     78,   Func. Count:    623,   Neg. LLF: 15272.76128952553\n",
      "Iteration:     79,   Func. Count:    631,   Neg. LLF: 15369.933455208273\n",
      "Iteration:     80,   Func. Count:    639,   Neg. LLF: 16981.89324225273\n",
      "Iteration:     81,   Func. Count:    647,   Neg. LLF: 15530.2181916575\n",
      "Iteration:     82,   Func. Count:    655,   Neg. LLF: 15130.600613259801\n",
      "Iteration:     83,   Func. Count:    663,   Neg. LLF: 15118.514716120175\n",
      "Iteration:     84,   Func. Count:    671,   Neg. LLF: 15107.482252066884\n",
      "Iteration:     85,   Func. Count:    679,   Neg. LLF: 15093.097741703652\n",
      "Iteration:     86,   Func. Count:    686,   Neg. LLF: 15069.473640259617\n",
      "Iteration:     87,   Func. Count:    693,   Neg. LLF: 17554.518864506943\n",
      "Iteration:     88,   Func. Count:    701,   Neg. LLF: 21732.94736643434\n",
      "Iteration:     89,   Func. Count:    709,   Neg. LLF: 15131.893610020532\n",
      "Iteration:     90,   Func. Count:    717,   Neg. LLF: 15116.248754811259\n",
      "Iteration:     91,   Func. Count:    725,   Neg. LLF: 15064.72363644609\n",
      "Iteration:     92,   Func. Count:    733,   Neg. LLF: 15057.26573780876\n",
      "Iteration:     93,   Func. Count:    740,   Neg. LLF: 16171.922452219433\n",
      "Iteration:     94,   Func. Count:    748,   Neg. LLF: 15050.914952807241\n",
      "Iteration:     95,   Func. Count:    755,   Neg. LLF: 15047.616992643054\n",
      "Iteration:     96,   Func. Count:    762,   Neg. LLF: 15043.735419873243\n",
      "Iteration:     97,   Func. Count:    769,   Neg. LLF: 15230.068679486465\n",
      "Iteration:     98,   Func. Count:    776,   Neg. LLF: 15041.934099247406\n",
      "Iteration limit reached    (Exit mode 9)\n",
      "            Current function value: 15041.934124691552\n",
      "            Iterations: 100\n",
      "            Function evaluations: 776\n",
      "            Gradient evaluations: 98\n"
     ]
    },
    {
     "name": "stderr",
     "output_type": "stream",
     "text": [
      "c:\\Users\\morit\\anaconda3\\envs\\copulagarch\\lib\\site-packages\\arch\\univariate\\base.py:753: ConvergenceWarning: The optimizer returned code 9. The message is:\n",
      "Iteration limit reached\n",
      "See scipy.optimize.fmin_slsqp for code meaning.\n",
      "\n",
      "  warnings.warn(\n"
     ]
    }
   ],
   "source": [
    "fitted = fit_model(data.iloc[:,0])"
   ]
  },
  {
   "cell_type": "code",
   "execution_count": 175,
   "metadata": {},
   "outputs": [
    {
     "data": {
      "text/html": [
       "<table class=\"simpletable\">\n",
       "<caption>Constant Mean - GARCH Model Results</caption>\n",
       "<tr>\n",
       "  <th>Dep. Variable:</th>             <td>index</td>             <th>  R-squared:         </th>  <td>   0.000</td> \n",
       "</tr>\n",
       "<tr>\n",
       "  <th>Mean Model:</th>            <td>Constant Mean</td>         <th>  Adj. R-squared:    </th>  <td>   0.000</td> \n",
       "</tr>\n",
       "<tr>\n",
       "  <th>Vol Model:</th>                 <td>GARCH</td>             <th>  Log-Likelihood:    </th> <td>  -15041.9</td>\n",
       "</tr>\n",
       "<tr>\n",
       "  <th>Distribution:</th>  <td>Standardized Skew Student's t</td> <th>  AIC:               </th> <td>   30095.9</td>\n",
       "</tr>\n",
       "<tr>\n",
       "  <th>Method:</th>             <td>Maximum Likelihood</td>       <th>  BIC:               </th> <td>   30129.9</td>\n",
       "</tr>\n",
       "<tr>\n",
       "  <th></th>                             <td></td>                <th>  No. Observations:  </th>    <td>2134</td>   \n",
       "</tr>\n",
       "<tr>\n",
       "  <th>Date:</th>                <td>Sun, May 21 2023</td>        <th>  Df Residuals:      </th>    <td>2133</td>   \n",
       "</tr>\n",
       "<tr>\n",
       "  <th>Time:</th>                    <td>22:23:48</td>            <th>  Df Model:          </th>      <td>1</td>    \n",
       "</tr>\n",
       "</table>\n",
       "<table class=\"simpletable\">\n",
       "<caption>Mean Model</caption>\n",
       "<tr>\n",
       "   <td></td>     <th>coef</th>     <th>std err</th>      <th>t</th>        <th>P>|t|</th>     <th>95.0% Conf. Int.</th>   \n",
       "</tr>\n",
       "<tr>\n",
       "  <th>mu</th> <td> 1808.9416</td> <td>   68.681</td> <td>   26.338</td> <td>7.019e-153</td> <td>[1.674e+03,1.944e+03]</td>\n",
       "</tr>\n",
       "</table>\n",
       "<table class=\"simpletable\">\n",
       "<caption>Volatility Model</caption>\n",
       "<tr>\n",
       "      <td></td>        <th>coef</th>     <th>std err</th>      <th>t</th>       <th>P>|t|</th>      <th>95.0% Conf. Int.</th>   \n",
       "</tr>\n",
       "<tr>\n",
       "  <th>omega</th>    <td> 8924.2738</td> <td>  924.924</td> <td>    9.649</td> <td>4.980e-22</td>  <td>[7.111e+03,1.074e+04]</td>\n",
       "</tr>\n",
       "<tr>\n",
       "  <th>alpha[1]</th> <td>    0.7314</td> <td>1.429e-02</td> <td>   51.168</td>   <td>0.000</td>      <td>[  0.703,  0.759]</td>  \n",
       "</tr>\n",
       "<tr>\n",
       "  <th>beta[1]</th>    <td>0.0000</td>   <td>8.214e-03</td>   <td>0.000</td>   <td>    1.000</td> <td>[-1.610e-02,1.610e-02]</td>\n",
       "</tr>\n",
       "</table>\n",
       "<table class=\"simpletable\">\n",
       "<caption>Distribution</caption>\n",
       "<tr>\n",
       "     <td></td>       <th>coef</th>     <th>std err</th>      <th>t</th>        <th>P>|t|</th>   <th>95.0% Conf. Int.</th> \n",
       "</tr>\n",
       "<tr>\n",
       "  <th>eta</th>    <td>    7.2445</td> <td>    0.311</td> <td>   23.289</td> <td>5.780e-120</td> <td>[  6.635,  7.854]</td>\n",
       "</tr>\n",
       "<tr>\n",
       "  <th>lambda</th> <td>    0.9896</td> <td>9.669e-03</td> <td>  102.348</td>    <td>0.000</td>   <td>[  0.971,  1.009]</td>\n",
       "</tr>\n",
       "</table><br/><br/>Covariance estimator: robust<br/>WARNING: The optimizer did not indicate successful convergence. The message was Iteration limit reached.<br/>See convergence_flag.<br/>"
      ],
      "text/plain": [
       "<class 'statsmodels.iolib.summary.Summary'>\n",
       "\"\"\"\n",
       "                           Constant Mean - GARCH Model Results                           \n",
       "=========================================================================================\n",
       "Dep. Variable:                             index   R-squared:                       0.000\n",
       "Mean Model:                        Constant Mean   Adj. R-squared:                  0.000\n",
       "Vol Model:                                 GARCH   Log-Likelihood:               -15041.9\n",
       "Distribution:      Standardized Skew Student's t   AIC:                           30095.9\n",
       "Method:                       Maximum Likelihood   BIC:                           30129.9\n",
       "                                                   No. Observations:                 2134\n",
       "Date:                           Sun, May 21 2023   Df Residuals:                     2133\n",
       "Time:                                   22:23:48   Df Model:                            1\n",
       "                                 Mean Model                                 \n",
       "============================================================================\n",
       "                 coef    std err          t      P>|t|      95.0% Conf. Int.\n",
       "----------------------------------------------------------------------------\n",
       "mu          1808.9416     68.681     26.338 7.019e-153 [1.674e+03,1.944e+03]\n",
       "                               Volatility Model                              \n",
       "=============================================================================\n",
       "                 coef    std err          t      P>|t|       95.0% Conf. Int.\n",
       "-----------------------------------------------------------------------------\n",
       "omega       8924.2738    924.924      9.649  4.980e-22  [7.111e+03,1.074e+04]\n",
       "alpha[1]       0.7314  1.429e-02     51.168      0.000      [  0.703,  0.759]\n",
       "beta[1]        0.0000  8.214e-03      0.000      1.000 [-1.610e-02,1.610e-02]\n",
       "                              Distribution                              \n",
       "========================================================================\n",
       "                 coef    std err          t      P>|t|  95.0% Conf. Int.\n",
       "------------------------------------------------------------------------\n",
       "eta            7.2445      0.311     23.289 5.780e-120 [  6.635,  7.854]\n",
       "lambda         0.9896  9.669e-03    102.348      0.000 [  0.971,  1.009]\n",
       "========================================================================\n",
       "\n",
       "Covariance estimator: robust\n",
       "WARNING: The optimizer did not indicate successful convergence. The message was Iteration limit reached.\n",
       "See convergence_flag.\n",
       "\n",
       "\"\"\""
      ]
     },
     "execution_count": 175,
     "metadata": {},
     "output_type": "execute_result"
    }
   ],
   "source": [
    "fitted.summary()"
   ]
  },
  {
   "cell_type": "code",
   "execution_count": 176,
   "metadata": {},
   "outputs": [
    {
     "data": {
      "text/plain": [
       "0      -1.845743\n",
       "1      -1.166486\n",
       "2      -1.166483\n",
       "3      -1.166481\n",
       "4      -1.166478\n",
       "          ...   \n",
       "2129    1.144266\n",
       "2130    1.144366\n",
       "2131    1.144466\n",
       "2132    1.144565\n",
       "2133    1.151436\n",
       "Name: std_resid, Length: 2134, dtype: float64"
      ]
     },
     "execution_count": 176,
     "metadata": {},
     "output_type": "execute_result"
    }
   ],
   "source": [
    "fitted.std_resid"
   ]
  },
  {
   "cell_type": "code",
   "execution_count": null,
   "metadata": {},
   "outputs": [],
   "source": []
  },
  {
   "cell_type": "code",
   "execution_count": 177,
   "metadata": {},
   "outputs": [
    {
     "name": "stderr",
     "output_type": "stream",
     "text": [
      "c:\\Users\\morit\\anaconda3\\envs\\copulagarch\\lib\\site-packages\\arch\\__future__\\_utility.py:11: FutureWarning: \n",
      "The default for reindex is True. After September 2021 this will change to\n",
      "False. Set reindex to True or False to silence this message. Alternatively,\n",
      "you can use the import comment\n",
      "\n",
      "from arch.__future__ import reindexing\n",
      "\n",
      "to globally set reindex to True and silence this warning.\n",
      "\n",
      "  warnings.warn(\n"
     ]
    },
    {
     "data": {
      "text/html": [
       "<div>\n",
       "<style scoped>\n",
       "    .dataframe tbody tr th:only-of-type {\n",
       "        vertical-align: middle;\n",
       "    }\n",
       "\n",
       "    .dataframe tbody tr th {\n",
       "        vertical-align: top;\n",
       "    }\n",
       "\n",
       "    .dataframe thead th {\n",
       "        text-align: right;\n",
       "    }\n",
       "</style>\n",
       "<table border=\"1\" class=\"dataframe\">\n",
       "  <thead>\n",
       "    <tr style=\"text-align: right;\">\n",
       "      <th></th>\n",
       "      <th>h.1</th>\n",
       "    </tr>\n",
       "  </thead>\n",
       "  <tbody>\n",
       "    <tr>\n",
       "      <th>0</th>\n",
       "      <td>NaN</td>\n",
       "    </tr>\n",
       "    <tr>\n",
       "      <th>1</th>\n",
       "      <td>NaN</td>\n",
       "    </tr>\n",
       "    <tr>\n",
       "      <th>2</th>\n",
       "      <td>NaN</td>\n",
       "    </tr>\n",
       "    <tr>\n",
       "      <th>3</th>\n",
       "      <td>NaN</td>\n",
       "    </tr>\n",
       "    <tr>\n",
       "      <th>4</th>\n",
       "      <td>NaN</td>\n",
       "    </tr>\n",
       "    <tr>\n",
       "      <th>...</th>\n",
       "      <td>...</td>\n",
       "    </tr>\n",
       "    <tr>\n",
       "      <th>2129</th>\n",
       "      <td>NaN</td>\n",
       "    </tr>\n",
       "    <tr>\n",
       "      <th>2130</th>\n",
       "      <td>NaN</td>\n",
       "    </tr>\n",
       "    <tr>\n",
       "      <th>2131</th>\n",
       "      <td>NaN</td>\n",
       "    </tr>\n",
       "    <tr>\n",
       "      <th>2132</th>\n",
       "      <td>NaN</td>\n",
       "    </tr>\n",
       "    <tr>\n",
       "      <th>2133</th>\n",
       "      <td>199200.229668</td>\n",
       "    </tr>\n",
       "  </tbody>\n",
       "</table>\n",
       "<p>2134 rows × 1 columns</p>\n",
       "</div>"
      ],
      "text/plain": [
       "                h.1\n",
       "0               NaN\n",
       "1               NaN\n",
       "2               NaN\n",
       "3               NaN\n",
       "4               NaN\n",
       "...             ...\n",
       "2129            NaN\n",
       "2130            NaN\n",
       "2131            NaN\n",
       "2132            NaN\n",
       "2133  199200.229668\n",
       "\n",
       "[2134 rows x 1 columns]"
      ]
     },
     "execution_count": 177,
     "metadata": {},
     "output_type": "execute_result"
    }
   ],
   "source": [
    "fitted.forecast(horizon=1).variance"
   ]
  },
  {
   "cell_type": "code",
   "execution_count": 178,
   "metadata": {},
   "outputs": [
    {
     "data": {
      "text/plain": [
       "mu          1808.941643\n",
       "omega       8924.273801\n",
       "alpha[1]       0.731382\n",
       "beta[1]        0.000000\n",
       "eta            7.244504\n",
       "lambda         0.989584\n",
       "Name: params, dtype: float64"
      ]
     },
     "execution_count": 178,
     "metadata": {},
     "output_type": "execute_result"
    }
   ],
   "source": [
    "fitted.params"
   ]
  },
  {
   "cell_type": "code",
   "execution_count": 179,
   "metadata": {},
   "outputs": [
    {
     "data": {
      "text/plain": [
       "array([ 980.06134794, 1549.90420811, 1549.05059038, ...,  441.30487232,\n",
       "        442.14029445,  442.9757921 ])"
      ]
     },
     "execution_count": 179,
     "metadata": {},
     "output_type": "execute_result"
    }
   ],
   "source": [
    "fitted._volatility"
   ]
  },
  {
   "cell_type": "code",
   "execution_count": 180,
   "metadata": {},
   "outputs": [],
   "source": [
    "fitted_resid = fitted.resid / fitted.conditional_volatility"
   ]
  },
  {
   "cell_type": "code",
   "execution_count": 181,
   "metadata": {},
   "outputs": [
    {
     "data": {
      "text/plain": [
       "1470052141371.1694"
      ]
     },
     "execution_count": 181,
     "metadata": {},
     "output_type": "execute_result"
    }
   ],
   "source": [
    "fitted.params[1] + fitted.params[2] * (np.std(data.iloc[:,0]) * fitted_resid.iloc[len(fitted_resid)-1])**2 + fitted.params[4] * np.var(data.iloc[:,0])**2"
   ]
  },
  {
   "cell_type": "code",
   "execution_count": 182,
   "metadata": {},
   "outputs": [
    {
     "data": {
      "text/plain": [
       "8924.273800527433"
      ]
     },
     "execution_count": 182,
     "metadata": {},
     "output_type": "execute_result"
    }
   ],
   "source": [
    "fitted.params[1]"
   ]
  },
  {
   "cell_type": "code",
   "execution_count": 183,
   "metadata": {},
   "outputs": [
    {
     "data": {
      "text/plain": [
       "0.3894868418830089"
      ]
     },
     "execution_count": 183,
     "metadata": {},
     "output_type": "execute_result"
    }
   ],
   "source": [
    "np.sqrt(0.1517)"
   ]
  },
  {
   "cell_type": "code",
   "execution_count": 184,
   "metadata": {},
   "outputs": [
    {
     "data": {
      "text/plain": [
       "450465.94626496267"
      ]
     },
     "execution_count": 184,
     "metadata": {},
     "output_type": "execute_result"
    }
   ],
   "source": [
    "np.var(data.iloc[:,0])"
   ]
  },
  {
   "cell_type": "code",
   "execution_count": 185,
   "metadata": {},
   "outputs": [
    {
     "name": "stderr",
     "output_type": "stream",
     "text": [
      "c:\\Users\\morit\\anaconda3\\envs\\copulagarch\\lib\\site-packages\\arch\\__future__\\_utility.py:11: FutureWarning: \n",
      "The default for reindex is True. After September 2021 this will change to\n",
      "False. Set reindex to True or False to silence this message. Alternatively,\n",
      "you can use the import comment\n",
      "\n",
      "from arch.__future__ import reindexing\n",
      "\n",
      "to globally set reindex to True and silence this warning.\n",
      "\n",
      "  warnings.warn(\n"
     ]
    },
    {
     "data": {
      "text/html": [
       "<div>\n",
       "<style scoped>\n",
       "    .dataframe tbody tr th:only-of-type {\n",
       "        vertical-align: middle;\n",
       "    }\n",
       "\n",
       "    .dataframe tbody tr th {\n",
       "        vertical-align: top;\n",
       "    }\n",
       "\n",
       "    .dataframe thead th {\n",
       "        text-align: right;\n",
       "    }\n",
       "</style>\n",
       "<table border=\"1\" class=\"dataframe\">\n",
       "  <thead>\n",
       "    <tr style=\"text-align: right;\">\n",
       "      <th></th>\n",
       "      <th>h.1</th>\n",
       "    </tr>\n",
       "  </thead>\n",
       "  <tbody>\n",
       "    <tr>\n",
       "      <th>0</th>\n",
       "      <td>NaN</td>\n",
       "    </tr>\n",
       "    <tr>\n",
       "      <th>1</th>\n",
       "      <td>NaN</td>\n",
       "    </tr>\n",
       "    <tr>\n",
       "      <th>2</th>\n",
       "      <td>NaN</td>\n",
       "    </tr>\n",
       "    <tr>\n",
       "      <th>3</th>\n",
       "      <td>NaN</td>\n",
       "    </tr>\n",
       "    <tr>\n",
       "      <th>4</th>\n",
       "      <td>NaN</td>\n",
       "    </tr>\n",
       "    <tr>\n",
       "      <th>...</th>\n",
       "      <td>...</td>\n",
       "    </tr>\n",
       "    <tr>\n",
       "      <th>2129</th>\n",
       "      <td>NaN</td>\n",
       "    </tr>\n",
       "    <tr>\n",
       "      <th>2130</th>\n",
       "      <td>NaN</td>\n",
       "    </tr>\n",
       "    <tr>\n",
       "      <th>2131</th>\n",
       "      <td>NaN</td>\n",
       "    </tr>\n",
       "    <tr>\n",
       "      <th>2132</th>\n",
       "      <td>NaN</td>\n",
       "    </tr>\n",
       "    <tr>\n",
       "      <th>2133</th>\n",
       "      <td>199200.229668</td>\n",
       "    </tr>\n",
       "  </tbody>\n",
       "</table>\n",
       "<p>2134 rows × 1 columns</p>\n",
       "</div>"
      ],
      "text/plain": [
       "                h.1\n",
       "0               NaN\n",
       "1               NaN\n",
       "2               NaN\n",
       "3               NaN\n",
       "4               NaN\n",
       "...             ...\n",
       "2129            NaN\n",
       "2130            NaN\n",
       "2131            NaN\n",
       "2132            NaN\n",
       "2133  199200.229668\n",
       "\n",
       "[2134 rows x 1 columns]"
      ]
     },
     "execution_count": 185,
     "metadata": {},
     "output_type": "execute_result"
    }
   ],
   "source": [
    "fitted.forecast(horizon=1).residual_variance"
   ]
  },
  {
   "cell_type": "code",
   "execution_count": 122,
   "metadata": {},
   "outputs": [
    {
     "data": {
      "text/plain": [
       "2.6245450727460096"
      ]
     },
     "execution_count": 122,
     "metadata": {},
     "output_type": "execute_result"
    }
   ],
   "source": [
    "np.var(data.iloc[:,0])"
   ]
  },
  {
   "cell_type": "code",
   "execution_count": 123,
   "metadata": {},
   "outputs": [
    {
     "data": {
      "text/plain": [
       "2134"
      ]
     },
     "execution_count": 123,
     "metadata": {},
     "output_type": "execute_result"
    }
   ],
   "source": [
    "len(fitted._volatility)"
   ]
  },
  {
   "cell_type": "code",
   "execution_count": 149,
   "metadata": {},
   "outputs": [
    {
     "data": {
      "text/plain": [
       "-0.31714129469369434"
      ]
     },
     "execution_count": 149,
     "metadata": {},
     "output_type": "execute_result"
    }
   ],
   "source": [
    "fitted.params[\"mu\"] + np.sqrt(fitted.conditional_volatility[2133]) * fitted.std_resid[2133]"
   ]
  },
  {
   "cell_type": "code",
   "execution_count": 150,
   "metadata": {},
   "outputs": [
    {
     "data": {
      "text/plain": [
       "0.05122365357554948"
      ]
     },
     "execution_count": 150,
     "metadata": {},
     "output_type": "execute_result"
    }
   ],
   "source": [
    "data.iloc[2133,0]"
   ]
  },
  {
   "cell_type": "code",
   "execution_count": 144,
   "metadata": {},
   "outputs": [
    {
     "data": {
      "text/plain": [
       "                           Constant Mean - GARCH Model Results                           \n",
       "=========================================================================================\n",
       "Dep. Variable:                              AAPL   R-squared:                       0.000\n",
       "Mean Model:                        Constant Mean   Adj. R-squared:                  0.000\n",
       "Vol Model:                                 GARCH   Log-Likelihood:               -3851.15\n",
       "Distribution:      Standardized Skew Student's t   AIC:                           7714.30\n",
       "Method:                       Maximum Likelihood   BIC:                           7748.29\n",
       "                                                   No. Observations:                 2134\n",
       "Date:                           Sun, May 21 2023   Df Residuals:                     2133\n",
       "Time:                                   22:04:35   Df Model:                            1\n",
       "                                Mean Model                                \n",
       "==========================================================================\n",
       "                 coef    std err          t      P>|t|    95.0% Conf. Int.\n",
       "--------------------------------------------------------------------------\n",
       "mu             0.1014  3.171e-02      3.199  1.379e-03 [3.929e-02,  0.164]\n",
       "                             Volatility Model                             \n",
       "==========================================================================\n",
       "                 coef    std err          t      P>|t|    95.0% Conf. Int.\n",
       "--------------------------------------------------------------------------\n",
       "omega          0.1506  6.571e-02      2.292  2.189e-02 [2.183e-02,  0.279]\n",
       "alpha[1]       0.1153  3.506e-02      3.289  1.007e-03 [4.658e-02,  0.184]\n",
       "beta[1]        0.8385  4.965e-02     16.889  5.448e-64   [  0.741,  0.936]\n",
       "                                 Distribution                                \n",
       "=============================================================================\n",
       "                 coef    std err          t      P>|t|       95.0% Conf. Int.\n",
       "-----------------------------------------------------------------------------\n",
       "eta            4.3984      0.425     10.354  4.003e-25      [  3.566,  5.231]\n",
       "lambda        -0.0331  3.048e-02     -1.087      0.277 [-9.289e-02,2.660e-02]\n",
       "=============================================================================\n",
       "\n",
       "Covariance estimator: robust\n",
       "ARCHModelResult, id: 0x1cdf81407c0"
      ]
     },
     "execution_count": 144,
     "metadata": {},
     "output_type": "execute_result"
    }
   ],
   "source": [
    "fitted"
   ]
  },
  {
   "cell_type": "code",
   "execution_count": 132,
   "metadata": {},
   "outputs": [
    {
     "data": {
      "text/plain": [
       "0.05122365357554948"
      ]
     },
     "execution_count": 132,
     "metadata": {},
     "output_type": "execute_result"
    }
   ],
   "source": [
    "data.iloc[2133, 0]"
   ]
  },
  {
   "cell_type": "code",
   "execution_count": 133,
   "metadata": {},
   "outputs": [
    {
     "data": {
      "text/plain": [
       "0.10144138479760982"
      ]
     },
     "execution_count": 133,
     "metadata": {},
     "output_type": "execute_result"
    }
   ],
   "source": [
    "fitted.params[\"mu\"]"
   ]
  },
  {
   "cell_type": "code",
   "execution_count": 134,
   "metadata": {},
   "outputs": [
    {
     "data": {
      "text/plain": [
       "-0.050217731222060344"
      ]
     },
     "execution_count": 134,
     "metadata": {},
     "output_type": "execute_result"
    }
   ],
   "source": [
    "data.iloc[2133, 0] - fitted.params[\"mu\"]"
   ]
  },
  {
   "cell_type": "code",
   "execution_count": 143,
   "metadata": {},
   "outputs": [
    {
     "data": {
      "text/plain": [
       "mu          0.101441\n",
       "omega       0.150625\n",
       "alpha[1]    0.115298\n",
       "beta[1]     0.838461\n",
       "eta         4.398359\n",
       "lambda     -0.033146\n",
       "Name: params, dtype: float64"
      ]
     },
     "execution_count": 143,
     "metadata": {},
     "output_type": "execute_result"
    }
   ],
   "source": [
    "np."
   ]
  },
  {
   "cell_type": "code",
   "execution_count": 142,
   "metadata": {},
   "outputs": [
    {
     "data": {
      "text/plain": [
       "-0.8220775243447326"
      ]
     },
     "execution_count": 142,
     "metadata": {},
     "output_type": "execute_result"
    }
   ],
   "source": [
    "fitted.resid[2133]* np.std(data.iloc[:,0]) + fitted.params[\"mu\"]"
   ]
  },
  {
   "cell_type": "code",
   "execution_count": 135,
   "metadata": {},
   "outputs": [
    {
     "data": {
      "text/plain": [
       "1.8547058473792657"
      ]
     },
     "execution_count": 135,
     "metadata": {},
     "output_type": "execute_result"
    }
   ],
   "source": [
    "fitted.conditional_volatility[2133]"
   ]
  },
  {
   "cell_type": "code",
   "execution_count": 127,
   "metadata": {},
   "outputs": [],
   "source": [
    "fitted_resid = fitted.resid / fitted.conditional_volatility"
   ]
  },
  {
   "cell_type": "code",
   "execution_count": 128,
   "metadata": {},
   "outputs": [
    {
     "data": {
      "text/plain": [
       "-0.019935501253624942"
      ]
     },
     "execution_count": 128,
     "metadata": {},
     "output_type": "execute_result"
    }
   ],
   "source": [
    "fitted_resid.iloc[len(fitted_resid)-1]"
   ]
  },
  {
   "cell_type": "code",
   "execution_count": 64,
   "metadata": {},
   "outputs": [
    {
     "data": {
      "text/plain": [
       "0      -0.915354\n",
       "1      -0.155490\n",
       "2       0.323681\n",
       "3      -0.600150\n",
       "4      -0.782542\n",
       "          ...   \n",
       "2312    0.549057\n",
       "2313   -1.586554\n",
       "2314   -1.194839\n",
       "2315   -1.799541\n",
       "2319   -0.019936\n",
       "Length: 2134, dtype: float64"
      ]
     },
     "execution_count": 64,
     "metadata": {},
     "output_type": "execute_result"
    }
   ],
   "source": [
    "fitted_resid"
   ]
  },
  {
   "cell_type": "code",
   "execution_count": 62,
   "metadata": {},
   "outputs": [
    {
     "data": {
      "text/plain": [
       "2134"
      ]
     },
     "execution_count": 62,
     "metadata": {},
     "output_type": "execute_result"
    }
   ],
   "source": [
    "len(fitted_resid)"
   ]
  },
  {
   "cell_type": "code",
   "execution_count": 14,
   "metadata": {},
   "outputs": [
    {
     "data": {
      "text/plain": [
       "0.0002624545072745998"
      ]
     },
     "execution_count": 14,
     "metadata": {},
     "output_type": "execute_result"
    }
   ],
   "source": [
    "np.var(data.AAPL)"
   ]
  },
  {
   "attachments": {},
   "cell_type": "markdown",
   "metadata": {},
   "source": [
    "${\\hat{\\sigma}_{t+1,j}}^2 = \\hat{\\omega}_j +  \\hat{\\alpha}_{t,j} \\hat{\\sigma}^2_{t,j} \\hat{z}^2_{t,j} + \\hat{\\beta}_{k,j} \\hat{\\sigma}_{t-1,j}^2$ "
   ]
  },
  {
   "cell_type": "code",
   "execution_count": 15,
   "metadata": {},
   "outputs": [],
   "source": [
    "def get_variance_forecast(model):\n",
    "    omega_hat = model.params[1]\n",
    "    alpha_hat = model.params[2]\n",
    "    beta_hat = model.params[3]\n",
    "    "
   ]
  },
  {
   "cell_type": "code",
   "execution_count": 17,
   "metadata": {},
   "outputs": [],
   "source": [
    "def get_standardized_residuals(model, data):\n",
    "    pass"
   ]
  },
  {
   "cell_type": "code",
   "execution_count": 18,
   "metadata": {},
   "outputs": [
    {
     "name": "stderr",
     "output_type": "stream",
     "text": [
      "c:\\Users\\morit\\anaconda3\\envs\\copulagarch\\lib\\site-packages\\arch\\univariate\\base.py:309: DataScaleWarning: y is poorly scaled, which may affect convergence of the optimizer when\n",
      "estimating the model parameters. The scale of y is 0.0002625. Parameter\n",
      "estimation work better when this value is between 1 and 1000. The recommended\n",
      "rescaling is 100 * y.\n",
      "\n",
      "This warning can be disabled by either rescaling y before initializing the\n",
      "model or by setting rescale=False.\n",
      "\n",
      "  warnings.warn(\n"
     ]
    },
    {
     "name": "stdout",
     "output_type": "stream",
     "text": [
      "Iteration:      1,   Func. Count:      8,   Neg. LLF: 112111.96886110117\n",
      "Iteration:      2,   Func. Count:     25,   Neg. LLF: 163634.5671788327\n",
      "Iteration:      3,   Func. Count:     34,   Neg. LLF: 10516.399812734406\n",
      "Iteration:      4,   Func. Count:     42,   Neg. LLF: 66550.35589574545\n",
      "Iteration:      5,   Func. Count:     59,   Neg. LLF: 11666.90431061744\n",
      "Iteration:      6,   Func. Count:     66,   Neg. LLF: 37466.090797714\n",
      "Iteration:      7,   Func. Count:     76,   Neg. LLF: 2216422.956773467\n",
      "Iteration:      8,   Func. Count:     85,   Neg. LLF: 104362.0423524979\n",
      "Iteration:      9,   Func. Count:     94,   Neg. LLF: 128823.48115074394\n",
      "Iteration:     10,   Func. Count:    108,   Neg. LLF: 356033.6148522099\n",
      "Iteration:     11,   Func. Count:    125,   Neg. LLF: 42363.98050918724\n",
      "Iteration:     12,   Func. Count:    132,   Neg. LLF: 126925.13343494658\n",
      "Iteration:     13,   Func. Count:    144,   Neg. LLF: 40742.16210534518\n",
      "Iteration:     14,   Func. Count:    151,   Neg. LLF: 136742.80284333916\n",
      "Iteration:     15,   Func. Count:    168,   Neg. LLF: 42238.37482767899\n",
      "Iteration:     16,   Func. Count:    176,   Neg. LLF: 202562.58100135264\n",
      "Iteration:     17,   Func. Count:    185,   Neg. LLF: 5617243.651674433\n",
      "Iteration:     18,   Func. Count:    202,   Neg. LLF: 19531497.403314415\n",
      "Iteration:     19,   Func. Count:    219,   Neg. LLF: 77664.11607757764\n",
      "Iteration:     20,   Func. Count:    226,   Neg. LLF: 115950.38087277612\n",
      "Iteration:     21,   Func. Count:    237,   Neg. LLF: 76873.07500792414\n",
      "Iteration:     22,   Func. Count:    244,   Neg. LLF: 75800.4613687137\n",
      "Iteration:     23,   Func. Count:    251,   Neg. LLF: 72503.89283052727\n",
      "Iteration:     24,   Func. Count:    258,   Neg. LLF: 69234.64190322702\n",
      "Iteration:     25,   Func. Count:    265,   Neg. LLF: 65465.61406597035\n",
      "Iteration:     26,   Func. Count:    272,   Neg. LLF: 61461.10119250012\n",
      "Iteration:     27,   Func. Count:    279,   Neg. LLF: 56799.10298276898\n",
      "Iteration:     28,   Func. Count:    286,   Neg. LLF: 51714.645429062555\n",
      "Iteration:     29,   Func. Count:    293,   Neg. LLF: 49458.824584286165\n",
      "Iteration:     30,   Func. Count:    300,   Neg. LLF: 48792.84705543102\n",
      "Iteration:     31,   Func. Count:    307,   Neg. LLF: 47849.39247551648\n",
      "Iteration:     32,   Func. Count:    314,   Neg. LLF: 48654.05018868662\n",
      "Iteration:     33,   Func. Count:    331,   Neg. LLF: 47707.93349392301\n",
      "Iteration:     34,   Func. Count:    338,   Neg. LLF: 47031.01162424075\n",
      "Iteration:     35,   Func. Count:    345,   Neg. LLF: 45602.97008301971\n",
      "Iteration:     36,   Func. Count:    352,   Neg. LLF: 44755.86903661399\n",
      "Iteration:     37,   Func. Count:    359,   Neg. LLF: 40690.61867706708\n",
      "Iteration:     38,   Func. Count:    366,   Neg. LLF: 277349.5857555951\n",
      "Iteration:     39,   Func. Count:    374,   Neg. LLF: 247257.2636834346\n",
      "Iteration:     40,   Func. Count:    389,   Neg. LLF: 240630.79249423576\n",
      "Iteration:     41,   Func. Count:    406,   Neg. LLF: 212196.90115299655\n",
      "Iteration:     42,   Func. Count:    423,   Neg. LLF: 89817.11150910445\n",
      "Iteration:     43,   Func. Count:    434,   Neg. LLF: 95366.72956542767\n",
      "Iteration:     44,   Func. Count:    441,   Neg. LLF: 94898.86843287488\n",
      "Iteration:     45,   Func. Count:    448,   Neg. LLF: 94379.44258157091\n",
      "Iteration:     46,   Func. Count:    455,   Neg. LLF: 91242.86907670283\n",
      "Iteration:     47,   Func. Count:    462,   Neg. LLF: 87793.41677907215\n",
      "Iteration:     48,   Func. Count:    469,   Neg. LLF: 83669.70342815376\n",
      "Iteration:     49,   Func. Count:    476,   Neg. LLF: 77159.73963524538\n",
      "Iteration:     50,   Func. Count:    483,   Neg. LLF: 55190.76864814786\n",
      "Iteration:     51,   Func. Count:    490,   Neg. LLF: 49043.84148702482\n",
      "Iteration:     52,   Func. Count:    497,   Neg. LLF: 151155.5912724216\n",
      "Iteration:     53,   Func. Count:    505,   Neg. LLF: 198896.03162194497\n",
      "Iteration:     54,   Func. Count:    513,   Neg. LLF: 152326.15886511706\n",
      "Iteration:     55,   Func. Count:    524,   Neg. LLF: 170035.5142819516\n",
      "Iteration:     56,   Func. Count:    539,   Neg. LLF: 12214.08098747969\n",
      "Iteration:     57,   Func. Count:    554,   Neg. LLF: 9015.897192140197\n",
      "Iteration:     58,   Func. Count:    561,   Neg. LLF: 118707.61033001178\n",
      "Iteration:     59,   Func. Count:    572,   Neg. LLF: 44260.45018141162\n",
      "Iteration:     60,   Func. Count:    584,   Neg. LLF: -1669.584933281792\n",
      "Positive directional derivative for linesearch    (Exit mode 8)\n",
      "            Current function value: -1669.584911430515\n",
      "            Iterations: 64\n",
      "            Function evaluations: 584\n",
      "            Gradient evaluations: 60\n"
     ]
    },
    {
     "name": "stderr",
     "output_type": "stream",
     "text": [
      "c:\\Users\\morit\\anaconda3\\envs\\copulagarch\\lib\\site-packages\\arch\\univariate\\base.py:753: ConvergenceWarning: The optimizer returned code 8. The message is:\n",
      "Positive directional derivative for linesearch\n",
      "See scipy.optimize.fmin_slsqp for code meaning.\n",
      "\n",
      "  warnings.warn(\n"
     ]
    }
   ],
   "source": [
    "res2 = fit_model(data.AAPL)"
   ]
  },
  {
   "cell_type": "code",
   "execution_count": 19,
   "metadata": {},
   "outputs": [
    {
     "data": {
      "text/html": [
       "<table class=\"simpletable\">\n",
       "<caption>Constant Mean - GARCH Model Results</caption>\n",
       "<tr>\n",
       "  <th>Dep. Variable:</th>             <td>AAPL</td>              <th>  R-squared:         </th>  <td>   0.000</td> \n",
       "</tr>\n",
       "<tr>\n",
       "  <th>Mean Model:</th>            <td>Constant Mean</td>         <th>  Adj. R-squared:    </th>  <td>   0.000</td> \n",
       "</tr>\n",
       "<tr>\n",
       "  <th>Vol Model:</th>                 <td>GARCH</td>             <th>  Log-Likelihood:    </th> <td>   1669.58</td>\n",
       "</tr>\n",
       "<tr>\n",
       "  <th>Distribution:</th>  <td>Standardized Skew Student's t</td> <th>  AIC:               </th> <td>  -3327.17</td>\n",
       "</tr>\n",
       "<tr>\n",
       "  <th>Method:</th>             <td>Maximum Likelihood</td>       <th>  BIC:               </th> <td>  -3293.18</td>\n",
       "</tr>\n",
       "<tr>\n",
       "  <th></th>                             <td></td>                <th>  No. Observations:  </th>    <td>2134</td>   \n",
       "</tr>\n",
       "<tr>\n",
       "  <th>Date:</th>                <td>Sun, May 21 2023</td>        <th>  Df Residuals:      </th>    <td>2133</td>   \n",
       "</tr>\n",
       "<tr>\n",
       "  <th>Time:</th>                    <td>20:57:48</td>            <th>  Df Model:          </th>      <td>1</td>    \n",
       "</tr>\n",
       "</table>\n",
       "<table class=\"simpletable\">\n",
       "<caption>Mean Model</caption>\n",
       "<tr>\n",
       "   <td></td>     <th>coef</th>     <th>std err</th>      <th>t</th>       <th>P>|t|</th>   <th>95.0% Conf. Int.</th> \n",
       "</tr>\n",
       "<tr>\n",
       "  <th>mu</th> <td>   -0.2019</td> <td>1.405e-02</td> <td>  -14.367</td> <td>8.290e-47</td> <td>[ -0.229, -0.174]</td>\n",
       "</tr>\n",
       "</table>\n",
       "<table class=\"simpletable\">\n",
       "<caption>Volatility Model</caption>\n",
       "<tr>\n",
       "      <td></td>        <th>coef</th>     <th>std err</th>      <th>t</th>       <th>P>|t|</th>      <th>95.0% Conf. Int.</th>   \n",
       "</tr>\n",
       "<tr>\n",
       "  <th>omega</th>    <td>2.6245e-03</td> <td>2.811e-03</td> <td>    0.934</td> <td>    0.351</td> <td>[-2.886e-03,8.135e-03]</td>\n",
       "</tr>\n",
       "<tr>\n",
       "  <th>alpha[1]</th> <td>    1.0000</td> <td>    0.133</td> <td>    7.495</td> <td>6.631e-14</td>    <td>[  0.738,  1.262]</td>  \n",
       "</tr>\n",
       "<tr>\n",
       "  <th>beta[1]</th>  <td>4.1601e-05</td> <td>    0.103</td> <td>4.058e-04</td> <td>    1.000</td>    <td>[ -0.201,  0.201]</td>  \n",
       "</tr>\n",
       "</table>\n",
       "<table class=\"simpletable\">\n",
       "<caption>Distribution</caption>\n",
       "<tr>\n",
       "     <td></td>       <th>coef</th>     <th>std err</th>      <th>t</th>        <th>P>|t|</th>   <th>95.0% Conf. Int.</th> \n",
       "</tr>\n",
       "<tr>\n",
       "  <th>eta</th>    <td>   15.7247</td> <td>    0.663</td> <td>   23.712</td> <td>2.701e-124</td> <td>[ 14.425, 17.024]</td>\n",
       "</tr>\n",
       "<tr>\n",
       "  <th>lambda</th> <td>   -0.9225</td> <td>8.924e-03</td> <td> -103.369</td>    <td>0.000</td>   <td>[ -0.940, -0.905]</td>\n",
       "</tr>\n",
       "</table><br/><br/>Covariance estimator: robust<br/>WARNING: The optimizer did not indicate successful convergence. The message was Positive directional derivative for linesearch.<br/>See convergence_flag.<br/>"
      ],
      "text/plain": [
       "<class 'statsmodels.iolib.summary.Summary'>\n",
       "\"\"\"\n",
       "                           Constant Mean - GARCH Model Results                           \n",
       "=========================================================================================\n",
       "Dep. Variable:                              AAPL   R-squared:                       0.000\n",
       "Mean Model:                        Constant Mean   Adj. R-squared:                  0.000\n",
       "Vol Model:                                 GARCH   Log-Likelihood:                1669.58\n",
       "Distribution:      Standardized Skew Student's t   AIC:                          -3327.17\n",
       "Method:                       Maximum Likelihood   BIC:                          -3293.18\n",
       "                                                   No. Observations:                 2134\n",
       "Date:                           Sun, May 21 2023   Df Residuals:                     2133\n",
       "Time:                                   20:57:48   Df Model:                            1\n",
       "                               Mean Model                               \n",
       "========================================================================\n",
       "                 coef    std err          t      P>|t|  95.0% Conf. Int.\n",
       "------------------------------------------------------------------------\n",
       "mu            -0.2019  1.405e-02    -14.367  8.290e-47 [ -0.229, -0.174]\n",
       "                               Volatility Model                              \n",
       "=============================================================================\n",
       "                 coef    std err          t      P>|t|       95.0% Conf. Int.\n",
       "-----------------------------------------------------------------------------\n",
       "omega      2.6245e-03  2.811e-03      0.934      0.351 [-2.886e-03,8.135e-03]\n",
       "alpha[1]       1.0000      0.133      7.495  6.631e-14      [  0.738,  1.262]\n",
       "beta[1]    4.1601e-05      0.103  4.058e-04      1.000      [ -0.201,  0.201]\n",
       "                              Distribution                              \n",
       "========================================================================\n",
       "                 coef    std err          t      P>|t|  95.0% Conf. Int.\n",
       "------------------------------------------------------------------------\n",
       "eta           15.7247      0.663     23.712 2.701e-124 [ 14.425, 17.024]\n",
       "lambda        -0.9225  8.924e-03   -103.369      0.000 [ -0.940, -0.905]\n",
       "========================================================================\n",
       "\n",
       "Covariance estimator: robust\n",
       "WARNING: The optimizer did not indicate successful convergence. The message was Positive directional derivative for linesearch.\n",
       "See convergence_flag.\n",
       "\n",
       "\"\"\""
      ]
     },
     "execution_count": 19,
     "metadata": {},
     "output_type": "execute_result"
    }
   ],
   "source": [
    "res2.summary()"
   ]
  },
  {
   "cell_type": "code",
   "execution_count": 20,
   "metadata": {},
   "outputs": [
    {
     "data": {
      "text/plain": [
       "mu          -0.201865\n",
       "omega        0.002625\n",
       "alpha[1]     1.000000\n",
       "beta[1]      0.000042\n",
       "eta         15.724660\n",
       "lambda      -0.922504\n",
       "Name: params, dtype: float64"
      ]
     },
     "execution_count": 20,
     "metadata": {},
     "output_type": "execute_result"
    }
   ],
   "source": [
    "res2.params"
   ]
  },
  {
   "cell_type": "code",
   "execution_count": 21,
   "metadata": {},
   "outputs": [
    {
     "data": {
      "text/plain": [
       "0       0.185830\n",
       "1       0.200014\n",
       "2       0.208491\n",
       "3       0.193004\n",
       "4       0.190424\n",
       "          ...   \n",
       "2312    0.214774\n",
       "2313    0.170176\n",
       "2314    0.176306\n",
       "2315    0.162192\n",
       "2319    0.202377\n",
       "Name: resid, Length: 2134, dtype: float64"
      ]
     },
     "execution_count": 21,
     "metadata": {},
     "output_type": "execute_result"
    }
   ],
   "source": [
    "res2.resid"
   ]
  },
  {
   "cell_type": "code",
   "execution_count": 22,
   "metadata": {},
   "outputs": [
    {
     "data": {
      "text/plain": [
       "<bound method ARCHModelFixedResult.forecast of                            Constant Mean - GARCH Model Results                           \n",
       "=========================================================================================\n",
       "Dep. Variable:                              AAPL   R-squared:                       0.000\n",
       "Mean Model:                        Constant Mean   Adj. R-squared:                  0.000\n",
       "Vol Model:                                 GARCH   Log-Likelihood:                1669.58\n",
       "Distribution:      Standardized Skew Student's t   AIC:                          -3327.17\n",
       "Method:                       Maximum Likelihood   BIC:                          -3293.18\n",
       "                                                   No. Observations:                 2134\n",
       "Date:                           Sun, May 21 2023   Df Residuals:                     2133\n",
       "Time:                                   20:57:48   Df Model:                            1\n",
       "                               Mean Model                               \n",
       "========================================================================\n",
       "                 coef    std err          t      P>|t|  95.0% Conf. Int.\n",
       "------------------------------------------------------------------------\n",
       "mu            -0.2019  1.405e-02    -14.367  8.290e-47 [ -0.229, -0.174]\n",
       "                               Volatility Model                              \n",
       "=============================================================================\n",
       "                 coef    std err          t      P>|t|       95.0% Conf. Int.\n",
       "-----------------------------------------------------------------------------\n",
       "omega      2.6245e-03  2.811e-03      0.934      0.351 [-2.886e-03,8.135e-03]\n",
       "alpha[1]       1.0000      0.133      7.495  6.631e-14      [  0.738,  1.262]\n",
       "beta[1]    4.1601e-05      0.103  4.058e-04      1.000      [ -0.201,  0.201]\n",
       "                              Distribution                              \n",
       "========================================================================\n",
       "                 coef    std err          t      P>|t|  95.0% Conf. Int.\n",
       "------------------------------------------------------------------------\n",
       "eta           15.7247      0.663     23.712 2.701e-124 [ 14.425, 17.024]\n",
       "lambda        -0.9225  8.924e-03   -103.369      0.000 [ -0.940, -0.905]\n",
       "========================================================================\n",
       "\n",
       "Covariance estimator: robust\n",
       "WARNING: The optimizer did not indicate successful convergence. The message was Positive directional derivative for linesearch.\n",
       "See convergence_flag.\n",
       "\n",
       "ARCHModelResult, id: 0x1cdf427eec0>"
      ]
     },
     "execution_count": 22,
     "metadata": {},
     "output_type": "execute_result"
    }
   ],
   "source": [
    "res2.forecast"
   ]
  },
  {
   "cell_type": "code",
   "execution_count": 13,
   "metadata": {},
   "outputs": [],
   "source": [
    "am5 = arch_model(data.AAPL*100, vol=\"Garch\", p=1, o=0, q=1, dist=\"skewt\", mean='constant')"
   ]
  },
  {
   "cell_type": "code",
   "execution_count": 14,
   "metadata": {},
   "outputs": [
    {
     "data": {
      "text/plain": [
       "2"
      ]
     },
     "execution_count": 14,
     "metadata": {},
     "output_type": "execute_result"
    }
   ],
   "source": [
    "am5.distribution.num_params"
   ]
  },
  {
   "cell_type": "code",
   "execution_count": 20,
   "metadata": {},
   "outputs": [
    {
     "name": "stdout",
     "output_type": "stream",
     "text": [
      "Iteration:      1,   Func. Count:      8,   Neg. LLF: 61691.42068508366\n",
      "Iteration:      2,   Func. Count:     18,   Neg. LLF: 135039.84003182483\n",
      "Iteration:      3,   Func. Count:     27,   Neg. LLF: 81173.47908621424\n",
      "Iteration:      4,   Func. Count:     36,   Neg. LLF: 147095.6063738566\n",
      "Iteration:      5,   Func. Count:     45,   Neg. LLF: 5525.809144590954\n",
      "Iteration:      6,   Func. Count:     53,   Neg. LLF: 3863.196062792278\n",
      "Iteration:      7,   Func. Count:     61,   Neg. LLF: 5194.31113095695\n",
      "Iteration:      8,   Func. Count:     69,   Neg. LLF: 3858.982341343833\n",
      "Iteration:      9,   Func. Count:     77,   Neg. LLF: 3851.3734042686165\n",
      "Iteration:     10,   Func. Count:     85,   Neg. LLF: 3851.162105607421\n",
      "Iteration:     11,   Func. Count:     93,   Neg. LLF: 3851.149772781636\n",
      "Iteration:     12,   Func. Count:    100,   Neg. LLF: 3851.149615629203\n",
      "Iteration:     13,   Func. Count:    107,   Neg. LLF: 3851.1496139155324\n",
      "Iteration:     14,   Func. Count:    113,   Neg. LLF: 3851.1496139154674\n",
      "Optimization terminated successfully    (Exit mode 0)\n",
      "            Current function value: 3851.1496139155324\n",
      "            Iterations: 14\n",
      "            Function evaluations: 113\n",
      "            Gradient evaluations: 14\n"
     ]
    },
    {
     "data": {
      "text/plain": [
       "                           Constant Mean - GARCH Model Results                           \n",
       "=========================================================================================\n",
       "Dep. Variable:                              AAPL   R-squared:                       0.000\n",
       "Mean Model:                        Constant Mean   Adj. R-squared:                  0.000\n",
       "Vol Model:                                 GARCH   Log-Likelihood:               -3851.15\n",
       "Distribution:      Standardized Skew Student's t   AIC:                           7714.30\n",
       "Method:                       Maximum Likelihood   BIC:                           7748.29\n",
       "                                                   No. Observations:                 2134\n",
       "Date:                           Sun, Mar 12 2023   Df Residuals:                     2133\n",
       "Time:                                   16:06:30   Df Model:                            1\n",
       "                                Mean Model                                \n",
       "==========================================================================\n",
       "                 coef    std err          t      P>|t|    95.0% Conf. Int.\n",
       "--------------------------------------------------------------------------\n",
       "mu             0.1014  3.171e-02      3.199  1.379e-03 [3.929e-02,  0.164]\n",
       "                             Volatility Model                             \n",
       "==========================================================================\n",
       "                 coef    std err          t      P>|t|    95.0% Conf. Int.\n",
       "--------------------------------------------------------------------------\n",
       "omega          0.1506  6.571e-02      2.292  2.189e-02 [2.183e-02,  0.279]\n",
       "alpha[1]       0.1153  3.506e-02      3.289  1.007e-03 [4.658e-02,  0.184]\n",
       "beta[1]        0.8385  4.965e-02     16.888  5.470e-64   [  0.741,  0.936]\n",
       "                                 Distribution                                \n",
       "=============================================================================\n",
       "                 coef    std err          t      P>|t|       95.0% Conf. Int.\n",
       "-----------------------------------------------------------------------------\n",
       "eta            4.3984      0.425     10.354  4.003e-25      [  3.566,  5.231]\n",
       "lambda        -0.0331  3.048e-02     -1.087      0.277 [-9.289e-02,2.660e-02]\n",
       "=============================================================================\n",
       "\n",
       "Covariance estimator: robust\n",
       "ARCHModelResult, id: 0x1caa0f70bb0"
      ]
     },
     "execution_count": 20,
     "metadata": {},
     "output_type": "execute_result"
    }
   ],
   "source": [
    "am5.fit()"
   ]
  },
  {
   "cell_type": "code",
   "execution_count": 21,
   "metadata": {},
   "outputs": [
    {
     "name": "stdout",
     "output_type": "stream",
     "text": [
      "Iteration:      1,   Func. Count:      8,   Neg. LLF: 61691.42068508366\n",
      "Iteration:      2,   Func. Count:     18,   Neg. LLF: 135039.84003182483\n",
      "Iteration:      3,   Func. Count:     27,   Neg. LLF: 81173.47908621424\n",
      "Iteration:      4,   Func. Count:     36,   Neg. LLF: 147095.6063738566\n",
      "Iteration:      5,   Func. Count:     45,   Neg. LLF: 5525.809144590954\n",
      "Iteration:      6,   Func. Count:     53,   Neg. LLF: 3863.196062792278\n",
      "Iteration:      7,   Func. Count:     61,   Neg. LLF: 5194.31113095695\n",
      "Iteration:      8,   Func. Count:     69,   Neg. LLF: 3858.982341343833\n",
      "Iteration:      9,   Func. Count:     77,   Neg. LLF: 3851.3734042686165\n",
      "Iteration:     10,   Func. Count:     85,   Neg. LLF: 3851.162105607421\n",
      "Iteration:     11,   Func. Count:     93,   Neg. LLF: 3851.149772781636\n",
      "Iteration:     12,   Func. Count:    100,   Neg. LLF: 3851.149615629203\n",
      "Iteration:     13,   Func. Count:    107,   Neg. LLF: 3851.1496139155324\n",
      "Iteration:     14,   Func. Count:    113,   Neg. LLF: 3851.1496139154674\n",
      "Optimization terminated successfully    (Exit mode 0)\n",
      "            Current function value: 3851.1496139155324\n",
      "            Iterations: 14\n",
      "            Function evaluations: 113\n",
      "            Gradient evaluations: 14\n"
     ]
    }
   ],
   "source": [
    "am5_fitted = am5.fit()"
   ]
  },
  {
   "cell_type": "code",
   "execution_count": 22,
   "metadata": {},
   "outputs": [
    {
     "data": {
      "text/plain": [
       "mu          0.101442\n",
       "omega       0.150627\n",
       "alpha[1]    0.115299\n",
       "beta[1]     0.838460\n",
       "eta         4.398359\n",
       "lambda     -0.033144\n",
       "Name: params, dtype: float64"
      ]
     },
     "execution_count": 22,
     "metadata": {},
     "output_type": "execute_result"
    }
   ],
   "source": [
    "am5_fitted.params"
   ]
  },
  {
   "cell_type": "code",
   "execution_count": 27,
   "metadata": {},
   "outputs": [],
   "source": [
    "def get_resids_params(returns):\n",
    "    params = []\n",
    "    residuals = pd.DataFrame(columns=returns.columns)\n",
    "    uniform = pd.DataFrame(columns=returns.columns)\n",
    "\n",
    "    for i in range(0, returns.shape[1]):\n",
    "        am = arch_model(100*returns.iloc[:, i], vol=\"Garch\", p=1, o=0, q=1, dist=\"skewt\")\n",
    "        residuals[returns.columns[i]] = am.fit(disp=\"off\").resid / am.fit(disp='off').conditional_volatility\n",
    "        params.extend([{returns.columns[i]: am.fit(disp=\"off\").params.to_dict()}])\n",
    "        #uniform[returns.columns[i]] = am.distribution.cdf(residuals, parameters=[5,0.3])#am.fit(disp=\"off\").params[\"eta\"], am.fit(disp=\"off\").params[\"lambda\"]\n",
    "        #print(am.fit().params[\"eta\"])\n",
    "        #am.distribution.cdf(residuals, parameters=[5,0.3])\n",
    "\n",
    "\n",
    "    return params, residuals"
   ]
  },
  {
   "cell_type": "code",
   "execution_count": 28,
   "metadata": {},
   "outputs": [
    {
     "data": {
      "text/plain": [
       "([{'AAPL': {'mu': 0.1014416439253901,\n",
       "    'omega': 0.1506266412786028,\n",
       "    'alpha[1]': 0.11529873441545781,\n",
       "    'beta[1]': 0.8384598586791208,\n",
       "    'eta': 4.398359354333301,\n",
       "    'lambda': -0.03314420672820922}},\n",
       "  {'BAS.DE': {'mu': 0.04558713456485493,\n",
       "    'omega': 0.027201046240750443,\n",
       "    'alpha[1]': 0.05727509721895022,\n",
       "    'beta[1]': 0.9325909568000725,\n",
       "    'eta': 7.849038428723767,\n",
       "    'lambda': -0.04867563810640872}},\n",
       "  {'BMW.DE': {'mu': 0.037012700466833026,\n",
       "    'omega': 0.009238913142817854,\n",
       "    'alpha[1]': 0.036975917045191854,\n",
       "    'beta[1]': 0.9608160848837023,\n",
       "    'eta': 6.940803068597172,\n",
       "    'lambda': 0.028259043380350526}},\n",
       "  {'DBK.DE': {'mu': -0.06391671182725034,\n",
       "    'omega': 0.05749897474849735,\n",
       "    'alpha[1]': 0.05109186491473652,\n",
       "    'beta[1]': 0.9384915030903684,\n",
       "    'eta': 7.226761485229021,\n",
       "    'lambda': -0.022056439457213774}},\n",
       "  {'GOOG': {'mu': 0.057381430777707576,\n",
       "    'omega': 0.05463304130139145,\n",
       "    'alpha[1]': 0.03987587204325808,\n",
       "    'beta[1]': 0.9382364665241338,\n",
       "    'eta': 3.669236361326843,\n",
       "    'lambda': -0.023696888479217245}},\n",
       "  {'RWE.DE': {'mu': -0.03970866646657167,\n",
       "    'omega': 0.04770938247320989,\n",
       "    'alpha[1]': 0.06834672268068401,\n",
       "    'beta[1]': 0.9238490918996877,\n",
       "    'eta': 4.951745254668914,\n",
       "    'lambda': -0.03555663604259137}}],\n",
       "           AAPL    BAS.DE    BMW.DE    DBK.DE      GOOG    RWE.DE\n",
       " 0    -0.915344  0.361672  0.897538 -0.458643 -1.502924 -0.144901\n",
       " 1    -0.155489 -0.450149  0.506402  0.243015 -1.357941 -0.377405\n",
       " 2     0.323663 -0.227757 -0.846576  1.766119  0.702871 -0.106191\n",
       " 3    -0.600134 -0.775026 -0.937900 -0.527305 -0.117248  1.214682\n",
       " 4    -0.782537 -2.468498 -1.829619 -1.197645 -1.058371 -0.953185\n",
       " ...        ...       ...       ...       ...       ...       ...\n",
       " 2312  0.549068  0.207996 -0.483593 -0.054311  0.569381 -0.604254\n",
       " 2313 -1.586587  0.936360 -0.041663 -0.553170 -0.313420  0.570943\n",
       " 2314 -1.194817 -0.678135 -1.487896 -2.835179 -0.729664 -0.487870\n",
       " 2315 -1.799545  1.047492  0.056918  0.222665 -1.621258 -0.167069\n",
       " 2319 -0.019936  0.780505  0.761037  1.115252 -0.365988  1.616942\n",
       " \n",
       " [2134 rows x 6 columns])"
      ]
     },
     "execution_count": 28,
     "metadata": {},
     "output_type": "execute_result"
    }
   ],
   "source": [
    "get_resids_params(data)"
   ]
  },
  {
   "cell_type": "code",
   "execution_count": null,
   "metadata": {},
   "outputs": [
    {
     "data": {
      "text/plain": [
       "[{'AAPL': {'mu': 0.10144174835471881,\n",
       "   'omega': 0.15062481053401408,\n",
       "   'alpha[1]': 0.11529849338093554,\n",
       "   'beta[1]': 0.8384608393487325,\n",
       "   'eta': 4.398350222402111,\n",
       "   'lambda': -0.0331442661039331}},\n",
       " {'BAS.DE': {'mu': 0.04558679739719036,\n",
       "   'omega': 0.027200953073555457,\n",
       "   'alpha[1]': 0.05727479517227491,\n",
       "   'beta[1]': 0.9325911673245905,\n",
       "   'eta': 7.849176578033053,\n",
       "   'lambda': -0.04867627619633638}},\n",
       " {'BMW.DE': {'mu': 0.03701272748723445,\n",
       "   'omega': 0.009238866713722,\n",
       "   'alpha[1]': 0.03697591024251973,\n",
       "   'beta[1]': 0.9608160743717679,\n",
       "   'eta': 6.940846787454488,\n",
       "   'lambda': 0.028257901721633217}},\n",
       " {'DBK.DE': {'mu': -0.06391674003840897,\n",
       "   'omega': 0.05749887073303873,\n",
       "   'alpha[1]': 0.051091808058097224,\n",
       "   'beta[1]': 0.9384915382410848,\n",
       "   'eta': 7.226802619951065,\n",
       "   'lambda': -0.022056888997994226}},\n",
       " {'GOOG': {'mu': 0.057381430777707576,\n",
       "   'omega': 0.05463304130139145,\n",
       "   'alpha[1]': 0.03987587204325808,\n",
       "   'beta[1]': 0.9382364665241338,\n",
       "   'eta': 3.669236361326843,\n",
       "   'lambda': -0.023696888479217245}},\n",
       " {'RWE.DE': {'mu': -0.03970880972868475,\n",
       "   'omega': 0.0477094810316078,\n",
       "   'alpha[1]': 0.06834659330560677,\n",
       "   'beta[1]': 0.9238491063752546,\n",
       "   'eta': 4.951758420174253,\n",
       "   'lambda': -0.03555731171594533}}]"
      ]
     },
     "execution_count": 31,
     "metadata": {},
     "output_type": "execute_result"
    }
   ],
   "source": [
    "params_"
   ]
  },
  {
   "cell_type": "code",
   "execution_count": null,
   "metadata": {},
   "outputs": [],
   "source": [
    "def get_residuals(returns):\n",
    "    \n",
    "    params = []\n",
    "    residuals = pd.DataFrame(columns=returns.columns)\n",
    "    for i in range(0, returns.shape[1]):\n",
    "        am = arch_model(100*returns.iloc[:, i], vol=\"Garch\", p=1, o=0, q=1, dist=\"skewt\")\n",
    "        residuals[returns.columns[i]] = am.fit(disp=\"off\").resid / am.fit(disp='off').conditional_volatility\n",
    "        params.extend([{returns.columns[i]: am.fit(disp=\"off\").params.to_dict()}])\n",
    "\n",
    "    return residuals, params"
   ]
  },
  {
   "cell_type": "code",
   "execution_count": null,
   "metadata": {},
   "outputs": [],
   "source": [
    "resids, params = get_residuals(data)"
   ]
  },
  {
   "cell_type": "code",
   "execution_count": null,
   "metadata": {},
   "outputs": [],
   "source": [
    "def get_uniform(returns, resids, params):\n",
    "    #print(params)\n",
    "    \n",
    "    uniform = pd.DataFrame(columns=data.columns)\n",
    "    for i in range(0, data.shape[1]):\n",
    "        am = arch_model(vol=\"Garch\", p=1, o=0, q=1, dist=\"skewt\")\n",
    "        eta_ = params[i][data.columns[i]]['eta']\n",
    "        lambda_ = params[i][data.columns[i]]['lambda']\n",
    "        uniform[data.columns[i]] = am.distribution.cdf(data.iloc[:, i], parameters=[eta_, lambda_])\n",
    "\n",
    "    return uniform.to_numpy()\n",
    "    #u = am.distribution.cdf(garch_results, parameters=[res.params[\"eta\"], res.params[\"lambda\"]])\n"
   ]
  },
  {
   "cell_type": "code",
   "execution_count": null,
   "metadata": {},
   "outputs": [
    {
     "ename": "TypeError",
     "evalue": "arch_model() missing 1 required positional argument: 'y'",
     "output_type": "error",
     "traceback": [
      "\u001b[1;31m---------------------------------------------------------------------------\u001b[0m",
      "\u001b[1;31mTypeError\u001b[0m                                 Traceback (most recent call last)",
      "\u001b[1;32mc:\\Users\\morit\\Dropbox\\Data Science\\Git\\VaR\\VineCopula-GARCH-for-Value-at-Risk-Prediction\\VaR.ipynb Cell 22\u001b[0m in \u001b[0;36m<cell line: 1>\u001b[1;34m()\u001b[0m\n\u001b[1;32m----> <a href='vscode-notebook-cell:/c%3A/Users/morit/Dropbox/Data%20Science/Git/VaR/VineCopula-GARCH-for-Value-at-Risk-Prediction/VaR.ipynb#X30sZmlsZQ%3D%3D?line=0'>1</a>\u001b[0m uniform \u001b[39m=\u001b[39m get_uniform(resids, params)\n",
      "\u001b[1;32mc:\\Users\\morit\\Dropbox\\Data Science\\Git\\VaR\\VineCopula-GARCH-for-Value-at-Risk-Prediction\\VaR.ipynb Cell 22\u001b[0m in \u001b[0;36mget_uniform\u001b[1;34m(data, params)\u001b[0m\n\u001b[0;32m      <a href='vscode-notebook-cell:/c%3A/Users/morit/Dropbox/Data%20Science/Git/VaR/VineCopula-GARCH-for-Value-at-Risk-Prediction/VaR.ipynb#X30sZmlsZQ%3D%3D?line=3'>4</a>\u001b[0m uniform \u001b[39m=\u001b[39m pd\u001b[39m.\u001b[39mDataFrame(columns\u001b[39m=\u001b[39mdata\u001b[39m.\u001b[39mcolumns)\n\u001b[0;32m      <a href='vscode-notebook-cell:/c%3A/Users/morit/Dropbox/Data%20Science/Git/VaR/VineCopula-GARCH-for-Value-at-Risk-Prediction/VaR.ipynb#X30sZmlsZQ%3D%3D?line=4'>5</a>\u001b[0m \u001b[39mfor\u001b[39;00m i \u001b[39min\u001b[39;00m \u001b[39mrange\u001b[39m(\u001b[39m0\u001b[39m, data\u001b[39m.\u001b[39mshape[\u001b[39m1\u001b[39m]):\n\u001b[1;32m----> <a href='vscode-notebook-cell:/c%3A/Users/morit/Dropbox/Data%20Science/Git/VaR/VineCopula-GARCH-for-Value-at-Risk-Prediction/VaR.ipynb#X30sZmlsZQ%3D%3D?line=5'>6</a>\u001b[0m     am \u001b[39m=\u001b[39m arch_model(vol\u001b[39m=\u001b[39;49m\u001b[39m\"\u001b[39;49m\u001b[39mGarch\u001b[39;49m\u001b[39m\"\u001b[39;49m, p\u001b[39m=\u001b[39;49m\u001b[39m1\u001b[39;49m, o\u001b[39m=\u001b[39;49m\u001b[39m0\u001b[39;49m, q\u001b[39m=\u001b[39;49m\u001b[39m1\u001b[39;49m, dist\u001b[39m=\u001b[39;49m\u001b[39m\"\u001b[39;49m\u001b[39mskewt\u001b[39;49m\u001b[39m\"\u001b[39;49m)\n\u001b[0;32m      <a href='vscode-notebook-cell:/c%3A/Users/morit/Dropbox/Data%20Science/Git/VaR/VineCopula-GARCH-for-Value-at-Risk-Prediction/VaR.ipynb#X30sZmlsZQ%3D%3D?line=6'>7</a>\u001b[0m     eta_ \u001b[39m=\u001b[39m params[i][data\u001b[39m.\u001b[39mcolumns[i]][\u001b[39m'\u001b[39m\u001b[39meta\u001b[39m\u001b[39m'\u001b[39m]\n\u001b[0;32m      <a href='vscode-notebook-cell:/c%3A/Users/morit/Dropbox/Data%20Science/Git/VaR/VineCopula-GARCH-for-Value-at-Risk-Prediction/VaR.ipynb#X30sZmlsZQ%3D%3D?line=7'>8</a>\u001b[0m     lambda_ \u001b[39m=\u001b[39m params[i][data\u001b[39m.\u001b[39mcolumns[i]][\u001b[39m'\u001b[39m\u001b[39mlambda\u001b[39m\u001b[39m'\u001b[39m]\n",
      "\u001b[1;31mTypeError\u001b[0m: arch_model() missing 1 required positional argument: 'y'"
     ]
    }
   ],
   "source": [
    "uniform = get_uniform(resids, params)"
   ]
  },
  {
   "cell_type": "code",
   "execution_count": null,
   "metadata": {},
   "outputs": [],
   "source": [
    "def simulate_from_vine_copula(data, n = 10000):\n",
    "    copula = pv.Vinecop(data)\n",
    "    simulated = copula.simulate(n)\n",
    "    return simulated"
   ]
  },
  {
   "cell_type": "code",
   "execution_count": null,
   "metadata": {},
   "outputs": [],
   "source": [
    "sims = simulate_from_vine_copula(uniform)"
   ]
  },
  {
   "cell_type": "code",
   "execution_count": null,
   "metadata": {},
   "outputs": [],
   "source": [
    "def transform_to_dist(data):\n",
    "    am = arch_model(data.AAPL*100, vol=\"Garch\", p=1, o=0, q=1, dist=\"skewt\")\n",
    "    for i in range(0, data.shape[1]):\n",
    "        eta_ = params[i][data.columns[i]]['eta']\n",
    "        lambda_ = params[i][data.columns[i]]['lambda']\n",
    "        uniform[data.columns[i]] = am.distribution.cdf(data.iloc[:, i], parameters=[eta_, lambda_])"
   ]
  },
  {
   "cell_type": "code",
   "execution_count": null,
   "metadata": {},
   "outputs": [
    {
     "ename": "AttributeError",
     "evalue": "'numpy.ndarray' object has no attribute 'AAPL'",
     "output_type": "error",
     "traceback": [
      "\u001b[1;31m---------------------------------------------------------------------------\u001b[0m",
      "\u001b[1;31mAttributeError\u001b[0m                            Traceback (most recent call last)",
      "\u001b[1;32mc:\\Users\\morit\\Dropbox\\Data Science\\Git\\VaR\\VineCopula-GARCH-for-Value-at-Risk-Prediction\\VaR.ipynb Cell 26\u001b[0m in \u001b[0;36m<cell line: 1>\u001b[1;34m()\u001b[0m\n\u001b[1;32m----> <a href='vscode-notebook-cell:/c%3A/Users/morit/Dropbox/Data%20Science/Git/VaR/VineCopula-GARCH-for-Value-at-Risk-Prediction/VaR.ipynb#X44sZmlsZQ%3D%3D?line=0'>1</a>\u001b[0m sims2 \u001b[39m=\u001b[39m transform_to_dist(sims)\n",
      "\u001b[1;32mc:\\Users\\morit\\Dropbox\\Data Science\\Git\\VaR\\VineCopula-GARCH-for-Value-at-Risk-Prediction\\VaR.ipynb Cell 26\u001b[0m in \u001b[0;36mtransform_to_dist\u001b[1;34m(data)\u001b[0m\n\u001b[0;32m      <a href='vscode-notebook-cell:/c%3A/Users/morit/Dropbox/Data%20Science/Git/VaR/VineCopula-GARCH-for-Value-at-Risk-Prediction/VaR.ipynb#X44sZmlsZQ%3D%3D?line=0'>1</a>\u001b[0m \u001b[39mdef\u001b[39;00m \u001b[39mtransform_to_dist\u001b[39m(data):\n\u001b[1;32m----> <a href='vscode-notebook-cell:/c%3A/Users/morit/Dropbox/Data%20Science/Git/VaR/VineCopula-GARCH-for-Value-at-Risk-Prediction/VaR.ipynb#X44sZmlsZQ%3D%3D?line=1'>2</a>\u001b[0m     am \u001b[39m=\u001b[39m arch_model(data\u001b[39m.\u001b[39;49mAAPL\u001b[39m*\u001b[39m\u001b[39m100\u001b[39m, vol\u001b[39m=\u001b[39m\u001b[39m\"\u001b[39m\u001b[39mGarch\u001b[39m\u001b[39m\"\u001b[39m, p\u001b[39m=\u001b[39m\u001b[39m1\u001b[39m, o\u001b[39m=\u001b[39m\u001b[39m0\u001b[39m, q\u001b[39m=\u001b[39m\u001b[39m1\u001b[39m, dist\u001b[39m=\u001b[39m\u001b[39m\"\u001b[39m\u001b[39mskewt\u001b[39m\u001b[39m\"\u001b[39m)\n\u001b[0;32m      <a href='vscode-notebook-cell:/c%3A/Users/morit/Dropbox/Data%20Science/Git/VaR/VineCopula-GARCH-for-Value-at-Risk-Prediction/VaR.ipynb#X44sZmlsZQ%3D%3D?line=2'>3</a>\u001b[0m     \u001b[39mfor\u001b[39;00m i \u001b[39min\u001b[39;00m \u001b[39mrange\u001b[39m(\u001b[39m0\u001b[39m, data\u001b[39m.\u001b[39mshape[\u001b[39m1\u001b[39m]):\n\u001b[0;32m      <a href='vscode-notebook-cell:/c%3A/Users/morit/Dropbox/Data%20Science/Git/VaR/VineCopula-GARCH-for-Value-at-Risk-Prediction/VaR.ipynb#X44sZmlsZQ%3D%3D?line=3'>4</a>\u001b[0m         eta_ \u001b[39m=\u001b[39m params[i][data\u001b[39m.\u001b[39mcolumns[i]][\u001b[39m'\u001b[39m\u001b[39meta\u001b[39m\u001b[39m'\u001b[39m]\n",
      "\u001b[1;31mAttributeError\u001b[0m: 'numpy.ndarray' object has no attribute 'AAPL'"
     ]
    }
   ],
   "source": [
    "sims2 = transform_to_dist(sims)"
   ]
  },
  {
   "cell_type": "code",
   "execution_count": null,
   "metadata": {},
   "outputs": [
    {
     "data": {
      "text/plain": [
       "10000"
      ]
     },
     "execution_count": 26,
     "metadata": {},
     "output_type": "execute_result"
    }
   ],
   "source": [
    "len(sims[:,0])"
   ]
  },
  {
   "cell_type": "code",
   "execution_count": null,
   "metadata": {},
   "outputs": [
    {
     "data": {
      "text/plain": [
       "(10000, 6)"
      ]
     },
     "execution_count": 27,
     "metadata": {},
     "output_type": "execute_result"
    }
   ],
   "source": [
    "sims.shape"
   ]
  },
  {
   "cell_type": "code",
   "execution_count": null,
   "metadata": {},
   "outputs": [],
   "source": []
  }
 ],
 "metadata": {
  "kernelspec": {
   "display_name": "Python 3.10.10 ('copulagarch')",
   "language": "python",
   "name": "python3"
  },
  "language_info": {
   "codemirror_mode": {
    "name": "ipython",
    "version": 3
   },
   "file_extension": ".py",
   "mimetype": "text/x-python",
   "name": "python",
   "nbconvert_exporter": "python",
   "pygments_lexer": "ipython3",
   "version": "3.10.10"
  },
  "orig_nbformat": 4,
  "vscode": {
   "interpreter": {
    "hash": "a490e930fd559b7c08cc23e0a3dd49c3f7c65b4ff0c36f455d90d339662a10ad"
   }
  }
 },
 "nbformat": 4,
 "nbformat_minor": 2
}
