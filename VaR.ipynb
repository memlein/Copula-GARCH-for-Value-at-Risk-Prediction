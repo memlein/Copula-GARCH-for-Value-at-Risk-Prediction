{
 "cells": [
  {
   "cell_type": "code",
   "execution_count": 1,
   "metadata": {},
   "outputs": [],
   "source": [
    "import pandas as pd \n",
    "import numpy as np \n",
    "import yfinance as yf\n",
    "import matplotlib.pyplot as plt \n",
    "import seaborn as sns; sns.set()\n",
    "import pyvinecopulib as pv\n",
    "import statsmodels.api as sm\n",
    "import statsmodels.formula.api as smf"
   ]
  },
  {
   "cell_type": "code",
   "execution_count": 2,
   "metadata": {},
   "outputs": [
    {
     "name": "stdout",
     "output_type": "stream",
     "text": [
      "[*********************100%***********************]  6 of 6 completed\n"
     ]
    }
   ],
   "source": [
    "data = yf.download([\"AAPL\", \"GOOG\", \"BAS.DE\", \"BMW.DE\", \"RWE.DE\", \"DBK.DE\"], start = \"2010-01-01\", end = \"2018-12-31\") #\"GOOG\", \"BAS.DE\", \"BMW.DE\", \"RWE.DE\", \"DBK.DE\""
   ]
  },
  {
   "cell_type": "code",
   "execution_count": 4,
   "metadata": {},
   "outputs": [],
   "source": [
    "import pickle\n",
    "pickle.dump(data, open(\"data.pkl\", \"wb\"))"
   ]
  },
  {
   "cell_type": "code",
   "execution_count": 5,
   "metadata": {},
   "outputs": [
    {
     "data": {
      "text/html": [
       "<div>\n",
       "<style scoped>\n",
       "    .dataframe tbody tr th:only-of-type {\n",
       "        vertical-align: middle;\n",
       "    }\n",
       "\n",
       "    .dataframe tbody tr th {\n",
       "        vertical-align: top;\n",
       "    }\n",
       "\n",
       "    .dataframe thead tr th {\n",
       "        text-align: left;\n",
       "    }\n",
       "\n",
       "    .dataframe thead tr:last-of-type th {\n",
       "        text-align: right;\n",
       "    }\n",
       "</style>\n",
       "<table border=\"1\" class=\"dataframe\">\n",
       "  <thead>\n",
       "    <tr>\n",
       "      <th></th>\n",
       "      <th colspan=\"6\" halign=\"left\">Adj Close</th>\n",
       "      <th colspan=\"4\" halign=\"left\">Close</th>\n",
       "      <th>...</th>\n",
       "      <th colspan=\"4\" halign=\"left\">Open</th>\n",
       "      <th colspan=\"6\" halign=\"left\">Volume</th>\n",
       "    </tr>\n",
       "    <tr>\n",
       "      <th></th>\n",
       "      <th>AAPL</th>\n",
       "      <th>BAS.DE</th>\n",
       "      <th>BMW.DE</th>\n",
       "      <th>DBK.DE</th>\n",
       "      <th>GOOG</th>\n",
       "      <th>RWE.DE</th>\n",
       "      <th>AAPL</th>\n",
       "      <th>BAS.DE</th>\n",
       "      <th>BMW.DE</th>\n",
       "      <th>DBK.DE</th>\n",
       "      <th>...</th>\n",
       "      <th>BMW.DE</th>\n",
       "      <th>DBK.DE</th>\n",
       "      <th>GOOG</th>\n",
       "      <th>RWE.DE</th>\n",
       "      <th>AAPL</th>\n",
       "      <th>BAS.DE</th>\n",
       "      <th>BMW.DE</th>\n",
       "      <th>DBK.DE</th>\n",
       "      <th>GOOG</th>\n",
       "      <th>RWE.DE</th>\n",
       "    </tr>\n",
       "    <tr>\n",
       "      <th>Date</th>\n",
       "      <th></th>\n",
       "      <th></th>\n",
       "      <th></th>\n",
       "      <th></th>\n",
       "      <th></th>\n",
       "      <th></th>\n",
       "      <th></th>\n",
       "      <th></th>\n",
       "      <th></th>\n",
       "      <th></th>\n",
       "      <th></th>\n",
       "      <th></th>\n",
       "      <th></th>\n",
       "      <th></th>\n",
       "      <th></th>\n",
       "      <th></th>\n",
       "      <th></th>\n",
       "      <th></th>\n",
       "      <th></th>\n",
       "      <th></th>\n",
       "      <th></th>\n",
       "    </tr>\n",
       "  </thead>\n",
       "  <tbody>\n",
       "    <tr>\n",
       "      <th>2010-01-04</th>\n",
       "      <td>6.505279</td>\n",
       "      <td>24.106215</td>\n",
       "      <td>19.280521</td>\n",
       "      <td>32.229893</td>\n",
       "      <td>15.610239</td>\n",
       "      <td>39.131065</td>\n",
       "      <td>7.643214</td>\n",
       "      <td>44.849998</td>\n",
       "      <td>32.049999</td>\n",
       "      <td>39.474529</td>\n",
       "      <td>...</td>\n",
       "      <td>31.820000</td>\n",
       "      <td>38.837593</td>\n",
       "      <td>15.615220</td>\n",
       "      <td>68.222816</td>\n",
       "      <td>493729600.0</td>\n",
       "      <td>3245626.0</td>\n",
       "      <td>1808170.0</td>\n",
       "      <td>4425924.0</td>\n",
       "      <td>78541293.0</td>\n",
       "      <td>2022078.0</td>\n",
       "    </tr>\n",
       "    <tr>\n",
       "      <th>2010-01-05</th>\n",
       "      <td>6.516527</td>\n",
       "      <td>23.740723</td>\n",
       "      <td>19.436928</td>\n",
       "      <td>32.749939</td>\n",
       "      <td>15.541497</td>\n",
       "      <td>38.881397</td>\n",
       "      <td>7.656429</td>\n",
       "      <td>44.169998</td>\n",
       "      <td>32.310001</td>\n",
       "      <td>40.111465</td>\n",
       "      <td>...</td>\n",
       "      <td>31.959999</td>\n",
       "      <td>39.381317</td>\n",
       "      <td>15.620949</td>\n",
       "      <td>68.770988</td>\n",
       "      <td>601904800.0</td>\n",
       "      <td>3292371.0</td>\n",
       "      <td>1564182.0</td>\n",
       "      <td>5950810.0</td>\n",
       "      <td>120638494.0</td>\n",
       "      <td>2040667.0</td>\n",
       "    </tr>\n",
       "    <tr>\n",
       "      <th>2010-01-06</th>\n",
       "      <td>6.412873</td>\n",
       "      <td>23.891224</td>\n",
       "      <td>19.737720</td>\n",
       "      <td>32.407471</td>\n",
       "      <td>15.149715</td>\n",
       "      <td>38.807621</td>\n",
       "      <td>7.534643</td>\n",
       "      <td>44.450001</td>\n",
       "      <td>32.810001</td>\n",
       "      <td>39.692020</td>\n",
       "      <td>...</td>\n",
       "      <td>32.450001</td>\n",
       "      <td>39.909512</td>\n",
       "      <td>15.588072</td>\n",
       "      <td>68.202881</td>\n",
       "      <td>552160000.0</td>\n",
       "      <td>2345128.0</td>\n",
       "      <td>2218604.0</td>\n",
       "      <td>5818935.0</td>\n",
       "      <td>159744526.0</td>\n",
       "      <td>1535087.0</td>\n",
       "    </tr>\n",
       "    <tr>\n",
       "      <th>2010-01-07</th>\n",
       "      <td>6.401018</td>\n",
       "      <td>23.732662</td>\n",
       "      <td>19.912170</td>\n",
       "      <td>32.553345</td>\n",
       "      <td>14.797037</td>\n",
       "      <td>38.643063</td>\n",
       "      <td>7.520714</td>\n",
       "      <td>44.154999</td>\n",
       "      <td>33.099998</td>\n",
       "      <td>39.870674</td>\n",
       "      <td>...</td>\n",
       "      <td>32.650002</td>\n",
       "      <td>39.381317</td>\n",
       "      <td>15.178109</td>\n",
       "      <td>67.923813</td>\n",
       "      <td>477131200.0</td>\n",
       "      <td>2505352.0</td>\n",
       "      <td>2026145.0</td>\n",
       "      <td>4506202.0</td>\n",
       "      <td>257533695.0</td>\n",
       "      <td>1765257.0</td>\n",
       "    </tr>\n",
       "    <tr>\n",
       "      <th>2010-01-08</th>\n",
       "      <td>6.443573</td>\n",
       "      <td>23.660107</td>\n",
       "      <td>19.644474</td>\n",
       "      <td>33.739288</td>\n",
       "      <td>14.994298</td>\n",
       "      <td>38.586319</td>\n",
       "      <td>7.570714</td>\n",
       "      <td>44.020000</td>\n",
       "      <td>32.654999</td>\n",
       "      <td>41.323200</td>\n",
       "      <td>...</td>\n",
       "      <td>33.334999</td>\n",
       "      <td>40.740635</td>\n",
       "      <td>14.744733</td>\n",
       "      <td>68.133118</td>\n",
       "      <td>447610800.0</td>\n",
       "      <td>3307737.0</td>\n",
       "      <td>1925894.0</td>\n",
       "      <td>10753806.0</td>\n",
       "      <td>189680313.0</td>\n",
       "      <td>1665122.0</td>\n",
       "    </tr>\n",
       "  </tbody>\n",
       "</table>\n",
       "<p>5 rows × 36 columns</p>\n",
       "</div>"
      ],
      "text/plain": [
       "           Adj Close                                                         \\\n",
       "                AAPL     BAS.DE     BMW.DE     DBK.DE       GOOG     RWE.DE   \n",
       "Date                                                                          \n",
       "2010-01-04  6.505279  24.106215  19.280521  32.229893  15.610239  39.131065   \n",
       "2010-01-05  6.516527  23.740723  19.436928  32.749939  15.541497  38.881397   \n",
       "2010-01-06  6.412873  23.891224  19.737720  32.407471  15.149715  38.807621   \n",
       "2010-01-07  6.401018  23.732662  19.912170  32.553345  14.797037  38.643063   \n",
       "2010-01-08  6.443573  23.660107  19.644474  33.739288  14.994298  38.586319   \n",
       "\n",
       "               Close                                   ...       Open  \\\n",
       "                AAPL     BAS.DE     BMW.DE     DBK.DE  ...     BMW.DE   \n",
       "Date                                                   ...              \n",
       "2010-01-04  7.643214  44.849998  32.049999  39.474529  ...  31.820000   \n",
       "2010-01-05  7.656429  44.169998  32.310001  40.111465  ...  31.959999   \n",
       "2010-01-06  7.534643  44.450001  32.810001  39.692020  ...  32.450001   \n",
       "2010-01-07  7.520714  44.154999  33.099998  39.870674  ...  32.650002   \n",
       "2010-01-08  7.570714  44.020000  32.654999  41.323200  ...  33.334999   \n",
       "\n",
       "                                                  Volume             \\\n",
       "               DBK.DE       GOOG     RWE.DE         AAPL     BAS.DE   \n",
       "Date                                                                  \n",
       "2010-01-04  38.837593  15.615220  68.222816  493729600.0  3245626.0   \n",
       "2010-01-05  39.381317  15.620949  68.770988  601904800.0  3292371.0   \n",
       "2010-01-06  39.909512  15.588072  68.202881  552160000.0  2345128.0   \n",
       "2010-01-07  39.381317  15.178109  67.923813  477131200.0  2505352.0   \n",
       "2010-01-08  40.740635  14.744733  68.133118  447610800.0  3307737.0   \n",
       "\n",
       "                                                           \n",
       "               BMW.DE      DBK.DE         GOOG     RWE.DE  \n",
       "Date                                                       \n",
       "2010-01-04  1808170.0   4425924.0   78541293.0  2022078.0  \n",
       "2010-01-05  1564182.0   5950810.0  120638494.0  2040667.0  \n",
       "2010-01-06  2218604.0   5818935.0  159744526.0  1535087.0  \n",
       "2010-01-07  2026145.0   4506202.0  257533695.0  1765257.0  \n",
       "2010-01-08  1925894.0  10753806.0  189680313.0  1665122.0  \n",
       "\n",
       "[5 rows x 36 columns]"
      ]
     },
     "execution_count": 5,
     "metadata": {},
     "output_type": "execute_result"
    }
   ],
   "source": [
    "data.head()"
   ]
  },
  {
   "cell_type": "code",
   "execution_count": 6,
   "metadata": {},
   "outputs": [],
   "source": [
    "data = data[\"Adj Close\"]"
   ]
  },
  {
   "cell_type": "code",
   "execution_count": 7,
   "metadata": {},
   "outputs": [],
   "source": [
    "def logtransform(data):\n",
    "    data = pd.DataFrame(np.diff(np.log(data[1:]), axis=0), columns=data.columns)\n",
    "    return data"
   ]
  },
  {
   "cell_type": "code",
   "execution_count": 8,
   "metadata": {},
   "outputs": [],
   "source": [
    "data = logtransform(data)"
   ]
  },
  {
   "cell_type": "code",
   "execution_count": 9,
   "metadata": {},
   "outputs": [],
   "source": [
    "data = data.dropna(axis=0)"
   ]
  },
  {
   "cell_type": "code",
   "execution_count": 10,
   "metadata": {},
   "outputs": [
    {
     "data": {
      "image/png": "[encoded data removed]",
      "text/plain": [
       "<Figure size 640x480 with 1 Axes>"
      ]
     },
     "metadata": {},
     "output_type": "display_data"
    }
   ],
   "source": [
    "sns.lineplot(data = data);"
   ]
  },
  {
   "cell_type": "code",
   "execution_count": 11,
   "metadata": {},
   "outputs": [],
   "source": [
    "PF = data.mean(axis=1)"
   ]
  },
  {
   "cell_type": "code",
   "execution_count": 12,
   "metadata": {},
   "outputs": [
    {
     "data": {
      "image/png": "[encoded data removed]",
      "text/plain": [
       "<Figure size 640x480 with 1 Axes>"
      ]
     },
     "metadata": {},
     "output_type": "display_data"
    }
   ],
   "source": [
    "sns.lineplot(x = PF.index, y = PF);"
   ]
  },
  {
   "attachments": {},
   "cell_type": "markdown",
   "metadata": {},
   "source": [
    "GARCH"
   ]
  },
  {
   "attachments": {},
   "cell_type": "markdown",
   "metadata": {},
   "source": [
    "Estimate GARCH models for each return series $j=1,...,K$ and $t=1,..,T$\n",
    "\n",
    "$r_{t,j} = \\mu_{t,j}  + \\epsilon_{t,j}$\n",
    "\n",
    "$\\epsilon_{t,j} = \\sigma_{t,j} Z_{t,j} $\n",
    "\n",
    "\n",
    "${\\sigma_{t,j}}^2 = \\omega_j +  \\alpha_{k,j} \\varepsilon_{t-1,j}^2 + \\beta_{k,j} \\sigma_{t-1,j}^2$ \n",
    "\n",
    "$Z_{t,j}$ as assumed innovation distribution and standardized residuals as \n",
    "\n",
    "$\\hat{z}_{t,j} = \\frac{1}{\\hat{\\sigma}_{t,j}} \\Bigl(  r_{t,j} - \\hat{\\mu}_j       \\Bigr)$\n"
   ]
  },
  {
   "cell_type": "code",
   "execution_count": 14,
   "metadata": {},
   "outputs": [],
   "source": [
    "from arch import arch_model"
   ]
  },
  {
   "cell_type": "code",
   "execution_count": 15,
   "metadata": {},
   "outputs": [],
   "source": [
    "def fit_model(data):\n",
    "    am = arch_model(data, vol=\"Garch\", p=1, o=0, q=1, dist=\"skewt\", mean='constant')\n",
    "\n",
    "    res = am.fit()\n",
    "\n",
    "    return res\n",
    "\n"
   ]
  },
  {
   "cell_type": "code",
   "execution_count": 16,
   "metadata": {},
   "outputs": [
    {
     "data": {
      "text/plain": [
       "0.0002624546613834212"
      ]
     },
     "execution_count": 16,
     "metadata": {},
     "output_type": "execute_result"
    }
   ],
   "source": [
    "np.var(data.AAPL)"
   ]
  },
  {
   "attachments": {},
   "cell_type": "markdown",
   "metadata": {},
   "source": [
    "${\\hat{\\sigma}_{t+1,j}}^2 = \\hat{\\omega}_j +  \\hat{\\alpha}_{t,j} \\hat{\\sigma}^2_{t,j} \\hat{z}^2_{t,j} + \\hat{\\beta}_{k,j} \\hat{\\sigma}_{t-1,j}^2$ "
   ]
  },
  {
   "cell_type": "code",
   "execution_count": 48,
   "metadata": {},
   "outputs": [],
   "source": [
    "def get_variance_forecast(model):\n",
    "    omega_hat = model.params[1]\n",
    "    alpha_hat = model.params[2]\n",
    "    beta_hat = model.params[3]\n",
    "    "
   ]
  },
  {
   "cell_type": "code",
   "execution_count": null,
   "metadata": {},
   "outputs": [],
   "source": [
    "def get_standardized_residuals(model, data):\n",
    "    \n",
    "    \n"
   ]
  },
  {
   "cell_type": "code",
   "execution_count": 42,
   "metadata": {},
   "outputs": [
    {
     "name": "stdout",
     "output_type": "stream",
     "text": [
      "Iteration:      1,   Func. Count:      8,   Neg. LLF: 112111.96678951575\n",
      "Iteration:      2,   Func. Count:     25,   Neg. LLF: 266766.85194092273\n",
      "Iteration:      3,   Func. Count:     37,   Neg. LLF: 7134.014818341222\n",
      "Iteration:      4,   Func. Count:     47,   Neg. LLF: -1206.7918888130757\n",
      "Iteration:      5,   Func. Count:     55,   Neg. LLF: 125123.62617359494\n",
      "Iteration:      6,   Func. Count:     70,   Neg. LLF: 11063.258952663371\n",
      "Iteration:      7,   Func. Count:     81,   Neg. LLF: 6488.90426087692\n",
      "Iteration:      8,   Func. Count:     90,   Neg. LLF: 9604.846617854622\n",
      "Iteration:      9,   Func. Count:    102,   Neg. LLF: 22277.496888562117\n",
      "Iteration:     10,   Func. Count:    113,   Neg. LLF: -4355.450401279182\n",
      "Optimization terminated successfully    (Exit mode 0)\n",
      "            Current function value: -4355.450400979544\n",
      "            Iterations: 14\n",
      "            Function evaluations: 113\n",
      "            Gradient evaluations: 10\n"
     ]
    },
    {
     "name": "stderr",
     "output_type": "stream",
     "text": [
      "c:\\Users\\morit\\anaconda3\\envs\\copulagarch\\lib\\site-packages\\arch\\univariate\\base.py:309: DataScaleWarning: y is poorly scaled, which may affect convergence of the optimizer when\n",
      "estimating the model parameters. The scale of y is 0.0002625. Parameter\n",
      "estimation work better when this value is between 1 and 1000. The recommended\n",
      "rescaling is 100 * y.\n",
      "\n",
      "This warning can be disabled by either rescaling y before initializing the\n",
      "model or by setting rescale=False.\n",
      "\n",
      "  warnings.warn(\n"
     ]
    }
   ],
   "source": [
    "res2 = fit_model(data.AAPL)"
   ]
  },
  {
   "cell_type": "code",
   "execution_count": 47,
   "metadata": {},
   "outputs": [
    {
     "data": {
      "text/html": [
       "<table class=\"simpletable\">\n",
       "<caption>Constant Mean - GARCH Model Results</caption>\n",
       "<tr>\n",
       "  <th>Dep. Variable:</th>             <td>AAPL</td>              <th>  R-squared:         </th>  <td>   0.000</td> \n",
       "</tr>\n",
       "<tr>\n",
       "  <th>Mean Model:</th>            <td>Constant Mean</td>         <th>  Adj. R-squared:    </th>  <td>   0.000</td> \n",
       "</tr>\n",
       "<tr>\n",
       "  <th>Vol Model:</th>                 <td>GARCH</td>             <th>  Log-Likelihood:    </th> <td>   4355.45</td>\n",
       "</tr>\n",
       "<tr>\n",
       "  <th>Distribution:</th>  <td>Standardized Skew Student's t</td> <th>  AIC:               </th> <td>  -8698.90</td>\n",
       "</tr>\n",
       "<tr>\n",
       "  <th>Method:</th>             <td>Maximum Likelihood</td>       <th>  BIC:               </th> <td>  -8664.91</td>\n",
       "</tr>\n",
       "<tr>\n",
       "  <th></th>                             <td></td>                <th>  No. Observations:  </th>    <td>2134</td>   \n",
       "</tr>\n",
       "<tr>\n",
       "  <th>Date:</th>                <td>Sat, Apr 01 2023</td>        <th>  Df Residuals:      </th>    <td>2133</td>   \n",
       "</tr>\n",
       "<tr>\n",
       "  <th>Time:</th>                    <td>20:46:32</td>            <th>  Df Model:          </th>      <td>1</td>    \n",
       "</tr>\n",
       "</table>\n",
       "<table class=\"simpletable\">\n",
       "<caption>Mean Model</caption>\n",
       "<tr>\n",
       "   <td></td>     <th>coef</th>      <th>std err</th>      <th>t</th>       <th>P>|t|</th>      <th>95.0% Conf. Int.</th>   \n",
       "</tr>\n",
       "<tr>\n",
       "  <th>mu</th> <td>-5.8903e-04</td> <td>6.799e-04</td> <td>   -0.866</td> <td>    0.386</td> <td>[-1.922e-03,7.435e-04]</td>\n",
       "</tr>\n",
       "</table>\n",
       "<table class=\"simpletable\">\n",
       "<caption>Volatility Model</caption>\n",
       "<tr>\n",
       "      <td></td>        <th>coef</th>     <th>std err</th>      <th>t</th>       <th>P>|t|</th>     <th>95.0% Conf. Int.</th>   \n",
       "</tr>\n",
       "<tr>\n",
       "  <th>omega</th>    <td>1.4061e-03</td> <td>2.635e-05</td> <td>   53.352</td>   <td>0.000</td>   <td>[1.354e-03,1.458e-03]</td>\n",
       "</tr>\n",
       "<tr>\n",
       "  <th>alpha[1]</th> <td>    0.5844</td> <td>    0.110</td> <td>    5.291</td> <td>1.214e-07</td>   <td>[  0.368,  0.801]</td>  \n",
       "</tr>\n",
       "<tr>\n",
       "  <th>beta[1]</th>  <td>    0.3695</td> <td>4.174e-03</td> <td>   88.525</td>   <td>0.000</td>     <td>[  0.361,  0.378]</td>  \n",
       "</tr>\n",
       "</table>\n",
       "<table class=\"simpletable\">\n",
       "<caption>Distribution</caption>\n",
       "<tr>\n",
       "     <td></td>       <th>coef</th>     <th>std err</th>      <th>t</th>       <th>P>|t|</th>      <th>95.0% Conf. Int.</th>    \n",
       "</tr>\n",
       "<tr>\n",
       "  <th>eta</th>    <td>  101.8092</td> <td>    0.463</td> <td>  220.057</td>   <td>0.000</td>    <td>[1.009e+02,1.027e+02]</td> \n",
       "</tr>\n",
       "<tr>\n",
       "  <th>lambda</th> <td>   -0.0433</td> <td>1.941e-02</td> <td>   -2.231</td> <td>2.570e-02</td> <td>[-8.135e-02,-5.257e-03]</td>\n",
       "</tr>\n",
       "</table><br/><br/>Covariance estimator: robust"
      ],
      "text/plain": [
       "<class 'statsmodels.iolib.summary.Summary'>\n",
       "\"\"\"\n",
       "                           Constant Mean - GARCH Model Results                           \n",
       "=========================================================================================\n",
       "Dep. Variable:                              AAPL   R-squared:                       0.000\n",
       "Mean Model:                        Constant Mean   Adj. R-squared:                  0.000\n",
       "Vol Model:                                 GARCH   Log-Likelihood:                4355.45\n",
       "Distribution:      Standardized Skew Student's t   AIC:                          -8698.90\n",
       "Method:                       Maximum Likelihood   BIC:                          -8664.91\n",
       "                                                   No. Observations:                 2134\n",
       "Date:                           Sat, Apr 01 2023   Df Residuals:                     2133\n",
       "Time:                                   20:46:32   Df Model:                            1\n",
       "                                  Mean Model                                  \n",
       "==============================================================================\n",
       "                  coef    std err          t      P>|t|       95.0% Conf. Int.\n",
       "------------------------------------------------------------------------------\n",
       "mu         -5.8903e-04  6.799e-04     -0.866      0.386 [-1.922e-03,7.435e-04]\n",
       "                              Volatility Model                              \n",
       "============================================================================\n",
       "                 coef    std err          t      P>|t|      95.0% Conf. Int.\n",
       "----------------------------------------------------------------------------\n",
       "omega      1.4061e-03  2.635e-05     53.352      0.000 [1.354e-03,1.458e-03]\n",
       "alpha[1]       0.5844      0.110      5.291  1.214e-07     [  0.368,  0.801]\n",
       "beta[1]        0.3695  4.174e-03     88.525      0.000     [  0.361,  0.378]\n",
       "                                 Distribution                                 \n",
       "==============================================================================\n",
       "                 coef    std err          t      P>|t|        95.0% Conf. Int.\n",
       "------------------------------------------------------------------------------\n",
       "eta          101.8092      0.463    220.057      0.000   [1.009e+02,1.027e+02]\n",
       "lambda        -0.0433  1.941e-02     -2.231  2.570e-02 [-8.135e-02,-5.257e-03]\n",
       "==============================================================================\n",
       "\n",
       "Covariance estimator: robust\n",
       "\"\"\""
      ]
     },
     "execution_count": 47,
     "metadata": {},
     "output_type": "execute_result"
    }
   ],
   "source": [
    "res2.summary()"
   ]
  },
  {
   "cell_type": "code",
   "execution_count": 46,
   "metadata": {},
   "outputs": [
    {
     "data": {
      "text/plain": [
       "mu           -0.000589\n",
       "omega         0.001406\n",
       "alpha[1]      0.584443\n",
       "beta[1]       0.369503\n",
       "eta         101.809191\n",
       "lambda       -0.043305\n",
       "Name: params, dtype: float64"
      ]
     },
     "execution_count": 46,
     "metadata": {},
     "output_type": "execute_result"
    }
   ],
   "source": [
    "res2.params"
   ]
  },
  {
   "cell_type": "code",
   "execution_count": 26,
   "metadata": {},
   "outputs": [
    {
     "data": {
      "text/plain": [
       "0      -0.015445\n",
       "1      -0.001262\n",
       "2       0.007215\n",
       "3      -0.008272\n",
       "4      -0.010851\n",
       "          ...   \n",
       "2312    0.013498\n",
       "2313   -0.031100\n",
       "2314   -0.024969\n",
       "2315   -0.039083\n",
       "2319    0.001101\n",
       "Name: resid, Length: 2134, dtype: float64"
      ]
     },
     "execution_count": 26,
     "metadata": {},
     "output_type": "execute_result"
    }
   ],
   "source": [
    "res2.resid"
   ]
  },
  {
   "cell_type": "code",
   "execution_count": 52,
   "metadata": {},
   "outputs": [
    {
     "data": {
      "text/plain": [
       "<bound method ARCHModelFixedResult.forecast of                            Constant Mean - GARCH Model Results                           \n",
       "=========================================================================================\n",
       "Dep. Variable:                              AAPL   R-squared:                       0.000\n",
       "Mean Model:                        Constant Mean   Adj. R-squared:                  0.000\n",
       "Vol Model:                                 GARCH   Log-Likelihood:                4355.45\n",
       "Distribution:      Standardized Skew Student's t   AIC:                          -8698.90\n",
       "Method:                       Maximum Likelihood   BIC:                          -8664.91\n",
       "                                                   No. Observations:                 2134\n",
       "Date:                           Sat, Apr 01 2023   Df Residuals:                     2133\n",
       "Time:                                   20:46:32   Df Model:                            1\n",
       "                                  Mean Model                                  \n",
       "==============================================================================\n",
       "                  coef    std err          t      P>|t|       95.0% Conf. Int.\n",
       "------------------------------------------------------------------------------\n",
       "mu         -5.8903e-04  6.799e-04     -0.866      0.386 [-1.922e-03,7.435e-04]\n",
       "                              Volatility Model                              \n",
       "============================================================================\n",
       "                 coef    std err          t      P>|t|      95.0% Conf. Int.\n",
       "----------------------------------------------------------------------------\n",
       "omega      1.4061e-03  2.635e-05     53.352      0.000 [1.354e-03,1.458e-03]\n",
       "alpha[1]       0.5844      0.110      5.291  1.214e-07     [  0.368,  0.801]\n",
       "beta[1]        0.3695  4.174e-03     88.525      0.000     [  0.361,  0.378]\n",
       "                                 Distribution                                 \n",
       "==============================================================================\n",
       "                 coef    std err          t      P>|t|        95.0% Conf. Int.\n",
       "------------------------------------------------------------------------------\n",
       "eta          101.8092      0.463    220.057      0.000   [1.009e+02,1.027e+02]\n",
       "lambda        -0.0433  1.941e-02     -2.231  2.570e-02 [-8.135e-02,-5.257e-03]\n",
       "==============================================================================\n",
       "\n",
       "Covariance estimator: robust\n",
       "ARCHModelResult, id: 0x22c287e5db0>"
      ]
     },
     "execution_count": 52,
     "metadata": {},
     "output_type": "execute_result"
    }
   ],
   "source": [
    "res2.forecast"
   ]
  },
  {
   "cell_type": "code",
   "execution_count": 13,
   "metadata": {},
   "outputs": [],
   "source": [
    "am5 = arch_model(data.AAPL*100, vol=\"Garch\", p=1, o=0, q=1, dist=\"skewt\", mean='constant')"
   ]
  },
  {
   "cell_type": "code",
   "execution_count": 14,
   "metadata": {},
   "outputs": [
    {
     "data": {
      "text/plain": [
       "2"
      ]
     },
     "execution_count": 14,
     "metadata": {},
     "output_type": "execute_result"
    }
   ],
   "source": [
    "am5.distribution.num_params"
   ]
  },
  {
   "cell_type": "code",
   "execution_count": 20,
   "metadata": {},
   "outputs": [
    {
     "name": "stdout",
     "output_type": "stream",
     "text": [
      "Iteration:      1,   Func. Count:      8,   Neg. LLF: 61691.42068508366\n",
      "Iteration:      2,   Func. Count:     18,   Neg. LLF: 135039.84003182483\n",
      "Iteration:      3,   Func. Count:     27,   Neg. LLF: 81173.47908621424\n",
      "Iteration:      4,   Func. Count:     36,   Neg. LLF: 147095.6063738566\n",
      "Iteration:      5,   Func. Count:     45,   Neg. LLF: 5525.809144590954\n",
      "Iteration:      6,   Func. Count:     53,   Neg. LLF: 3863.196062792278\n",
      "Iteration:      7,   Func. Count:     61,   Neg. LLF: 5194.31113095695\n",
      "Iteration:      8,   Func. Count:     69,   Neg. LLF: 3858.982341343833\n",
      "Iteration:      9,   Func. Count:     77,   Neg. LLF: 3851.3734042686165\n",
      "Iteration:     10,   Func. Count:     85,   Neg. LLF: 3851.162105607421\n",
      "Iteration:     11,   Func. Count:     93,   Neg. LLF: 3851.149772781636\n",
      "Iteration:     12,   Func. Count:    100,   Neg. LLF: 3851.149615629203\n",
      "Iteration:     13,   Func. Count:    107,   Neg. LLF: 3851.1496139155324\n",
      "Iteration:     14,   Func. Count:    113,   Neg. LLF: 3851.1496139154674\n",
      "Optimization terminated successfully    (Exit mode 0)\n",
      "            Current function value: 3851.1496139155324\n",
      "            Iterations: 14\n",
      "            Function evaluations: 113\n",
      "            Gradient evaluations: 14\n"
     ]
    },
    {
     "data": {
      "text/plain": [
       "                           Constant Mean - GARCH Model Results                           \n",
       "=========================================================================================\n",
       "Dep. Variable:                              AAPL   R-squared:                       0.000\n",
       "Mean Model:                        Constant Mean   Adj. R-squared:                  0.000\n",
       "Vol Model:                                 GARCH   Log-Likelihood:               -3851.15\n",
       "Distribution:      Standardized Skew Student's t   AIC:                           7714.30\n",
       "Method:                       Maximum Likelihood   BIC:                           7748.29\n",
       "                                                   No. Observations:                 2134\n",
       "Date:                           Sun, Mar 12 2023   Df Residuals:                     2133\n",
       "Time:                                   16:06:30   Df Model:                            1\n",
       "                                Mean Model                                \n",
       "==========================================================================\n",
       "                 coef    std err          t      P>|t|    95.0% Conf. Int.\n",
       "--------------------------------------------------------------------------\n",
       "mu             0.1014  3.171e-02      3.199  1.379e-03 [3.929e-02,  0.164]\n",
       "                             Volatility Model                             \n",
       "==========================================================================\n",
       "                 coef    std err          t      P>|t|    95.0% Conf. Int.\n",
       "--------------------------------------------------------------------------\n",
       "omega          0.1506  6.571e-02      2.292  2.189e-02 [2.183e-02,  0.279]\n",
       "alpha[1]       0.1153  3.506e-02      3.289  1.007e-03 [4.658e-02,  0.184]\n",
       "beta[1]        0.8385  4.965e-02     16.888  5.470e-64   [  0.741,  0.936]\n",
       "                                 Distribution                                \n",
       "=============================================================================\n",
       "                 coef    std err          t      P>|t|       95.0% Conf. Int.\n",
       "-----------------------------------------------------------------------------\n",
       "eta            4.3984      0.425     10.354  4.003e-25      [  3.566,  5.231]\n",
       "lambda        -0.0331  3.048e-02     -1.087      0.277 [-9.289e-02,2.660e-02]\n",
       "=============================================================================\n",
       "\n",
       "Covariance estimator: robust\n",
       "ARCHModelResult, id: 0x1caa0f70bb0"
      ]
     },
     "execution_count": 20,
     "metadata": {},
     "output_type": "execute_result"
    }
   ],
   "source": [
    "am5.fit()"
   ]
  },
  {
   "cell_type": "code",
   "execution_count": 21,
   "metadata": {},
   "outputs": [
    {
     "name": "stdout",
     "output_type": "stream",
     "text": [
      "Iteration:      1,   Func. Count:      8,   Neg. LLF: 61691.42068508366\n",
      "Iteration:      2,   Func. Count:     18,   Neg. LLF: 135039.84003182483\n",
      "Iteration:      3,   Func. Count:     27,   Neg. LLF: 81173.47908621424\n",
      "Iteration:      4,   Func. Count:     36,   Neg. LLF: 147095.6063738566\n",
      "Iteration:      5,   Func. Count:     45,   Neg. LLF: 5525.809144590954\n",
      "Iteration:      6,   Func. Count:     53,   Neg. LLF: 3863.196062792278\n",
      "Iteration:      7,   Func. Count:     61,   Neg. LLF: 5194.31113095695\n",
      "Iteration:      8,   Func. Count:     69,   Neg. LLF: 3858.982341343833\n",
      "Iteration:      9,   Func. Count:     77,   Neg. LLF: 3851.3734042686165\n",
      "Iteration:     10,   Func. Count:     85,   Neg. LLF: 3851.162105607421\n",
      "Iteration:     11,   Func. Count:     93,   Neg. LLF: 3851.149772781636\n",
      "Iteration:     12,   Func. Count:    100,   Neg. LLF: 3851.149615629203\n",
      "Iteration:     13,   Func. Count:    107,   Neg. LLF: 3851.1496139155324\n",
      "Iteration:     14,   Func. Count:    113,   Neg. LLF: 3851.1496139154674\n",
      "Optimization terminated successfully    (Exit mode 0)\n",
      "            Current function value: 3851.1496139155324\n",
      "            Iterations: 14\n",
      "            Function evaluations: 113\n",
      "            Gradient evaluations: 14\n"
     ]
    }
   ],
   "source": [
    "am5_fitted = am5.fit()"
   ]
  },
  {
   "cell_type": "code",
   "execution_count": 22,
   "metadata": {},
   "outputs": [
    {
     "data": {
      "text/plain": [
       "mu          0.101442\n",
       "omega       0.150627\n",
       "alpha[1]    0.115299\n",
       "beta[1]     0.838460\n",
       "eta         4.398359\n",
       "lambda     -0.033144\n",
       "Name: params, dtype: float64"
      ]
     },
     "execution_count": 22,
     "metadata": {},
     "output_type": "execute_result"
    }
   ],
   "source": [
    "am5_fitted.params"
   ]
  },
  {
   "cell_type": "code",
   "execution_count": 27,
   "metadata": {},
   "outputs": [],
   "source": [
    "def get_resids_params(returns):\n",
    "    params = []\n",
    "    residuals = pd.DataFrame(columns=returns.columns)\n",
    "    uniform = pd.DataFrame(columns=returns.columns)\n",
    "\n",
    "    for i in range(0, returns.shape[1]):\n",
    "        am = arch_model(100*returns.iloc[:, i], vol=\"Garch\", p=1, o=0, q=1, dist=\"skewt\")\n",
    "        residuals[returns.columns[i]] = am.fit(disp=\"off\").resid / am.fit(disp='off').conditional_volatility\n",
    "        params.extend([{returns.columns[i]: am.fit(disp=\"off\").params.to_dict()}])\n",
    "        #uniform[returns.columns[i]] = am.distribution.cdf(residuals, parameters=[5,0.3])#am.fit(disp=\"off\").params[\"eta\"], am.fit(disp=\"off\").params[\"lambda\"]\n",
    "        #print(am.fit().params[\"eta\"])\n",
    "        #am.distribution.cdf(residuals, parameters=[5,0.3])\n",
    "\n",
    "\n",
    "    return params, residuals"
   ]
  },
  {
   "cell_type": "code",
   "execution_count": 28,
   "metadata": {},
   "outputs": [
    {
     "data": {
      "text/plain": [
       "([{'AAPL': {'mu': 0.1014416439253901,\n",
       "    'omega': 0.1506266412786028,\n",
       "    'alpha[1]': 0.11529873441545781,\n",
       "    'beta[1]': 0.8384598586791208,\n",
       "    'eta': 4.398359354333301,\n",
       "    'lambda': -0.03314420672820922}},\n",
       "  {'BAS.DE': {'mu': 0.04558713456485493,\n",
       "    'omega': 0.027201046240750443,\n",
       "    'alpha[1]': 0.05727509721895022,\n",
       "    'beta[1]': 0.9325909568000725,\n",
       "    'eta': 7.849038428723767,\n",
       "    'lambda': -0.04867563810640872}},\n",
       "  {'BMW.DE': {'mu': 0.037012700466833026,\n",
       "    'omega': 0.009238913142817854,\n",
       "    'alpha[1]': 0.036975917045191854,\n",
       "    'beta[1]': 0.9608160848837023,\n",
       "    'eta': 6.940803068597172,\n",
       "    'lambda': 0.028259043380350526}},\n",
       "  {'DBK.DE': {'mu': -0.06391671182725034,\n",
       "    'omega': 0.05749897474849735,\n",
       "    'alpha[1]': 0.05109186491473652,\n",
       "    'beta[1]': 0.9384915030903684,\n",
       "    'eta': 7.226761485229021,\n",
       "    'lambda': -0.022056439457213774}},\n",
       "  {'GOOG': {'mu': 0.057381430777707576,\n",
       "    'omega': 0.05463304130139145,\n",
       "    'alpha[1]': 0.03987587204325808,\n",
       "    'beta[1]': 0.9382364665241338,\n",
       "    'eta': 3.669236361326843,\n",
       "    'lambda': -0.023696888479217245}},\n",
       "  {'RWE.DE': {'mu': -0.03970866646657167,\n",
       "    'omega': 0.04770938247320989,\n",
       "    'alpha[1]': 0.06834672268068401,\n",
       "    'beta[1]': 0.9238490918996877,\n",
       "    'eta': 4.951745254668914,\n",
       "    'lambda': -0.03555663604259137}}],\n",
       "           AAPL    BAS.DE    BMW.DE    DBK.DE      GOOG    RWE.DE\n",
       " 0    -0.915344  0.361672  0.897538 -0.458643 -1.502924 -0.144901\n",
       " 1    -0.155489 -0.450149  0.506402  0.243015 -1.357941 -0.377405\n",
       " 2     0.323663 -0.227757 -0.846576  1.766119  0.702871 -0.106191\n",
       " 3    -0.600134 -0.775026 -0.937900 -0.527305 -0.117248  1.214682\n",
       " 4    -0.782537 -2.468498 -1.829619 -1.197645 -1.058371 -0.953185\n",
       " ...        ...       ...       ...       ...       ...       ...\n",
       " 2312  0.549068  0.207996 -0.483593 -0.054311  0.569381 -0.604254\n",
       " 2313 -1.586587  0.936360 -0.041663 -0.553170 -0.313420  0.570943\n",
       " 2314 -1.194817 -0.678135 -1.487896 -2.835179 -0.729664 -0.487870\n",
       " 2315 -1.799545  1.047492  0.056918  0.222665 -1.621258 -0.167069\n",
       " 2319 -0.019936  0.780505  0.761037  1.115252 -0.365988  1.616942\n",
       " \n",
       " [2134 rows x 6 columns])"
      ]
     },
     "execution_count": 28,
     "metadata": {},
     "output_type": "execute_result"
    }
   ],
   "source": [
    "get_resids_params(data)"
   ]
  },
  {
   "cell_type": "code",
   "execution_count": null,
   "metadata": {},
   "outputs": [
    {
     "data": {
      "text/plain": [
       "[{'AAPL': {'mu': 0.10144174835471881,\n",
       "   'omega': 0.15062481053401408,\n",
       "   'alpha[1]': 0.11529849338093554,\n",
       "   'beta[1]': 0.8384608393487325,\n",
       "   'eta': 4.398350222402111,\n",
       "   'lambda': -0.0331442661039331}},\n",
       " {'BAS.DE': {'mu': 0.04558679739719036,\n",
       "   'omega': 0.027200953073555457,\n",
       "   'alpha[1]': 0.05727479517227491,\n",
       "   'beta[1]': 0.9325911673245905,\n",
       "   'eta': 7.849176578033053,\n",
       "   'lambda': -0.04867627619633638}},\n",
       " {'BMW.DE': {'mu': 0.03701272748723445,\n",
       "   'omega': 0.009238866713722,\n",
       "   'alpha[1]': 0.03697591024251973,\n",
       "   'beta[1]': 0.9608160743717679,\n",
       "   'eta': 6.940846787454488,\n",
       "   'lambda': 0.028257901721633217}},\n",
       " {'DBK.DE': {'mu': -0.06391674003840897,\n",
       "   'omega': 0.05749887073303873,\n",
       "   'alpha[1]': 0.051091808058097224,\n",
       "   'beta[1]': 0.9384915382410848,\n",
       "   'eta': 7.226802619951065,\n",
       "   'lambda': -0.022056888997994226}},\n",
       " {'GOOG': {'mu': 0.057381430777707576,\n",
       "   'omega': 0.05463304130139145,\n",
       "   'alpha[1]': 0.03987587204325808,\n",
       "   'beta[1]': 0.9382364665241338,\n",
       "   'eta': 3.669236361326843,\n",
       "   'lambda': -0.023696888479217245}},\n",
       " {'RWE.DE': {'mu': -0.03970880972868475,\n",
       "   'omega': 0.0477094810316078,\n",
       "   'alpha[1]': 0.06834659330560677,\n",
       "   'beta[1]': 0.9238491063752546,\n",
       "   'eta': 4.951758420174253,\n",
       "   'lambda': -0.03555731171594533}}]"
      ]
     },
     "execution_count": 31,
     "metadata": {},
     "output_type": "execute_result"
    }
   ],
   "source": [
    "params_"
   ]
  },
  {
   "cell_type": "code",
   "execution_count": null,
   "metadata": {},
   "outputs": [],
   "source": [
    "def get_residuals(returns):\n",
    "    \n",
    "    params = []\n",
    "    residuals = pd.DataFrame(columns=returns.columns)\n",
    "    for i in range(0, returns.shape[1]):\n",
    "        am = arch_model(100*returns.iloc[:, i], vol=\"Garch\", p=1, o=0, q=1, dist=\"skewt\")\n",
    "        residuals[returns.columns[i]] = am.fit(disp=\"off\").resid / am.fit(disp='off').conditional_volatility\n",
    "        params.extend([{returns.columns[i]: am.fit(disp=\"off\").params.to_dict()}])\n",
    "\n",
    "    return residuals, params"
   ]
  },
  {
   "cell_type": "code",
   "execution_count": null,
   "metadata": {},
   "outputs": [],
   "source": [
    "resids, params = get_residuals(data)"
   ]
  },
  {
   "cell_type": "code",
   "execution_count": null,
   "metadata": {},
   "outputs": [],
   "source": [
    "def get_uniform(returns, resids, params):\n",
    "    #print(params)\n",
    "    \n",
    "    uniform = pd.DataFrame(columns=data.columns)\n",
    "    for i in range(0, data.shape[1]):\n",
    "        am = arch_model(vol=\"Garch\", p=1, o=0, q=1, dist=\"skewt\")\n",
    "        eta_ = params[i][data.columns[i]]['eta']\n",
    "        lambda_ = params[i][data.columns[i]]['lambda']\n",
    "        uniform[data.columns[i]] = am.distribution.cdf(data.iloc[:, i], parameters=[eta_, lambda_])\n",
    "\n",
    "    return uniform.to_numpy()\n",
    "    #u = am.distribution.cdf(garch_results, parameters=[res.params[\"eta\"], res.params[\"lambda\"]])\n"
   ]
  },
  {
   "cell_type": "code",
   "execution_count": null,
   "metadata": {},
   "outputs": [
    {
     "ename": "TypeError",
     "evalue": "arch_model() missing 1 required positional argument: 'y'",
     "output_type": "error",
     "traceback": [
      "\u001b[1;31m---------------------------------------------------------------------------\u001b[0m",
      "\u001b[1;31mTypeError\u001b[0m                                 Traceback (most recent call last)",
      "\u001b[1;32mc:\\Users\\morit\\Dropbox\\Data Science\\Git\\VaR\\VineCopula-GARCH-for-Value-at-Risk-Prediction\\VaR.ipynb Cell 22\u001b[0m in \u001b[0;36m<cell line: 1>\u001b[1;34m()\u001b[0m\n\u001b[1;32m----> <a href='vscode-notebook-cell:/c%3A/Users/morit/Dropbox/Data%20Science/Git/VaR/VineCopula-GARCH-for-Value-at-Risk-Prediction/VaR.ipynb#X30sZmlsZQ%3D%3D?line=0'>1</a>\u001b[0m uniform \u001b[39m=\u001b[39m get_uniform(resids, params)\n",
      "\u001b[1;32mc:\\Users\\morit\\Dropbox\\Data Science\\Git\\VaR\\VineCopula-GARCH-for-Value-at-Risk-Prediction\\VaR.ipynb Cell 22\u001b[0m in \u001b[0;36mget_uniform\u001b[1;34m(data, params)\u001b[0m\n\u001b[0;32m      <a href='vscode-notebook-cell:/c%3A/Users/morit/Dropbox/Data%20Science/Git/VaR/VineCopula-GARCH-for-Value-at-Risk-Prediction/VaR.ipynb#X30sZmlsZQ%3D%3D?line=3'>4</a>\u001b[0m uniform \u001b[39m=\u001b[39m pd\u001b[39m.\u001b[39mDataFrame(columns\u001b[39m=\u001b[39mdata\u001b[39m.\u001b[39mcolumns)\n\u001b[0;32m      <a href='vscode-notebook-cell:/c%3A/Users/morit/Dropbox/Data%20Science/Git/VaR/VineCopula-GARCH-for-Value-at-Risk-Prediction/VaR.ipynb#X30sZmlsZQ%3D%3D?line=4'>5</a>\u001b[0m \u001b[39mfor\u001b[39;00m i \u001b[39min\u001b[39;00m \u001b[39mrange\u001b[39m(\u001b[39m0\u001b[39m, data\u001b[39m.\u001b[39mshape[\u001b[39m1\u001b[39m]):\n\u001b[1;32m----> <a href='vscode-notebook-cell:/c%3A/Users/morit/Dropbox/Data%20Science/Git/VaR/VineCopula-GARCH-for-Value-at-Risk-Prediction/VaR.ipynb#X30sZmlsZQ%3D%3D?line=5'>6</a>\u001b[0m     am \u001b[39m=\u001b[39m arch_model(vol\u001b[39m=\u001b[39;49m\u001b[39m\"\u001b[39;49m\u001b[39mGarch\u001b[39;49m\u001b[39m\"\u001b[39;49m, p\u001b[39m=\u001b[39;49m\u001b[39m1\u001b[39;49m, o\u001b[39m=\u001b[39;49m\u001b[39m0\u001b[39;49m, q\u001b[39m=\u001b[39;49m\u001b[39m1\u001b[39;49m, dist\u001b[39m=\u001b[39;49m\u001b[39m\"\u001b[39;49m\u001b[39mskewt\u001b[39;49m\u001b[39m\"\u001b[39;49m)\n\u001b[0;32m      <a href='vscode-notebook-cell:/c%3A/Users/morit/Dropbox/Data%20Science/Git/VaR/VineCopula-GARCH-for-Value-at-Risk-Prediction/VaR.ipynb#X30sZmlsZQ%3D%3D?line=6'>7</a>\u001b[0m     eta_ \u001b[39m=\u001b[39m params[i][data\u001b[39m.\u001b[39mcolumns[i]][\u001b[39m'\u001b[39m\u001b[39meta\u001b[39m\u001b[39m'\u001b[39m]\n\u001b[0;32m      <a href='vscode-notebook-cell:/c%3A/Users/morit/Dropbox/Data%20Science/Git/VaR/VineCopula-GARCH-for-Value-at-Risk-Prediction/VaR.ipynb#X30sZmlsZQ%3D%3D?line=7'>8</a>\u001b[0m     lambda_ \u001b[39m=\u001b[39m params[i][data\u001b[39m.\u001b[39mcolumns[i]][\u001b[39m'\u001b[39m\u001b[39mlambda\u001b[39m\u001b[39m'\u001b[39m]\n",
      "\u001b[1;31mTypeError\u001b[0m: arch_model() missing 1 required positional argument: 'y'"
     ]
    }
   ],
   "source": [
    "uniform = get_uniform(resids, params)"
   ]
  },
  {
   "cell_type": "code",
   "execution_count": null,
   "metadata": {},
   "outputs": [],
   "source": [
    "def simulate_from_vine_copula(data, n = 10000):\n",
    "    copula = pv.Vinecop(data)\n",
    "    simulated = copula.simulate(n)\n",
    "    return simulated"
   ]
  },
  {
   "cell_type": "code",
   "execution_count": null,
   "metadata": {},
   "outputs": [],
   "source": [
    "sims = simulate_from_vine_copula(uniform)"
   ]
  },
  {
   "cell_type": "code",
   "execution_count": null,
   "metadata": {},
   "outputs": [],
   "source": [
    "def transform_to_dist(data):\n",
    "    am = arch_model(data.AAPL*100, vol=\"Garch\", p=1, o=0, q=1, dist=\"skewt\")\n",
    "    for i in range(0, data.shape[1]):\n",
    "        eta_ = params[i][data.columns[i]]['eta']\n",
    "        lambda_ = params[i][data.columns[i]]['lambda']\n",
    "        uniform[data.columns[i]] = am.distribution.cdf(data.iloc[:, i], parameters=[eta_, lambda_])"
   ]
  },
  {
   "cell_type": "code",
   "execution_count": null,
   "metadata": {},
   "outputs": [
    {
     "ename": "AttributeError",
     "evalue": "'numpy.ndarray' object has no attribute 'AAPL'",
     "output_type": "error",
     "traceback": [
      "\u001b[1;31m---------------------------------------------------------------------------\u001b[0m",
      "\u001b[1;31mAttributeError\u001b[0m                            Traceback (most recent call last)",
      "\u001b[1;32mc:\\Users\\morit\\Dropbox\\Data Science\\Git\\VaR\\VineCopula-GARCH-for-Value-at-Risk-Prediction\\VaR.ipynb Cell 26\u001b[0m in \u001b[0;36m<cell line: 1>\u001b[1;34m()\u001b[0m\n\u001b[1;32m----> <a href='vscode-notebook-cell:/c%3A/Users/morit/Dropbox/Data%20Science/Git/VaR/VineCopula-GARCH-for-Value-at-Risk-Prediction/VaR.ipynb#X44sZmlsZQ%3D%3D?line=0'>1</a>\u001b[0m sims2 \u001b[39m=\u001b[39m transform_to_dist(sims)\n",
      "\u001b[1;32mc:\\Users\\morit\\Dropbox\\Data Science\\Git\\VaR\\VineCopula-GARCH-for-Value-at-Risk-Prediction\\VaR.ipynb Cell 26\u001b[0m in \u001b[0;36mtransform_to_dist\u001b[1;34m(data)\u001b[0m\n\u001b[0;32m      <a href='vscode-notebook-cell:/c%3A/Users/morit/Dropbox/Data%20Science/Git/VaR/VineCopula-GARCH-for-Value-at-Risk-Prediction/VaR.ipynb#X44sZmlsZQ%3D%3D?line=0'>1</a>\u001b[0m \u001b[39mdef\u001b[39;00m \u001b[39mtransform_to_dist\u001b[39m(data):\n\u001b[1;32m----> <a href='vscode-notebook-cell:/c%3A/Users/morit/Dropbox/Data%20Science/Git/VaR/VineCopula-GARCH-for-Value-at-Risk-Prediction/VaR.ipynb#X44sZmlsZQ%3D%3D?line=1'>2</a>\u001b[0m     am \u001b[39m=\u001b[39m arch_model(data\u001b[39m.\u001b[39;49mAAPL\u001b[39m*\u001b[39m\u001b[39m100\u001b[39m, vol\u001b[39m=\u001b[39m\u001b[39m\"\u001b[39m\u001b[39mGarch\u001b[39m\u001b[39m\"\u001b[39m, p\u001b[39m=\u001b[39m\u001b[39m1\u001b[39m, o\u001b[39m=\u001b[39m\u001b[39m0\u001b[39m, q\u001b[39m=\u001b[39m\u001b[39m1\u001b[39m, dist\u001b[39m=\u001b[39m\u001b[39m\"\u001b[39m\u001b[39mskewt\u001b[39m\u001b[39m\"\u001b[39m)\n\u001b[0;32m      <a href='vscode-notebook-cell:/c%3A/Users/morit/Dropbox/Data%20Science/Git/VaR/VineCopula-GARCH-for-Value-at-Risk-Prediction/VaR.ipynb#X44sZmlsZQ%3D%3D?line=2'>3</a>\u001b[0m     \u001b[39mfor\u001b[39;00m i \u001b[39min\u001b[39;00m \u001b[39mrange\u001b[39m(\u001b[39m0\u001b[39m, data\u001b[39m.\u001b[39mshape[\u001b[39m1\u001b[39m]):\n\u001b[0;32m      <a href='vscode-notebook-cell:/c%3A/Users/morit/Dropbox/Data%20Science/Git/VaR/VineCopula-GARCH-for-Value-at-Risk-Prediction/VaR.ipynb#X44sZmlsZQ%3D%3D?line=3'>4</a>\u001b[0m         eta_ \u001b[39m=\u001b[39m params[i][data\u001b[39m.\u001b[39mcolumns[i]][\u001b[39m'\u001b[39m\u001b[39meta\u001b[39m\u001b[39m'\u001b[39m]\n",
      "\u001b[1;31mAttributeError\u001b[0m: 'numpy.ndarray' object has no attribute 'AAPL'"
     ]
    }
   ],
   "source": [
    "sims2 = transform_to_dist(sims)"
   ]
  },
  {
   "cell_type": "code",
   "execution_count": null,
   "metadata": {},
   "outputs": [
    {
     "data": {
      "text/plain": [
       "10000"
      ]
     },
     "execution_count": 26,
     "metadata": {},
     "output_type": "execute_result"
    }
   ],
   "source": [
    "len(sims[:,0])"
   ]
  },
  {
   "cell_type": "code",
   "execution_count": null,
   "metadata": {},
   "outputs": [
    {
     "data": {
      "text/plain": [
       "(10000, 6)"
      ]
     },
     "execution_count": 27,
     "metadata": {},
     "output_type": "execute_result"
    }
   ],
   "source": [
    "sims.shape"
   ]
  },
  {
   "cell_type": "code",
   "execution_count": null,
   "metadata": {},
   "outputs": [],
   "source": []
  }
 ],
 "metadata": {
  "kernelspec": {
   "display_name": "Python 3.10.10 ('copulagarch')",
   "language": "python",
   "name": "python3"
  },
  "language_info": {
   "codemirror_mode": {
    "name": "ipython",
    "version": 3
   },
   "file_extension": ".py",
   "mimetype": "text/x-python",
   "name": "python",
   "nbconvert_exporter": "python",
   "pygments_lexer": "ipython3",
   "version": "3.10.10"
  },
  "orig_nbformat": 4,
  "vscode": {
   "interpreter": {
    "hash": "a490e930fd559b7c08cc23e0a3dd49c3f7c65b4ff0c36f455d90d339662a10ad"
   }
  }
 },
 "nbformat": 4,
 "nbformat_minor": 2
}
