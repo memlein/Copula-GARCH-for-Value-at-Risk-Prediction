{
 "cells": [
  {
   "cell_type": "code",
   "execution_count": 1,
   "metadata": {},
   "outputs": [],
   "source": [
    "import pandas as pd \n",
    "import numpy as np \n",
    "import yfinance as yf\n",
    "import matplotlib.pyplot as plt \n",
    "import seaborn as sns; sns.set()\n",
    "import pyvinecopulib as pv\n",
    "import statsmodels.api as sm\n",
    "import statsmodels.formula.api as smf"
   ]
  },
  {
   "cell_type": "code",
   "execution_count": 2,
   "metadata": {},
   "outputs": [
    {
     "name": "stdout",
     "output_type": "stream",
     "text": [
      "[*********************100%***********************]  6 of 6 completed\n"
     ]
    }
   ],
   "source": [
    "data = yf.download([\"AAPL\", \"GOOG\", \"BAS.DE\", \"BMW.DE\", \"RWE.DE\", \"DBK.DE\"], start = \"2010-01-01\", end = \"2018-12-31\") #\"GOOG\", \"BAS.DE\", \"BMW.DE\", \"RWE.DE\", \"DBK.DE\""
   ]
  },
  {
   "cell_type": "code",
   "execution_count": 3,
   "metadata": {},
   "outputs": [
    {
     "data": {
      "text/html": [
       "<div>\n",
       "<style scoped>\n",
       "    .dataframe tbody tr th:only-of-type {\n",
       "        vertical-align: middle;\n",
       "    }\n",
       "\n",
       "    .dataframe tbody tr th {\n",
       "        vertical-align: top;\n",
       "    }\n",
       "\n",
       "    .dataframe thead tr th {\n",
       "        text-align: left;\n",
       "    }\n",
       "\n",
       "    .dataframe thead tr:last-of-type th {\n",
       "        text-align: right;\n",
       "    }\n",
       "</style>\n",
       "<table border=\"1\" class=\"dataframe\">\n",
       "  <thead>\n",
       "    <tr>\n",
       "      <th></th>\n",
       "      <th colspan=\"6\" halign=\"left\">Adj Close</th>\n",
       "      <th colspan=\"4\" halign=\"left\">Close</th>\n",
       "      <th>...</th>\n",
       "      <th colspan=\"4\" halign=\"left\">Open</th>\n",
       "      <th colspan=\"6\" halign=\"left\">Volume</th>\n",
       "    </tr>\n",
       "    <tr>\n",
       "      <th></th>\n",
       "      <th>AAPL</th>\n",
       "      <th>BAS.DE</th>\n",
       "      <th>BMW.DE</th>\n",
       "      <th>DBK.DE</th>\n",
       "      <th>GOOG</th>\n",
       "      <th>RWE.DE</th>\n",
       "      <th>AAPL</th>\n",
       "      <th>BAS.DE</th>\n",
       "      <th>BMW.DE</th>\n",
       "      <th>DBK.DE</th>\n",
       "      <th>...</th>\n",
       "      <th>BMW.DE</th>\n",
       "      <th>DBK.DE</th>\n",
       "      <th>GOOG</th>\n",
       "      <th>RWE.DE</th>\n",
       "      <th>AAPL</th>\n",
       "      <th>BAS.DE</th>\n",
       "      <th>BMW.DE</th>\n",
       "      <th>DBK.DE</th>\n",
       "      <th>GOOG</th>\n",
       "      <th>RWE.DE</th>\n",
       "    </tr>\n",
       "    <tr>\n",
       "      <th>Date</th>\n",
       "      <th></th>\n",
       "      <th></th>\n",
       "      <th></th>\n",
       "      <th></th>\n",
       "      <th></th>\n",
       "      <th></th>\n",
       "      <th></th>\n",
       "      <th></th>\n",
       "      <th></th>\n",
       "      <th></th>\n",
       "      <th></th>\n",
       "      <th></th>\n",
       "      <th></th>\n",
       "      <th></th>\n",
       "      <th></th>\n",
       "      <th></th>\n",
       "      <th></th>\n",
       "      <th></th>\n",
       "      <th></th>\n",
       "      <th></th>\n",
       "      <th></th>\n",
       "    </tr>\n",
       "  </thead>\n",
       "  <tbody>\n",
       "    <tr>\n",
       "      <th>2010-01-04</th>\n",
       "      <td>6.505280</td>\n",
       "      <td>24.106218</td>\n",
       "      <td>19.280519</td>\n",
       "      <td>32.229893</td>\n",
       "      <td>15.610239</td>\n",
       "      <td>39.131073</td>\n",
       "      <td>7.643214</td>\n",
       "      <td>44.849998</td>\n",
       "      <td>32.049999</td>\n",
       "      <td>39.474529</td>\n",
       "      <td>...</td>\n",
       "      <td>31.820000</td>\n",
       "      <td>38.837593</td>\n",
       "      <td>15.615220</td>\n",
       "      <td>68.222816</td>\n",
       "      <td>493729600.0</td>\n",
       "      <td>3245626.0</td>\n",
       "      <td>1808170.0</td>\n",
       "      <td>4425924.0</td>\n",
       "      <td>78541293.0</td>\n",
       "      <td>2022078.0</td>\n",
       "    </tr>\n",
       "    <tr>\n",
       "      <th>2010-01-05</th>\n",
       "      <td>6.516528</td>\n",
       "      <td>23.740725</td>\n",
       "      <td>19.436932</td>\n",
       "      <td>32.749939</td>\n",
       "      <td>15.541497</td>\n",
       "      <td>38.881397</td>\n",
       "      <td>7.656429</td>\n",
       "      <td>44.169998</td>\n",
       "      <td>32.310001</td>\n",
       "      <td>40.111465</td>\n",
       "      <td>...</td>\n",
       "      <td>31.959999</td>\n",
       "      <td>39.381317</td>\n",
       "      <td>15.620949</td>\n",
       "      <td>68.770988</td>\n",
       "      <td>601904800.0</td>\n",
       "      <td>3292371.0</td>\n",
       "      <td>1564182.0</td>\n",
       "      <td>5950810.0</td>\n",
       "      <td>120638494.0</td>\n",
       "      <td>2040667.0</td>\n",
       "    </tr>\n",
       "    <tr>\n",
       "      <th>2010-01-06</th>\n",
       "      <td>6.412874</td>\n",
       "      <td>23.891224</td>\n",
       "      <td>19.737720</td>\n",
       "      <td>32.407478</td>\n",
       "      <td>15.149715</td>\n",
       "      <td>38.807621</td>\n",
       "      <td>7.534643</td>\n",
       "      <td>44.450001</td>\n",
       "      <td>32.810001</td>\n",
       "      <td>39.692020</td>\n",
       "      <td>...</td>\n",
       "      <td>32.450001</td>\n",
       "      <td>39.909512</td>\n",
       "      <td>15.588072</td>\n",
       "      <td>68.202881</td>\n",
       "      <td>552160000.0</td>\n",
       "      <td>2345128.0</td>\n",
       "      <td>2218604.0</td>\n",
       "      <td>5818935.0</td>\n",
       "      <td>159744526.0</td>\n",
       "      <td>1535087.0</td>\n",
       "    </tr>\n",
       "    <tr>\n",
       "      <th>2010-01-07</th>\n",
       "      <td>6.401019</td>\n",
       "      <td>23.732660</td>\n",
       "      <td>19.912172</td>\n",
       "      <td>32.553337</td>\n",
       "      <td>14.797037</td>\n",
       "      <td>38.643066</td>\n",
       "      <td>7.520714</td>\n",
       "      <td>44.154999</td>\n",
       "      <td>33.099998</td>\n",
       "      <td>39.870674</td>\n",
       "      <td>...</td>\n",
       "      <td>32.650002</td>\n",
       "      <td>39.381317</td>\n",
       "      <td>15.178109</td>\n",
       "      <td>67.923813</td>\n",
       "      <td>477131200.0</td>\n",
       "      <td>2505352.0</td>\n",
       "      <td>2026145.0</td>\n",
       "      <td>4506202.0</td>\n",
       "      <td>257533695.0</td>\n",
       "      <td>1765257.0</td>\n",
       "    </tr>\n",
       "    <tr>\n",
       "      <th>2010-01-08</th>\n",
       "      <td>6.443574</td>\n",
       "      <td>23.660105</td>\n",
       "      <td>19.644474</td>\n",
       "      <td>33.739288</td>\n",
       "      <td>14.994298</td>\n",
       "      <td>38.586315</td>\n",
       "      <td>7.570714</td>\n",
       "      <td>44.020000</td>\n",
       "      <td>32.654999</td>\n",
       "      <td>41.323200</td>\n",
       "      <td>...</td>\n",
       "      <td>33.334999</td>\n",
       "      <td>40.740635</td>\n",
       "      <td>14.744733</td>\n",
       "      <td>68.133118</td>\n",
       "      <td>447610800.0</td>\n",
       "      <td>3307737.0</td>\n",
       "      <td>1925894.0</td>\n",
       "      <td>10753806.0</td>\n",
       "      <td>189680313.0</td>\n",
       "      <td>1665122.0</td>\n",
       "    </tr>\n",
       "  </tbody>\n",
       "</table>\n",
       "<p>5 rows × 36 columns</p>\n",
       "</div>"
      ],
      "text/plain": [
       "           Adj Close                                                         \\\n",
       "                AAPL     BAS.DE     BMW.DE     DBK.DE       GOOG     RWE.DE   \n",
       "Date                                                                          \n",
       "2010-01-04  6.505280  24.106218  19.280519  32.229893  15.610239  39.131073   \n",
       "2010-01-05  6.516528  23.740725  19.436932  32.749939  15.541497  38.881397   \n",
       "2010-01-06  6.412874  23.891224  19.737720  32.407478  15.149715  38.807621   \n",
       "2010-01-07  6.401019  23.732660  19.912172  32.553337  14.797037  38.643066   \n",
       "2010-01-08  6.443574  23.660105  19.644474  33.739288  14.994298  38.586315   \n",
       "\n",
       "               Close                                   ...       Open  \\\n",
       "                AAPL     BAS.DE     BMW.DE     DBK.DE  ...     BMW.DE   \n",
       "Date                                                   ...              \n",
       "2010-01-04  7.643214  44.849998  32.049999  39.474529  ...  31.820000   \n",
       "2010-01-05  7.656429  44.169998  32.310001  40.111465  ...  31.959999   \n",
       "2010-01-06  7.534643  44.450001  32.810001  39.692020  ...  32.450001   \n",
       "2010-01-07  7.520714  44.154999  33.099998  39.870674  ...  32.650002   \n",
       "2010-01-08  7.570714  44.020000  32.654999  41.323200  ...  33.334999   \n",
       "\n",
       "                                                  Volume             \\\n",
       "               DBK.DE       GOOG     RWE.DE         AAPL     BAS.DE   \n",
       "Date                                                                  \n",
       "2010-01-04  38.837593  15.615220  68.222816  493729600.0  3245626.0   \n",
       "2010-01-05  39.381317  15.620949  68.770988  601904800.0  3292371.0   \n",
       "2010-01-06  39.909512  15.588072  68.202881  552160000.0  2345128.0   \n",
       "2010-01-07  39.381317  15.178109  67.923813  477131200.0  2505352.0   \n",
       "2010-01-08  40.740635  14.744733  68.133118  447610800.0  3307737.0   \n",
       "\n",
       "                                                           \n",
       "               BMW.DE      DBK.DE         GOOG     RWE.DE  \n",
       "Date                                                       \n",
       "2010-01-04  1808170.0   4425924.0   78541293.0  2022078.0  \n",
       "2010-01-05  1564182.0   5950810.0  120638494.0  2040667.0  \n",
       "2010-01-06  2218604.0   5818935.0  159744526.0  1535087.0  \n",
       "2010-01-07  2026145.0   4506202.0  257533695.0  1765257.0  \n",
       "2010-01-08  1925894.0  10753806.0  189680313.0  1665122.0  \n",
       "\n",
       "[5 rows x 36 columns]"
      ]
     },
     "execution_count": 3,
     "metadata": {},
     "output_type": "execute_result"
    }
   ],
   "source": [
    "data.head()"
   ]
  },
  {
   "cell_type": "code",
   "execution_count": 4,
   "metadata": {},
   "outputs": [],
   "source": [
    "data = data[\"Adj Close\"]"
   ]
  },
  {
   "cell_type": "code",
   "execution_count": 5,
   "metadata": {},
   "outputs": [],
   "source": [
    "data = pd.DataFrame(np.diff(np.log(data[1:]), axis=0), columns=data.columns)"
   ]
  },
  {
   "cell_type": "code",
   "execution_count": 6,
   "metadata": {},
   "outputs": [],
   "source": [
    "data = data.dropna(axis=0)"
   ]
  },
  {
   "cell_type": "code",
   "execution_count": 7,
   "metadata": {},
   "outputs": [
    {
     "data": {
      "image/png": "[encoded data removed]",
      "text/plain": [
       "<Figure size 640x480 with 1 Axes>"
      ]
     },
     "metadata": {},
     "output_type": "display_data"
    }
   ],
   "source": [
    "sns.lineplot(data = data);"
   ]
  },
  {
   "cell_type": "code",
   "execution_count": 8,
   "metadata": {},
   "outputs": [
    {
     "data": {
      "text/plain": [
       "-0.0053835523827689595"
      ]
     },
     "execution_count": 8,
     "metadata": {},
     "output_type": "execute_result"
    }
   ],
   "source": [
    "np.mean(data.iloc[0])"
   ]
  },
  {
   "cell_type": "code",
   "execution_count": 9,
   "metadata": {},
   "outputs": [
    {
     "data": {
      "text/plain": [
       "AAPL     -0.016034\n",
       "BAS.DE    0.006319\n",
       "BMW.DE    0.015357\n",
       "DBK.DE   -0.010512\n",
       "GOOG     -0.025532\n",
       "RWE.DE   -0.001899\n",
       "Name: 0, dtype: float64"
      ]
     },
     "execution_count": 9,
     "metadata": {},
     "output_type": "execute_result"
    }
   ],
   "source": [
    "data.iloc[0]"
   ]
  },
  {
   "cell_type": "code",
   "execution_count": 10,
   "metadata": {},
   "outputs": [],
   "source": [
    "PF = data.mean(axis=1)"
   ]
  },
  {
   "cell_type": "code",
   "execution_count": 11,
   "metadata": {},
   "outputs": [
    {
     "data": {
      "image/png": "[encoded data removed]",
      "text/plain": [
       "<Figure size 640x480 with 1 Axes>"
      ]
     },
     "metadata": {},
     "output_type": "display_data"
    }
   ],
   "source": [
    "sns.lineplot(x = PF.index, y = PF);"
   ]
  },
  {
   "cell_type": "markdown",
   "metadata": {},
   "source": [
    "# ARMA-GARCH"
   ]
  },
  {
   "cell_type": "code",
   "execution_count": 12,
   "metadata": {},
   "outputs": [],
   "source": [
    "from arch import arch_model"
   ]
  },
  {
   "cell_type": "code",
   "execution_count": 13,
   "metadata": {},
   "outputs": [],
   "source": [
    "am = arch_model(data.AAPL*100, vol=\"Garch\", p=1, o=0, q=1, dist=\"skewt\")"
   ]
  },
  {
   "cell_type": "code",
   "execution_count": 14,
   "metadata": {},
   "outputs": [
    {
     "name": "stdout",
     "output_type": "stream",
     "text": [
      "Iteration:      1,   Func. Count:      8,   Neg. LLF: 61935.077983843315\n",
      "Iteration:      2,   Func. Count:     18,   Neg. LLF: 134546.11992867957\n",
      "Iteration:      3,   Func. Count:     27,   Neg. LLF: 80272.43956021735\n",
      "Iteration:      4,   Func. Count:     36,   Neg. LLF: 109181.22267121432\n",
      "Iteration:      5,   Func. Count:     45,   Neg. LLF: 5525.816311700843\n",
      "Iteration:      6,   Func. Count:     53,   Neg. LLF: 3863.196161878653\n",
      "Iteration:      7,   Func. Count:     61,   Neg. LLF: 5193.811342402383\n",
      "Iteration:      8,   Func. Count:     69,   Neg. LLF: 3858.979889701022\n",
      "Iteration:      9,   Func. Count:     77,   Neg. LLF: 3851.372131715998\n",
      "Iteration:     10,   Func. Count:     85,   Neg. LLF: 3851.160802844839\n",
      "Iteration:     11,   Func. Count:     93,   Neg. LLF: 3851.148449163922\n",
      "Iteration:     12,   Func. Count:    100,   Neg. LLF: 3851.148292241871\n",
      "Iteration:     13,   Func. Count:    107,   Neg. LLF: 3851.1482905285884\n",
      "Iteration:     14,   Func. Count:    113,   Neg. LLF: 3851.1482905285234\n",
      "Optimization terminated successfully    (Exit mode 0)\n",
      "            Current function value: 3851.1482905285884\n",
      "            Iterations: 14\n",
      "            Function evaluations: 113\n",
      "            Gradient evaluations: 14\n"
     ]
    }
   ],
   "source": [
    "res = am.fit()"
   ]
  },
  {
   "cell_type": "code",
   "execution_count": 15,
   "metadata": {},
   "outputs": [
    {
     "data": {
      "text/plain": [
       "0      -1.704851\n",
       "1      -0.286484\n",
       "2       0.561187\n",
       "3      -0.987518\n",
       "4      -1.245451\n",
       "          ...   \n",
       "2312    1.189455\n",
       "2313   -3.270290\n",
       "2314   -2.657302\n",
       "2315   -4.068681\n",
       "2319   -0.050227\n",
       "Name: resid, Length: 2134, dtype: float64"
      ]
     },
     "execution_count": 15,
     "metadata": {},
     "output_type": "execute_result"
    }
   ],
   "source": [
    "res.resid"
   ]
  },
  {
   "cell_type": "code",
   "execution_count": 40,
   "metadata": {},
   "outputs": [
    {
     "data": {
      "text/plain": [
       "mu          0.101441\n",
       "omega       0.150625\n",
       "alpha[1]    0.115298\n",
       "beta[1]     0.838461\n",
       "eta         4.398346\n",
       "lambda     -0.033146\n",
       "Name: params, dtype: float64"
      ]
     },
     "execution_count": 40,
     "metadata": {},
     "output_type": "execute_result"
    }
   ],
   "source": [
    "res.params"
   ]
  },
  {
   "cell_type": "code",
   "execution_count": 16,
   "metadata": {},
   "outputs": [],
   "source": [
    "def get_residuals(returns):\n",
    "    am = arch_model(100*returns, vol=\"Garch\", p=1, o=0, q=1, dist=\"skewt\")\n",
    "    res = am.fit()\n",
    "\n",
    "    return res.resid\n"
   ]
  },
  {
   "cell_type": "code",
   "execution_count": 17,
   "metadata": {},
   "outputs": [
    {
     "name": "stdout",
     "output_type": "stream",
     "text": [
      "0\n",
      "Iteration:      1,   Func. Count:      8,   Neg. LLF: 61935.077983843315\n",
      "Iteration:      2,   Func. Count:     18,   Neg. LLF: 134546.11992867957\n",
      "Iteration:      3,   Func. Count:     27,   Neg. LLF: 80272.43956021735\n",
      "Iteration:      4,   Func. Count:     36,   Neg. LLF: 109181.22267121432\n",
      "Iteration:      5,   Func. Count:     45,   Neg. LLF: 5525.816311700843\n",
      "Iteration:      6,   Func. Count:     53,   Neg. LLF: 3863.196161878653\n",
      "Iteration:      7,   Func. Count:     61,   Neg. LLF: 5193.811342402383\n",
      "Iteration:      8,   Func. Count:     69,   Neg. LLF: 3858.979889701022\n",
      "Iteration:      9,   Func. Count:     77,   Neg. LLF: 3851.372131715998\n",
      "Iteration:     10,   Func. Count:     85,   Neg. LLF: 3851.160802844839\n",
      "Iteration:     11,   Func. Count:     93,   Neg. LLF: 3851.148449163922\n",
      "Iteration:     12,   Func. Count:    100,   Neg. LLF: 3851.148292241871\n",
      "Iteration:     13,   Func. Count:    107,   Neg. LLF: 3851.1482905285884\n",
      "Iteration:     14,   Func. Count:    113,   Neg. LLF: 3851.1482905285234\n",
      "Optimization terminated successfully    (Exit mode 0)\n",
      "            Current function value: 3851.1482905285884\n",
      "            Iterations: 14\n",
      "            Function evaluations: 113\n",
      "            Gradient evaluations: 14\n",
      "1\n",
      "Iteration:      1,   Func. Count:      8,   Neg. LLF: 188099.41148981254\n",
      "Iteration:      2,   Func. Count:     18,   Neg. LLF: 643105.7230065268\n",
      "Iteration:      3,   Func. Count:     28,   Neg. LLF: 54424.52150621645\n",
      "Iteration:      4,   Func. Count:     37,   Neg. LLF: 12211.846637384298\n",
      "Iteration:      5,   Func. Count:     45,   Neg. LLF: 3805.5509791124196\n",
      "Iteration:      6,   Func. Count:     53,   Neg. LLF: 6655.4877851265255\n",
      "Iteration:      7,   Func. Count:     62,   Neg. LLF: 5952.302288151539\n",
      "Iteration:      8,   Func. Count:     70,   Neg. LLF: 3801.4619119223976\n",
      "Iteration:      9,   Func. Count:     78,   Neg. LLF: 3798.7221470203935\n",
      "Iteration:     10,   Func. Count:     86,   Neg. LLF: 3798.660560719369\n",
      "Iteration:     11,   Func. Count:     94,   Neg. LLF: 3798.5544499715916\n",
      "Iteration:     12,   Func. Count:    101,   Neg. LLF: 3798.5517720365397\n",
      "Iteration:     13,   Func. Count:    108,   Neg. LLF: 3798.5517598284546\n",
      "Iteration:     14,   Func. Count:    114,   Neg. LLF: 3798.551759828526\n",
      "Optimization terminated successfully    (Exit mode 0)\n",
      "            Current function value: 3798.5517598284546\n",
      "            Iterations: 14\n",
      "            Function evaluations: 114\n",
      "            Gradient evaluations: 14\n",
      "2\n",
      "Iteration:      1,   Func. Count:      8,   Neg. LLF: 99791.07071312328\n",
      "Iteration:      2,   Func. Count:     18,   Neg. LLF: 148887.2959156877\n",
      "Iteration:      3,   Func. Count:     28,   Neg. LLF: 35584.99750575601\n",
      "Iteration:      4,   Func. Count:     38,   Neg. LLF: 23057.998511139904\n",
      "Iteration:      5,   Func. Count:     47,   Neg. LLF: 6362.2195333906275\n",
      "Iteration:      6,   Func. Count:     55,   Neg. LLF: 4014.512377127965\n",
      "Iteration:      7,   Func. Count:     62,   Neg. LLF: 5741.246880291565\n",
      "Iteration:      8,   Func. Count:     70,   Neg. LLF: 164509.8700843107\n",
      "Iteration:      9,   Func. Count:     80,   Neg. LLF: 4012.2450534556024\n",
      "Iteration:     10,   Func. Count:     88,   Neg. LLF: 4011.8050521926743\n",
      "Iteration:     11,   Func. Count:     96,   Neg. LLF: 4011.4558686269293\n",
      "Iteration:     12,   Func. Count:    103,   Neg. LLF: 4011.452035098915\n",
      "Iteration:     13,   Func. Count:    110,   Neg. LLF: 4011.4518150738177\n",
      "Iteration:     14,   Func. Count:    117,   Neg. LLF: 4011.4518097432556\n",
      "Iteration:     15,   Func. Count:    123,   Neg. LLF: 4011.4518097431687\n",
      "Optimization terminated successfully    (Exit mode 0)\n",
      "            Current function value: 4011.4518097432556\n",
      "            Iterations: 15\n",
      "            Function evaluations: 123\n",
      "            Gradient evaluations: 15\n",
      "3\n",
      "Iteration:      1,   Func. Count:      8,   Neg. LLF: 103930.96071563708\n",
      "Iteration:      2,   Func. Count:     18,   Neg. LLF: 979209.0610392923\n",
      "Iteration:      3,   Func. Count:     29,   Neg. LLF: 91396.29259124323\n",
      "Iteration:      4,   Func. Count:     39,   Neg. LLF: 18388.971082259573\n",
      "Iteration:      5,   Func. Count:     48,   Neg. LLF: 4622.378140047067\n",
      "Iteration:      6,   Func. Count:     56,   Neg. LLF: 4617.974506768588\n",
      "Iteration:      7,   Func. Count:     64,   Neg. LLF: 5937.714506022993\n",
      "Iteration:      8,   Func. Count:     72,   Neg. LLF: 4608.263357060936\n",
      "Iteration:      9,   Func. Count:     80,   Neg. LLF: 4607.740308913888\n",
      "Iteration:     10,   Func. Count:     87,   Neg. LLF: 4607.736367809541\n",
      "Iteration:     11,   Func. Count:     94,   Neg. LLF: 4607.735784865997\n",
      "Iteration:     12,   Func. Count:    101,   Neg. LLF: 4607.735696444585\n",
      "Iteration:     13,   Func. Count:    108,   Neg. LLF: 4607.735694629486\n",
      "Iteration:     14,   Func. Count:    114,   Neg. LLF: 4607.7356946293785\n",
      "Optimization terminated successfully    (Exit mode 0)\n",
      "            Current function value: 4607.735694629486\n",
      "            Iterations: 14\n",
      "            Function evaluations: 114\n",
      "            Gradient evaluations: 14\n",
      "4\n",
      "Iteration:      1,   Func. Count:      8,   Neg. LLF: 59884.51655461735\n",
      "Iteration:      2,   Func. Count:     18,   Neg. LLF: 105150.98577467147\n",
      "Iteration:      3,   Func. Count:     27,   Neg. LLF: 10371.102503338689\n",
      "Iteration:      4,   Func. Count:     36,   Neg. LLF: 3882.660104694803\n",
      "Iteration:      5,   Func. Count:     44,   Neg. LLF: 5234.718523517793\n",
      "Iteration:      6,   Func. Count:     52,   Neg. LLF: 3661.824420689767\n",
      "Iteration:      7,   Func. Count:     60,   Neg. LLF: 3724.6323257706213\n",
      "Iteration:      8,   Func. Count:     68,   Neg. LLF: 3662.916810825668\n",
      "Iteration:      9,   Func. Count:     76,   Neg. LLF: 3729.1589140009587\n",
      "Iteration:     10,   Func. Count:     84,   Neg. LLF: 3656.0929807271423\n",
      "Iteration:     11,   Func. Count:     92,   Neg. LLF: 3663.6188197750303\n",
      "Iteration:     12,   Func. Count:    100,   Neg. LLF: 3662.3896978062485\n",
      "Iteration:     13,   Func. Count:    108,   Neg. LLF: 3670.0405598339166\n",
      "Iteration:     14,   Func. Count:    116,   Neg. LLF: 3658.6460968050724\n",
      "Iteration:     15,   Func. Count:    124,   Neg. LLF: 3665.997035717878\n",
      "Iteration:     16,   Func. Count:    132,   Neg. LLF: 3653.309201486253\n",
      "Iteration:     17,   Func. Count:    140,   Neg. LLF: 3653.0548180679984\n",
      "Iteration:     18,   Func. Count:    148,   Neg. LLF: 3653.047555991833\n",
      "Iteration:     19,   Func. Count:    156,   Neg. LLF: 3653.046266856467\n",
      "Iteration:     20,   Func. Count:    163,   Neg. LLF: 3653.0462479416765\n",
      "Iteration:     21,   Func. Count:    170,   Neg. LLF: 3653.0462282229782\n",
      "Iteration:     22,   Func. Count:    177,   Neg. LLF: 3653.046227466755\n",
      "Optimization terminated successfully    (Exit mode 0)\n",
      "            Current function value: 3653.046227466755\n",
      "            Iterations: 22\n",
      "            Function evaluations: 177\n",
      "            Gradient evaluations: 22\n",
      "5\n",
      "Iteration:      1,   Func. Count:      8,   Neg. LLF: 52415.35230523053\n",
      "Iteration:      2,   Func. Count:     18,   Neg. LLF: 198204.08005100553\n",
      "Iteration:      3,   Func. Count:     28,   Neg. LLF: 63595.94415079628\n",
      "Iteration:      4,   Func. Count:     37,   Neg. LLF: 54479.58388499591\n",
      "Iteration:      5,   Func. Count:     46,   Neg. LLF: 6377.375667353452\n",
      "Iteration:      6,   Func. Count:     54,   Neg. LLF: 4276.3436598074695\n",
      "Iteration:      7,   Func. Count:     62,   Neg. LLF: 5711.050285950225\n",
      "Iteration:      8,   Func. Count:     70,   Neg. LLF: 4266.613014271139\n",
      "Iteration:      9,   Func. Count:     78,   Neg. LLF: 4265.383541618115\n",
      "Iteration:     10,   Func. Count:     86,   Neg. LLF: 4265.5995113550325\n",
      "Iteration:     11,   Func. Count:     94,   Neg. LLF: 4265.136271221472\n",
      "Iteration:     12,   Func. Count:    101,   Neg. LLF: 4265.13594477639\n",
      "Iteration:     13,   Func. Count:    108,   Neg. LLF: 4265.135934416008\n",
      "Iteration:     14,   Func. Count:    115,   Neg. LLF: 4265.135931842916\n",
      "Iteration:     15,   Func. Count:    121,   Neg. LLF: 4265.135931842912\n",
      "Optimization terminated successfully    (Exit mode 0)\n",
      "            Current function value: 4265.135931842916\n",
      "            Iterations: 15\n",
      "            Function evaluations: 121\n",
      "            Gradient evaluations: 15\n"
     ]
    }
   ],
   "source": [
    "garch_results = pd.DataFrame()\n",
    "\n",
    "for i in range(0,data.shape[1]):\n",
    "    print(i)\n",
    "    garch_results[data.columns[i]] = get_residuals(data.iloc[:,i])\n",
    "    "
   ]
  },
  {
   "cell_type": "code",
   "execution_count": 18,
   "metadata": {},
   "outputs": [
    {
     "data": {
      "text/html": [
       "<div>\n",
       "<style scoped>\n",
       "    .dataframe tbody tr th:only-of-type {\n",
       "        vertical-align: middle;\n",
       "    }\n",
       "\n",
       "    .dataframe tbody tr th {\n",
       "        vertical-align: top;\n",
       "    }\n",
       "\n",
       "    .dataframe thead th {\n",
       "        text-align: right;\n",
       "    }\n",
       "</style>\n",
       "<table border=\"1\" class=\"dataframe\">\n",
       "  <thead>\n",
       "    <tr style=\"text-align: right;\">\n",
       "      <th></th>\n",
       "      <th>AAPL</th>\n",
       "      <th>BAS.DE</th>\n",
       "      <th>BMW.DE</th>\n",
       "      <th>DBK.DE</th>\n",
       "      <th>GOOG</th>\n",
       "      <th>RWE.DE</th>\n",
       "    </tr>\n",
       "  </thead>\n",
       "  <tbody>\n",
       "    <tr>\n",
       "      <th>0</th>\n",
       "      <td>-1.704851</td>\n",
       "      <td>0.586341</td>\n",
       "      <td>1.498647</td>\n",
       "      <td>-0.987272</td>\n",
       "      <td>-2.610575</td>\n",
       "      <td>-0.150218</td>\n",
       "    </tr>\n",
       "    <tr>\n",
       "      <th>1</th>\n",
       "      <td>-0.286484</td>\n",
       "      <td>-0.711489</td>\n",
       "      <td>0.842954</td>\n",
       "      <td>0.512985</td>\n",
       "      <td>-2.412860</td>\n",
       "      <td>-0.385219</td>\n",
       "    </tr>\n",
       "    <tr>\n",
       "      <th>2</th>\n",
       "      <td>0.561187</td>\n",
       "      <td>-0.351775</td>\n",
       "      <td>-1.390527</td>\n",
       "      <td>3.642227</td>\n",
       "      <td>1.266921</td>\n",
       "      <td>-0.107259</td>\n",
       "    </tr>\n",
       "    <tr>\n",
       "      <th>3</th>\n",
       "      <td>-0.987518</td>\n",
       "      <td>-1.164962</td>\n",
       "      <td>-1.533381</td>\n",
       "      <td>-1.146401</td>\n",
       "      <td>-0.208653</td>\n",
       "      <td>1.209313</td>\n",
       "    </tr>\n",
       "    <tr>\n",
       "      <th>4</th>\n",
       "      <td>-1.245451</td>\n",
       "      <td>-3.671295</td>\n",
       "      <td>-2.986508</td>\n",
       "      <td>-2.557640</td>\n",
       "      <td>-1.841603</td>\n",
       "      <td>-0.982927</td>\n",
       "    </tr>\n",
       "    <tr>\n",
       "      <th>...</th>\n",
       "      <td>...</td>\n",
       "      <td>...</td>\n",
       "      <td>...</td>\n",
       "      <td>...</td>\n",
       "      <td>...</td>\n",
       "      <td>...</td>\n",
       "    </tr>\n",
       "    <tr>\n",
       "      <th>2312</th>\n",
       "      <td>1.189455</td>\n",
       "      <td>0.325085</td>\n",
       "      <td>-0.755792</td>\n",
       "      <td>-0.145173</td>\n",
       "      <td>1.133693</td>\n",
       "      <td>-1.051507</td>\n",
       "    </tr>\n",
       "    <tr>\n",
       "      <th>2313</th>\n",
       "      <td>-3.270290</td>\n",
       "      <td>1.423555</td>\n",
       "      <td>-0.064252</td>\n",
       "      <td>-1.438676</td>\n",
       "      <td>-0.613014</td>\n",
       "      <td>0.975742</td>\n",
       "    </tr>\n",
       "    <tr>\n",
       "      <th>2314</th>\n",
       "      <td>-2.657302</td>\n",
       "      <td>-1.028189</td>\n",
       "      <td>-2.253358</td>\n",
       "      <td>-7.234579</td>\n",
       "      <td>-1.395708</td>\n",
       "      <td>-0.817979</td>\n",
       "    </tr>\n",
       "    <tr>\n",
       "      <th>2315</th>\n",
       "      <td>-4.068681</td>\n",
       "      <td>1.564814</td>\n",
       "      <td>0.088196</td>\n",
       "      <td>0.662120</td>\n",
       "      <td>-3.061202</td>\n",
       "      <td>-0.274041</td>\n",
       "    </tr>\n",
       "    <tr>\n",
       "      <th>2319</th>\n",
       "      <td>-0.050227</td>\n",
       "      <td>1.170393</td>\n",
       "      <td>1.158227</td>\n",
       "      <td>3.228146</td>\n",
       "      <td>-0.710929</td>\n",
       "      <td>2.576236</td>\n",
       "    </tr>\n",
       "  </tbody>\n",
       "</table>\n",
       "<p>2134 rows × 6 columns</p>\n",
       "</div>"
      ],
      "text/plain": [
       "          AAPL    BAS.DE    BMW.DE    DBK.DE      GOOG    RWE.DE\n",
       "0    -1.704851  0.586341  1.498647 -0.987272 -2.610575 -0.150218\n",
       "1    -0.286484 -0.711489  0.842954  0.512985 -2.412860 -0.385219\n",
       "2     0.561187 -0.351775 -1.390527  3.642227  1.266921 -0.107259\n",
       "3    -0.987518 -1.164962 -1.533381 -1.146401 -0.208653  1.209313\n",
       "4    -1.245451 -3.671295 -2.986508 -2.557640 -1.841603 -0.982927\n",
       "...        ...       ...       ...       ...       ...       ...\n",
       "2312  1.189455  0.325085 -0.755792 -0.145173  1.133693 -1.051507\n",
       "2313 -3.270290  1.423555 -0.064252 -1.438676 -0.613014  0.975742\n",
       "2314 -2.657302 -1.028189 -2.253358 -7.234579 -1.395708 -0.817979\n",
       "2315 -4.068681  1.564814  0.088196  0.662120 -3.061202 -0.274041\n",
       "2319 -0.050227  1.170393  1.158227  3.228146 -0.710929  2.576236\n",
       "\n",
       "[2134 rows x 6 columns]"
      ]
     },
     "execution_count": 18,
     "metadata": {},
     "output_type": "execute_result"
    }
   ],
   "source": [
    "garch_results"
   ]
  },
  {
   "cell_type": "code",
   "execution_count": 25,
   "metadata": {},
   "outputs": [],
   "source": [
    "# fit copula"
   ]
  },
  {
   "cell_type": "code",
   "execution_count": 65,
   "metadata": {},
   "outputs": [],
   "source": [
    "u = am.distribution.cdf(garch_results, parameters=[res.params[\"eta\"], res.params[\"lambda\"]])"
   ]
  },
  {
   "cell_type": "code",
   "execution_count": 66,
   "metadata": {},
   "outputs": [],
   "source": [
    "cop = pv.Vinecop(u)"
   ]
  },
  {
   "cell_type": "code",
   "execution_count": 71,
   "metadata": {},
   "outputs": [],
   "source": [
    "sim = cop.simulate(100)"
   ]
  },
  {
   "cell_type": "code",
   "execution_count": 74,
   "metadata": {},
   "outputs": [
    {
     "data": {
      "text/plain": [
       "(100, 6)"
      ]
     },
     "execution_count": 74,
     "metadata": {},
     "output_type": "execute_result"
    }
   ],
   "source": [
    "sim.shape"
   ]
  },
  {
   "cell_type": "code",
   "execution_count": 75,
   "metadata": {},
   "outputs": [],
   "source": [
    "new_res = am.distribution.ppf(sim, parameters=[res.params[\"eta\"], res.params[\"lambda\"]])"
   ]
  },
  {
   "cell_type": "code",
   "execution_count": 77,
   "metadata": {},
   "outputs": [
    {
     "data": {
      "text/plain": [
       "(100, 6)"
      ]
     },
     "execution_count": 77,
     "metadata": {},
     "output_type": "execute_result"
    }
   ],
   "source": [
    "new_res.shape"
   ]
  },
  {
   "cell_type": "code",
   "execution_count": 91,
   "metadata": {},
   "outputs": [],
   "source": [
    "import numpy as np"
   ]
  },
  {
   "cell_type": "code",
   "execution_count": 96,
   "metadata": {},
   "outputs": [
    {
     "data": {
      "image/png": "[encoded data removed]",
      "text/plain": [
       "<Figure size 640x480 with 1 Axes>"
      ]
     },
     "metadata": {},
     "output_type": "display_data"
    }
   ],
   "source": [
    "bins = np.linspace(-10, 10, 100)\n",
    "plt.hist(new_res[:,0], alpha=0.5, label='simulated', density=True)\n",
    "plt.hist(garch_results.iloc[0:100,0], alpha=0.5, label='original', density=True)\n",
    "plt.legend(loc='upper right')\n",
    "plt.show()"
   ]
  },
  {
   "cell_type": "code",
   "execution_count": 88,
   "metadata": {},
   "outputs": [
    {
     "data": {
      "text/plain": [
       "100"
      ]
     },
     "execution_count": 88,
     "metadata": {},
     "output_type": "execute_result"
    }
   ],
   "source": [
    "new_res[:,0].size"
   ]
  },
  {
   "cell_type": "code",
   "execution_count": 84,
   "metadata": {},
   "outputs": [
    {
     "data": {
      "text/plain": [
       "(array([1.000e+00, 0.000e+00, 3.000e+00, 1.500e+01, 1.170e+02, 7.590e+02,\n",
       "        1.077e+03, 1.390e+02, 1.900e+01, 4.000e+00]),\n",
       " array([-13.28987718, -11.12081292,  -8.95174866,  -6.7826844 ,\n",
       "         -4.61362014,  -2.44455588,  -0.27549162,   1.89357264,\n",
       "          4.06263691,   6.23170117,   8.40076543]),\n",
       " <BarContainer object of 10 artists>)"
      ]
     },
     "execution_count": 84,
     "metadata": {},
     "output_type": "execute_result"
    },
    {
     "data": {
      "image/png": "[encoded data removed]",
      "text/plain": [
       "<Figure size 640x480 with 1 Axes>"
      ]
     },
     "metadata": {},
     "output_type": "display_data"
    }
   ],
   "source": [
    "plt.hist(garch_results.iloc[:,0])"
   ]
  },
  {
   "cell_type": "code",
   "execution_count": 83,
   "metadata": {},
   "outputs": [
    {
     "ename": "InvalidIndexError",
     "evalue": "(slice(None, None, None), 0)",
     "output_type": "error",
     "traceback": [
      "\u001b[1;31m---------------------------------------------------------------------------\u001b[0m",
      "\u001b[1;31mTypeError\u001b[0m                                 Traceback (most recent call last)",
      "File \u001b[1;32mc:\\Users\\morit\\anaconda3\\envs\\copulagarch\\lib\\site-packages\\pandas\\core\\indexes\\base.py:3629\u001b[0m, in \u001b[0;36mIndex.get_loc\u001b[1;34m(self, key, method, tolerance)\u001b[0m\n\u001b[0;32m   3628\u001b[0m \u001b[39mtry\u001b[39;00m:\n\u001b[1;32m-> 3629\u001b[0m     \u001b[39mreturn\u001b[39;00m \u001b[39mself\u001b[39;49m\u001b[39m.\u001b[39;49m_engine\u001b[39m.\u001b[39;49mget_loc(casted_key)\n\u001b[0;32m   3630\u001b[0m \u001b[39mexcept\u001b[39;00m \u001b[39mKeyError\u001b[39;00m \u001b[39mas\u001b[39;00m err:\n",
      "File \u001b[1;32mc:\\Users\\morit\\anaconda3\\envs\\copulagarch\\lib\\site-packages\\pandas\\_libs\\index.pyx:136\u001b[0m, in \u001b[0;36mpandas._libs.index.IndexEngine.get_loc\u001b[1;34m()\u001b[0m\n",
      "File \u001b[1;32mc:\\Users\\morit\\anaconda3\\envs\\copulagarch\\lib\\site-packages\\pandas\\_libs\\index.pyx:142\u001b[0m, in \u001b[0;36mpandas._libs.index.IndexEngine.get_loc\u001b[1;34m()\u001b[0m\n",
      "\u001b[1;31mTypeError\u001b[0m: '(slice(None, None, None), 0)' is an invalid key",
      "\nDuring handling of the above exception, another exception occurred:\n",
      "\u001b[1;31mInvalidIndexError\u001b[0m                         Traceback (most recent call last)",
      "\u001b[1;32mc:\\Users\\morit\\Dropbox\\Data Science\\Git\\VaR\\VineCopula-GARCH-for-Value-at-Risk-Prediction\\VaR.ipynb Cell 30\u001b[0m in \u001b[0;36m<cell line: 1>\u001b[1;34m()\u001b[0m\n\u001b[1;32m----> <a href='vscode-notebook-cell:/c%3A/Users/morit/Dropbox/Data%20Science/Git/VaR/VineCopula-GARCH-for-Value-at-Risk-Prediction/VaR.ipynb#X61sZmlsZQ%3D%3D?line=0'>1</a>\u001b[0m garch_results[:,\u001b[39m0\u001b[39;49m]\n",
      "File \u001b[1;32mc:\\Users\\morit\\anaconda3\\envs\\copulagarch\\lib\\site-packages\\pandas\\core\\frame.py:3505\u001b[0m, in \u001b[0;36mDataFrame.__getitem__\u001b[1;34m(self, key)\u001b[0m\n\u001b[0;32m   3503\u001b[0m \u001b[39mif\u001b[39;00m \u001b[39mself\u001b[39m\u001b[39m.\u001b[39mcolumns\u001b[39m.\u001b[39mnlevels \u001b[39m>\u001b[39m \u001b[39m1\u001b[39m:\n\u001b[0;32m   3504\u001b[0m     \u001b[39mreturn\u001b[39;00m \u001b[39mself\u001b[39m\u001b[39m.\u001b[39m_getitem_multilevel(key)\n\u001b[1;32m-> 3505\u001b[0m indexer \u001b[39m=\u001b[39m \u001b[39mself\u001b[39;49m\u001b[39m.\u001b[39;49mcolumns\u001b[39m.\u001b[39;49mget_loc(key)\n\u001b[0;32m   3506\u001b[0m \u001b[39mif\u001b[39;00m is_integer(indexer):\n\u001b[0;32m   3507\u001b[0m     indexer \u001b[39m=\u001b[39m [indexer]\n",
      "File \u001b[1;32mc:\\Users\\morit\\anaconda3\\envs\\copulagarch\\lib\\site-packages\\pandas\\core\\indexes\\base.py:3636\u001b[0m, in \u001b[0;36mIndex.get_loc\u001b[1;34m(self, key, method, tolerance)\u001b[0m\n\u001b[0;32m   3631\u001b[0m         \u001b[39mraise\u001b[39;00m \u001b[39mKeyError\u001b[39;00m(key) \u001b[39mfrom\u001b[39;00m \u001b[39merr\u001b[39;00m\n\u001b[0;32m   3632\u001b[0m     \u001b[39mexcept\u001b[39;00m \u001b[39mTypeError\u001b[39;00m:\n\u001b[0;32m   3633\u001b[0m         \u001b[39m# If we have a listlike key, _check_indexing_error will raise\u001b[39;00m\n\u001b[0;32m   3634\u001b[0m         \u001b[39m#  InvalidIndexError. Otherwise we fall through and re-raise\u001b[39;00m\n\u001b[0;32m   3635\u001b[0m         \u001b[39m#  the TypeError.\u001b[39;00m\n\u001b[1;32m-> 3636\u001b[0m         \u001b[39mself\u001b[39;49m\u001b[39m.\u001b[39;49m_check_indexing_error(key)\n\u001b[0;32m   3637\u001b[0m         \u001b[39mraise\u001b[39;00m\n\u001b[0;32m   3639\u001b[0m \u001b[39m# GH#42269\u001b[39;00m\n",
      "File \u001b[1;32mc:\\Users\\morit\\anaconda3\\envs\\copulagarch\\lib\\site-packages\\pandas\\core\\indexes\\base.py:5651\u001b[0m, in \u001b[0;36mIndex._check_indexing_error\u001b[1;34m(self, key)\u001b[0m\n\u001b[0;32m   5647\u001b[0m \u001b[39mdef\u001b[39;00m \u001b[39m_check_indexing_error\u001b[39m(\u001b[39mself\u001b[39m, key):\n\u001b[0;32m   5648\u001b[0m     \u001b[39mif\u001b[39;00m \u001b[39mnot\u001b[39;00m is_scalar(key):\n\u001b[0;32m   5649\u001b[0m         \u001b[39m# if key is not a scalar, directly raise an error (the code below\u001b[39;00m\n\u001b[0;32m   5650\u001b[0m         \u001b[39m# would convert to numpy arrays and raise later any way) - GH29926\u001b[39;00m\n\u001b[1;32m-> 5651\u001b[0m         \u001b[39mraise\u001b[39;00m InvalidIndexError(key)\n",
      "\u001b[1;31mInvalidIndexError\u001b[0m: (slice(None, None, None), 0)"
     ]
    }
   ],
   "source": [
    "garch_results[:,0]"
   ]
  },
  {
   "cell_type": "code",
   "execution_count": 62,
   "metadata": {},
   "outputs": [],
   "source": [
    "q = am.distribution.cdf(garch_results.iloc[:,0], parameters=[res.params[\"eta\"], res.params[\"lambda\"]])"
   ]
  },
  {
   "cell_type": "code",
   "execution_count": 54,
   "metadata": {},
   "outputs": [],
   "source": [
    "import matplotlib.pyplot as plt"
   ]
  },
  {
   "cell_type": "code",
   "execution_count": 59,
   "metadata": {},
   "outputs": [
    {
     "data": {
      "text/plain": [
       "(array([1.000e+00, 0.000e+00, 3.000e+00, 1.500e+01, 1.170e+02, 7.590e+02,\n",
       "        1.077e+03, 1.390e+02, 1.900e+01, 4.000e+00]),\n",
       " array([-13.28987718, -11.12081292,  -8.95174866,  -6.7826844 ,\n",
       "         -4.61362014,  -2.44455588,  -0.27549162,   1.89357264,\n",
       "          4.06263691,   6.23170117,   8.40076543]),\n",
       " <BarContainer object of 10 artists>)"
      ]
     },
     "execution_count": 59,
     "metadata": {},
     "output_type": "execute_result"
    },
    {
     "data": {
      "image/png": "[encoded data removed]",
      "text/plain": [
       "<Figure size 640x480 with 1 Axes>"
      ]
     },
     "metadata": {},
     "output_type": "display_data"
    }
   ],
   "source": [
    "plt.hist(garch_results.iloc[:,0])"
   ]
  },
  {
   "cell_type": "code",
   "execution_count": 69,
   "metadata": {},
   "outputs": [
    {
     "data": {
      "text/plain": [
       "array([0.03982838, 0.35221148, 0.75431214, ..., 0.01051957, 0.00223517,\n",
       "       0.46668172])"
      ]
     },
     "execution_count": 69,
     "metadata": {},
     "output_type": "execute_result"
    }
   ],
   "source": [
    "u[:,0]"
   ]
  },
  {
   "cell_type": "code",
   "execution_count": 70,
   "metadata": {},
   "outputs": [
    {
     "data": {
      "text/plain": [
       "(array([404., 205., 186., 166., 138., 136., 119., 167., 194., 419.]),\n",
       " array([1.60607243e-05, 1.00005939e-01, 1.99995817e-01, 2.99985695e-01,\n",
       "        3.99975574e-01, 4.99965452e-01, 5.99955330e-01, 6.99945208e-01,\n",
       "        7.99935087e-01, 8.99924965e-01, 9.99914843e-01]),\n",
       " <BarContainer object of 10 artists>)"
      ]
     },
     "execution_count": 70,
     "metadata": {},
     "output_type": "execute_result"
    },
    {
     "data": {
      "image/png": "[encoded data removed]",
      "text/plain": [
       "<Figure size 640x480 with 1 Axes>"
      ]
     },
     "metadata": {},
     "output_type": "display_data"
    }
   ],
   "source": [
    "plt.hist(u[:,0])"
   ]
  },
  {
   "cell_type": "markdown",
   "metadata": {},
   "source": [
    "# Copula VaR"
   ]
  },
  {
   "cell_type": "code",
   "execution_count": null,
   "metadata": {},
   "outputs": [],
   "source": []
  },
  {
   "cell_type": "code",
   "execution_count": 19,
   "metadata": {},
   "outputs": [],
   "source": [
    "u = pv.to_pseudo_obs(data)"
   ]
  },
  {
   "cell_type": "code",
   "execution_count": 20,
   "metadata": {},
   "outputs": [],
   "source": [
    "cop = pv.Vinecop(u)"
   ]
  },
  {
   "cell_type": "code",
   "execution_count": 21,
   "metadata": {},
   "outputs": [
    {
     "data": {
      "text/plain": [
       "-4671.504980797427"
      ]
     },
     "execution_count": 21,
     "metadata": {},
     "output_type": "execute_result"
    }
   ],
   "source": [
    "cop.aic()"
   ]
  },
  {
   "cell_type": "code",
   "execution_count": 22,
   "metadata": {},
   "outputs": [
    {
     "data": {
      "text/plain": [
       "[[<BicopFamily.tll: 11>,\n",
       "  <BicopFamily.tll: 11>,\n",
       "  <BicopFamily.student: 2>,\n",
       "  <BicopFamily.student: 2>,\n",
       "  <BicopFamily.tll: 11>],\n",
       " [<BicopFamily.tll: 11>,\n",
       "  <BicopFamily.tll: 11>,\n",
       "  <BicopFamily.tll: 11>,\n",
       "  <BicopFamily.tll: 11>],\n",
       " [<BicopFamily.tll: 11>, <BicopFamily.bb8: 10>, <BicopFamily.frank: 5>],\n",
       " [<BicopFamily.tll: 11>, <BicopFamily.tll: 11>],\n",
       " [<BicopFamily.joe: 6>]]"
      ]
     },
     "execution_count": 22,
     "metadata": {},
     "output_type": "execute_result"
    }
   ],
   "source": [
    "cop.families"
   ]
  },
  {
   "cell_type": "code",
   "execution_count": 23,
   "metadata": {},
   "outputs": [
    {
     "data": {
      "text/plain": [
       "<pyvinecopulib.RVineStructure>\n",
       "5 2 2 2 6 6 \n",
       "2 4 4 6 2 \n",
       "4 3 6 4 \n",
       "3 6 3 \n",
       "6 5 \n",
       "1 "
      ]
     },
     "execution_count": 23,
     "metadata": {},
     "output_type": "execute_result"
    }
   ],
   "source": [
    "cop.structure"
   ]
  },
  {
   "cell_type": "code",
   "execution_count": 24,
   "metadata": {},
   "outputs": [
    {
     "data": {
      "text/plain": [
       "array([[0.70590085, 0.91635232, 0.79233755, 0.25962911, 0.11004199,\n",
       "        0.49971536],\n",
       "       [0.55078693, 0.77716786, 0.10854197, 0.9193415 , 0.27094815,\n",
       "        0.9147691 ],\n",
       "       [0.95002445, 0.98460608, 0.95863757, 0.91454945, 0.89596877,\n",
       "        0.88821579],\n",
       "       [0.62881916, 0.83888238, 0.8704798 , 0.87734805, 0.93095078,\n",
       "        0.69166315],\n",
       "       [0.88367507, 0.55191066, 0.40731545, 0.23337414, 0.47389228,\n",
       "        0.95218373],\n",
       "       [0.24291048, 0.01168178, 0.00535425, 0.01481295, 0.04378578,\n",
       "        0.04892399],\n",
       "       [0.22105764, 0.61442313, 0.84154417, 0.67159902, 0.36033617,\n",
       "        0.12541943],\n",
       "       [0.96955313, 0.43274171, 0.95457291, 0.84029643, 0.9013945 ,\n",
       "        0.69623825],\n",
       "       [0.11846441, 0.02766465, 0.25783091, 0.16040748, 0.37256399,\n",
       "        0.06844072],\n",
       "       [0.8520327 , 0.48079444, 0.22664521, 0.85706014, 0.94403932,\n",
       "        0.04733985],\n",
       "       [0.76771437, 0.35660364, 0.37351091, 0.28319785, 0.78840472,\n",
       "        0.63817848],\n",
       "       [0.07491526, 0.12705658, 0.24080699, 0.22254664, 0.05383709,\n",
       "        0.22813931],\n",
       "       [0.36853057, 0.52550556, 0.64359208, 0.56432919, 0.50455234,\n",
       "        0.65882583],\n",
       "       [0.33000247, 0.34360692, 0.44770979, 0.33882757, 0.127806  ,\n",
       "        0.0833153 ],\n",
       "       [0.28110133, 0.47870747, 0.06193284, 0.15953122, 0.61994196,\n",
       "        0.05770638],\n",
       "       [0.24122224, 0.62394783, 0.4404689 , 0.53039067, 0.10623125,\n",
       "        0.45057161],\n",
       "       [0.32882287, 0.91655207, 0.35180593, 0.70151758, 0.3519716 ,\n",
       "        0.02329997],\n",
       "       [0.34010177, 0.57779961, 0.62722472, 0.79841362, 0.53133411,\n",
       "        0.9898668 ],\n",
       "       [0.38891736, 0.08221233, 0.18973599, 0.23506222, 0.12113031,\n",
       "        0.20102935],\n",
       "       [0.67465062, 0.52645573, 0.24456678, 0.22013609, 0.69911649,\n",
       "        0.27639665],\n",
       "       [0.85240769, 0.65020701, 0.8181825 , 0.64963541, 0.64283906,\n",
       "        0.06333827],\n",
       "       [0.52983205, 0.92594069, 0.50933106, 0.44236097, 0.94701889,\n",
       "        0.06423305],\n",
       "       [0.83461342, 0.03738229, 0.13092246, 0.10218371, 0.68903501,\n",
       "        0.30254858],\n",
       "       [0.16275401, 0.19930915, 0.27814944, 0.27196756, 0.05411749,\n",
       "        0.46334425],\n",
       "       [0.5147397 , 0.2586736 , 0.36690709, 0.78727133, 0.4193451 ,\n",
       "        0.44499425],\n",
       "       [0.18917059, 0.46527312, 0.274471  , 0.36892992, 0.77179408,\n",
       "        0.30547455],\n",
       "       [0.78118959, 0.39268589, 0.58967952, 0.19435691, 0.25717724,\n",
       "        0.12394711],\n",
       "       [0.63634171, 0.93913365, 0.90687749, 0.33785192, 0.7434965 ,\n",
       "        0.95936426],\n",
       "       [0.20555574, 0.54126134, 0.1080982 , 0.78076922, 0.17450074,\n",
       "        0.50063063],\n",
       "       [0.42364539, 0.38060523, 0.20661085, 0.87546376, 0.73006281,\n",
       "        0.50859519],\n",
       "       [0.09061951, 0.03040665, 0.02446896, 0.2014166 , 0.1554136 ,\n",
       "        0.30222078],\n",
       "       [0.7463286 , 0.08755759, 0.35647533, 0.05145574, 0.19580511,\n",
       "        0.06125223],\n",
       "       [0.80445826, 0.30439146, 0.91069812, 0.32214906, 0.82455   ,\n",
       "        0.20656757],\n",
       "       [0.01065266, 0.03326292, 0.18328735, 0.13961316, 0.02923826,\n",
       "        0.10758226],\n",
       "       [0.19294149, 0.20643043, 0.44422635, 0.66508071, 0.81092507,\n",
       "        0.98626176],\n",
       "       [0.34214862, 0.07590211, 0.17053268, 0.04145063, 0.33730915,\n",
       "        0.06511328],\n",
       "       [0.73947149, 0.37064804, 0.43567848, 0.41041041, 0.67656649,\n",
       "        0.54272223],\n",
       "       [0.13744387, 0.25039413, 0.42113317, 0.42005836, 0.28436014,\n",
       "        0.81209666],\n",
       "       [0.18553178, 0.78565382, 0.82706755, 0.58200414, 0.44345723,\n",
       "        0.94909677],\n",
       "       [0.01754085, 0.86588528, 0.76798194, 0.04377126, 0.01189579,\n",
       "        0.28704677],\n",
       "       [0.34221662, 0.7670801 , 0.86666993, 0.57391449, 0.6995575 ,\n",
       "        0.49815661],\n",
       "       [0.02539082, 0.08887896, 0.84174608, 0.35822937, 0.44624005,\n",
       "        0.89208079],\n",
       "       [0.05793319, 0.05838576, 0.25013078, 0.38050697, 0.03804212,\n",
       "        0.24139422],\n",
       "       [0.15321704, 0.95047539, 0.94250513, 0.96692645, 0.67279086,\n",
       "        0.40792616],\n",
       "       [0.29820528, 0.51797259, 0.5679932 , 0.84688272, 0.47676143,\n",
       "        0.76857161],\n",
       "       [0.53450457, 0.5460507 , 0.82242486, 0.66738932, 0.27472919,\n",
       "        0.37245857],\n",
       "       [0.82835297, 0.71024873, 0.39762086, 0.2582849 , 0.48786079,\n",
       "        0.7346557 ],\n",
       "       [0.64131269, 0.41008342, 0.63570351, 0.39934452, 0.88060537,\n",
       "        0.45261491],\n",
       "       [0.7120568 , 0.64465289, 0.48462562, 0.85321696, 0.52538927,\n",
       "        0.49195345],\n",
       "       [0.10844195, 0.2016926 , 0.4601004 , 0.56882035, 0.17037447,\n",
       "        0.54542942],\n",
       "       [0.46471601, 0.18830242, 0.25174697, 0.5833299 , 0.61414405,\n",
       "        0.76773917],\n",
       "       [0.47966653, 0.74562242, 0.56581206, 0.5071162 , 0.52869064,\n",
       "        0.25496242],\n",
       "       [0.39151021, 0.74983146, 0.82417736, 0.74014762, 0.12652923,\n",
       "        0.78584727],\n",
       "       [0.12523439, 0.05118503, 0.0220033 , 0.03222288, 0.03028512,\n",
       "        0.20909429],\n",
       "       [0.60035155, 0.6646266 , 0.55667142, 0.51447026, 0.28961122,\n",
       "        0.05708836],\n",
       "       [0.30646837, 0.41362582, 0.56173511, 0.76593422, 0.31238985,\n",
       "        0.71304564],\n",
       "       [0.2246294 , 0.90516752, 0.96944978, 0.65013411, 0.94230629,\n",
       "        0.89439284],\n",
       "       [0.9314492 , 0.93580391, 0.94746985, 0.99341255, 0.66885503,\n",
       "        0.99725192],\n",
       "       [0.41189949, 0.51463177, 0.06793506, 0.2120178 , 0.64343058,\n",
       "        0.29280234],\n",
       "       [0.78288857, 0.61545496, 0.66044138, 0.84395764, 0.57542936,\n",
       "        0.35617269],\n",
       "       [0.69144414, 0.08615969, 0.06237565, 0.2936242 , 0.68612843,\n",
       "        0.32231058],\n",
       "       [0.21723934, 0.60797681, 0.6381909 , 0.5703496 , 0.44759288,\n",
       "        0.67450021],\n",
       "       [0.294311  , 0.34905704, 0.94120177, 0.8047126 , 0.82420233,\n",
       "        0.83128079],\n",
       "       [0.70118158, 0.9416598 , 0.94235062, 0.54707306, 0.70628343,\n",
       "        0.97472493],\n",
       "       [0.40060358, 0.14168698, 0.1769635 , 0.48461668, 0.88187214,\n",
       "        0.07032972],\n",
       "       [0.58767164, 0.21284745, 0.82559878, 0.48658087, 0.5490735 ,\n",
       "        0.61882758],\n",
       "       [0.27336925, 0.14364593, 0.34122007, 0.18076406, 0.14993272,\n",
       "        0.3355861 ],\n",
       "       [0.44508097, 0.76932863, 0.54565198, 0.46705662, 0.5268118 ,\n",
       "        0.35915405],\n",
       "       [0.4709885 , 0.47270773, 0.14262037, 0.04542986, 0.63726923,\n",
       "        0.25766309],\n",
       "       [0.38115825, 0.29825561, 0.2923497 , 0.24451186, 0.20710435,\n",
       "        0.4064459 ],\n",
       "       [0.86225976, 0.74386255, 0.89814054, 0.23041946, 0.15883651,\n",
       "        0.92981227],\n",
       "       [0.47627893, 0.13137293, 0.0862764 , 0.26459288, 0.20226454,\n",
       "        0.10432016],\n",
       "       [0.85733005, 0.0654345 , 0.53989488, 0.35760158, 0.72911526,\n",
       "        0.74236387],\n",
       "       [0.57463875, 0.95589836, 0.97541981, 0.80415272, 0.47898891,\n",
       "        0.97565955],\n",
       "       [0.80679298, 0.45849415, 0.73252796, 0.46372487, 0.90654424,\n",
       "        0.74545322],\n",
       "       [0.68705037, 0.88631761, 0.94514676, 0.66447312, 0.86623128,\n",
       "        0.49082783],\n",
       "       [0.89959304, 0.91325813, 0.81362392, 0.86126793, 0.93150167,\n",
       "        0.90866194],\n",
       "       [0.8735998 , 0.70154737, 0.61488642, 0.69020653, 0.20357637,\n",
       "        0.5490109 ],\n",
       "       [0.9341431 , 0.95320768, 0.64579725, 0.79570182, 0.84467155,\n",
       "        0.68935183],\n",
       "       [0.61349517, 0.47335613, 0.25963282, 0.0798452 , 0.95332866,\n",
       "        0.14874603],\n",
       "       [0.42958934, 0.98439388, 0.83133473, 0.92513801, 0.55289254,\n",
       "        0.92685356],\n",
       "       [0.9149573 , 0.86990256, 0.81162532, 0.60211661, 0.91024343,\n",
       "        0.79395258],\n",
       "       [0.55150019, 0.10773605, 0.60970819, 0.41110679, 0.14352513,\n",
       "        0.71762016],\n",
       "       [0.37031861, 0.87267599, 0.29570372, 0.59820401, 0.23077667,\n",
       "        0.68795627],\n",
       "       [0.27389007, 0.37383449, 0.43147092, 0.3051308 , 0.83122209,\n",
       "        0.30842529],\n",
       "       [0.50895465, 0.28034877, 0.09999624, 0.07687055, 0.30391901,\n",
       "        0.23656012],\n",
       "       [0.23432225, 0.42667688, 0.3049474 , 0.79232516, 0.302201  ,\n",
       "        0.5508411 ],\n",
       "       [0.14301342, 0.88974693, 0.70440602, 0.78451329, 0.21768481,\n",
       "        0.90860663],\n",
       "       [0.14039814, 0.46984765, 0.6710406 , 0.61800289, 0.2109138 ,\n",
       "        0.5975648 ],\n",
       "       [0.86103745, 0.77845048, 0.73410659, 0.4272342 , 0.82263284,\n",
       "        0.49808035],\n",
       "       [0.31285928, 0.36601875, 0.1636937 , 0.03117174, 0.28461748,\n",
       "        0.06820363],\n",
       "       [0.09467113, 0.70559856, 0.53112922, 0.10624008, 0.98748076,\n",
       "        0.59939574],\n",
       "       [0.3550041 , 0.3322289 , 0.26111861, 0.23774872, 0.28507687,\n",
       "        0.66999493],\n",
       "       [0.59628856, 0.77764638, 0.72314031, 0.64130608, 0.65996689,\n",
       "        0.96299912],\n",
       "       [0.50239441, 0.41898977, 0.6731031 , 0.9429636 , 0.32093298,\n",
       "        0.18490313],\n",
       "       [0.36836464, 0.51190657, 0.08460024, 0.32058099, 0.67364021,\n",
       "        0.87301193],\n",
       "       [0.85889151, 0.38421776, 0.62524621, 0.72593316, 0.89728162,\n",
       "        0.77724585],\n",
       "       [0.83229413, 0.30244446, 0.31970517, 0.20340793, 0.57482389,\n",
       "        0.43202015],\n",
       "       [0.94095204, 0.92017913, 0.89035102, 0.59739179, 0.6416003 ,\n",
       "        0.64487767],\n",
       "       [0.2904064 , 0.76468646, 0.75379998, 0.38130084, 0.81487225,\n",
       "        0.89067462]])"
      ]
     },
     "execution_count": 24,
     "metadata": {},
     "output_type": "execute_result"
    }
   ],
   "source": [
    "cop.simulate(100)"
   ]
  },
  {
   "cell_type": "code",
   "execution_count": null,
   "metadata": {},
   "outputs": [],
   "source": []
  }
 ],
 "metadata": {
  "kernelspec": {
   "display_name": "Python 3.10.6 ('copulagarch')",
   "language": "python",
   "name": "python3"
  },
  "language_info": {
   "codemirror_mode": {
    "name": "ipython",
    "version": 3
   },
   "file_extension": ".py",
   "mimetype": "text/x-python",
   "name": "python",
   "nbconvert_exporter": "python",
   "pygments_lexer": "ipython3",
   "version": "3.10.6"
  },
  "orig_nbformat": 4,
  "vscode": {
   "interpreter": {
    "hash": "a490e930fd559b7c08cc23e0a3dd49c3f7c65b4ff0c36f455d90d339662a10ad"
   }
  }
 },
 "nbformat": 4,
 "nbformat_minor": 2
}
